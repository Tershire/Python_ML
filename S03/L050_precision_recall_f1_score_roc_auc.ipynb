{
 "cells": [
  {
   "cell_type": "code",
   "execution_count": 1,
   "id": "a6b6f7bd",
   "metadata": {},
   "outputs": [],
   "source": [
    "# 2023 NOV 02"
   ]
  },
  {
   "cell_type": "code",
   "execution_count": 2,
   "id": "f4fce349",
   "metadata": {},
   "outputs": [],
   "source": [
    "import sklearn\n",
    "import numpy as np\n",
    "import pandas as pd"
   ]
  },
  {
   "cell_type": "markdown",
   "id": "653a1a24",
   "metadata": {},
   "source": [
    "# prepare data"
   ]
  },
  {
   "cell_type": "markdown",
   "id": "a43d0896",
   "metadata": {},
   "source": [
    "## example #1: titanic dataset"
   ]
  },
  {
   "cell_type": "markdown",
   "id": "21e4fa8b",
   "metadata": {},
   "source": [
    "* functions for pre-processing"
   ]
  },
  {
   "cell_type": "code",
   "execution_count": 3,
   "id": "49f3c5e5",
   "metadata": {},
   "outputs": [],
   "source": [
    "from sklearn.preprocessing import LabelEncoder\n",
    "\n",
    "# drop\n",
    "def drop_features(df, features):\n",
    "    df.drop(features, axis=1, inplace=True)\n",
    "    \n",
    "# encode\n",
    "def encode_features(df, features):\n",
    "    encoder = LabelEncoder()\n",
    "    for feature in features:\n",
    "        encoder.fit(df[feature])\n",
    "        df[feature] = encoder.transform(df[feature])\n",
    "        \n",
    "# null\n",
    "def fill_nulls(df, instructions):\n",
    "    for feature, method in instructions.items():\n",
    "        if method == \"N\":\n",
    "            df[feature].fillna(\"N\", inplace=True)\n",
    "        elif method == \"mean\":\n",
    "            df[feature].fillna(df[feature].mean(), inplace=True)\n",
    "        else:\n",
    "            print(\"<!> unknown method\")\n",
    "            \n",
    "# combined\n",
    "def preprocess_features(df, features_to_drop, instructions_to_fill_null, features_to_encode):\n",
    "    drop_features(df, features_to_drop)\n",
    "    fill_nulls(df, instructions_to_fill_null)\n",
    "    \n",
    "    print(\"number of nulls in dataset:\", df.isnull().sum().sum())\n",
    "    \n",
    "    encode_features(df, features_to_encode)"
   ]
  },
  {
   "cell_type": "markdown",
   "id": "3d0d609c",
   "metadata": {},
   "source": [
    "* load, extract, and pre-process data"
   ]
  },
  {
   "cell_type": "code",
   "execution_count": 4,
   "id": "1ddf5f12",
   "metadata": {},
   "outputs": [
    {
     "name": "stdout",
     "output_type": "stream",
     "text": [
      "number of nulls in dataset: 0\n"
     ]
    },
    {
     "name": "stderr",
     "output_type": "stream",
     "text": [
      "/tmp/ipykernel_10414/3260261966.py:20: FutureWarning: A value is trying to be set on a copy of a DataFrame or Series through chained assignment using an inplace method.\n",
      "The behavior will change in pandas 3.0. This inplace method will never work because the intermediate object on which we are setting values always behaves as a copy.\n",
      "\n",
      "For example, when doing 'df[col].method(value, inplace=True)', try using 'df.method({col: value}, inplace=True)' or df[col] = df[col].method(value) instead, to perform the operation inplace on the original object.\n",
      "\n",
      "\n",
      "  df[feature].fillna(df[feature].mean(), inplace=True)\n",
      "/tmp/ipykernel_10414/3260261966.py:18: FutureWarning: A value is trying to be set on a copy of a DataFrame or Series through chained assignment using an inplace method.\n",
      "The behavior will change in pandas 3.0. This inplace method will never work because the intermediate object on which we are setting values always behaves as a copy.\n",
      "\n",
      "For example, when doing 'df[col].method(value, inplace=True)', try using 'df.method({col: value}, inplace=True)' or df[col] = df[col].method(value) instead, to perform the operation inplace on the original object.\n",
      "\n",
      "\n",
      "  df[feature].fillna(\"N\", inplace=True)\n"
     ]
    },
    {
     "data": {
      "text/html": [
       "<div>\n",
       "<style scoped>\n",
       "    .dataframe tbody tr th:only-of-type {\n",
       "        vertical-align: middle;\n",
       "    }\n",
       "\n",
       "    .dataframe tbody tr th {\n",
       "        vertical-align: top;\n",
       "    }\n",
       "\n",
       "    .dataframe thead th {\n",
       "        text-align: right;\n",
       "    }\n",
       "</style>\n",
       "<table border=\"1\" class=\"dataframe\">\n",
       "  <thead>\n",
       "    <tr style=\"text-align: right;\">\n",
       "      <th></th>\n",
       "      <th>Class</th>\n",
       "      <th>Sex</th>\n",
       "      <th>Age</th>\n",
       "      <th>SibSpo</th>\n",
       "      <th>ParChi</th>\n",
       "      <th>Fare</th>\n",
       "      <th>Cabin</th>\n",
       "      <th>PortEmba</th>\n",
       "    </tr>\n",
       "  </thead>\n",
       "  <tbody>\n",
       "    <tr>\n",
       "      <th>0</th>\n",
       "      <td>3</td>\n",
       "      <td>1</td>\n",
       "      <td>22.000000</td>\n",
       "      <td>1</td>\n",
       "      <td>0</td>\n",
       "      <td>7.2500</td>\n",
       "      <td>146</td>\n",
       "      <td>3</td>\n",
       "    </tr>\n",
       "    <tr>\n",
       "      <th>1</th>\n",
       "      <td>1</td>\n",
       "      <td>0</td>\n",
       "      <td>38.000000</td>\n",
       "      <td>1</td>\n",
       "      <td>0</td>\n",
       "      <td>71.2833</td>\n",
       "      <td>81</td>\n",
       "      <td>0</td>\n",
       "    </tr>\n",
       "    <tr>\n",
       "      <th>2</th>\n",
       "      <td>3</td>\n",
       "      <td>0</td>\n",
       "      <td>26.000000</td>\n",
       "      <td>0</td>\n",
       "      <td>0</td>\n",
       "      <td>7.9250</td>\n",
       "      <td>146</td>\n",
       "      <td>3</td>\n",
       "    </tr>\n",
       "    <tr>\n",
       "      <th>3</th>\n",
       "      <td>1</td>\n",
       "      <td>0</td>\n",
       "      <td>35.000000</td>\n",
       "      <td>1</td>\n",
       "      <td>0</td>\n",
       "      <td>53.1000</td>\n",
       "      <td>55</td>\n",
       "      <td>3</td>\n",
       "    </tr>\n",
       "    <tr>\n",
       "      <th>4</th>\n",
       "      <td>3</td>\n",
       "      <td>1</td>\n",
       "      <td>35.000000</td>\n",
       "      <td>0</td>\n",
       "      <td>0</td>\n",
       "      <td>8.0500</td>\n",
       "      <td>146</td>\n",
       "      <td>3</td>\n",
       "    </tr>\n",
       "    <tr>\n",
       "      <th>...</th>\n",
       "      <td>...</td>\n",
       "      <td>...</td>\n",
       "      <td>...</td>\n",
       "      <td>...</td>\n",
       "      <td>...</td>\n",
       "      <td>...</td>\n",
       "      <td>...</td>\n",
       "      <td>...</td>\n",
       "    </tr>\n",
       "    <tr>\n",
       "      <th>886</th>\n",
       "      <td>2</td>\n",
       "      <td>1</td>\n",
       "      <td>27.000000</td>\n",
       "      <td>0</td>\n",
       "      <td>0</td>\n",
       "      <td>13.0000</td>\n",
       "      <td>146</td>\n",
       "      <td>3</td>\n",
       "    </tr>\n",
       "    <tr>\n",
       "      <th>887</th>\n",
       "      <td>1</td>\n",
       "      <td>0</td>\n",
       "      <td>19.000000</td>\n",
       "      <td>0</td>\n",
       "      <td>0</td>\n",
       "      <td>30.0000</td>\n",
       "      <td>30</td>\n",
       "      <td>3</td>\n",
       "    </tr>\n",
       "    <tr>\n",
       "      <th>888</th>\n",
       "      <td>3</td>\n",
       "      <td>0</td>\n",
       "      <td>29.699118</td>\n",
       "      <td>1</td>\n",
       "      <td>2</td>\n",
       "      <td>23.4500</td>\n",
       "      <td>146</td>\n",
       "      <td>3</td>\n",
       "    </tr>\n",
       "    <tr>\n",
       "      <th>889</th>\n",
       "      <td>1</td>\n",
       "      <td>1</td>\n",
       "      <td>26.000000</td>\n",
       "      <td>0</td>\n",
       "      <td>0</td>\n",
       "      <td>30.0000</td>\n",
       "      <td>60</td>\n",
       "      <td>0</td>\n",
       "    </tr>\n",
       "    <tr>\n",
       "      <th>890</th>\n",
       "      <td>3</td>\n",
       "      <td>1</td>\n",
       "      <td>32.000000</td>\n",
       "      <td>0</td>\n",
       "      <td>0</td>\n",
       "      <td>7.7500</td>\n",
       "      <td>146</td>\n",
       "      <td>2</td>\n",
       "    </tr>\n",
       "  </tbody>\n",
       "</table>\n",
       "<p>891 rows × 8 columns</p>\n",
       "</div>"
      ],
      "text/plain": [
       "     Class  Sex        Age  SibSpo  ParChi     Fare  Cabin  PortEmba\n",
       "0        3    1  22.000000       1       0   7.2500    146         3\n",
       "1        1    0  38.000000       1       0  71.2833     81         0\n",
       "2        3    0  26.000000       0       0   7.9250    146         3\n",
       "3        1    0  35.000000       1       0  53.1000     55         3\n",
       "4        3    1  35.000000       0       0   8.0500    146         3\n",
       "..     ...  ...        ...     ...     ...      ...    ...       ...\n",
       "886      2    1  27.000000       0       0  13.0000    146         3\n",
       "887      1    0  19.000000       0       0  30.0000     30         3\n",
       "888      3    0  29.699118       1       2  23.4500    146         3\n",
       "889      1    1  26.000000       0       0  30.0000     60         0\n",
       "890      3    1  32.000000       0       0   7.7500    146         2\n",
       "\n",
       "[891 rows x 8 columns]"
      ]
     },
     "metadata": {},
     "output_type": "display_data"
    }
   ],
   "source": [
    "# read & load\n",
    "titanic_df = pd.read_csv(\"../data/titanic_train.csv\")\n",
    "\n",
    "feature_names = [\"PaxID\", \"Survived\", \"Class\", \"Name\", \"Sex\", \"Age\", \"SibSpo\", \"ParChi\", \"Ticket\", \"Fare\", \"Cabin\", \"PortEmba\"]\n",
    "titanic_df.columns = feature_names\n",
    "\n",
    "# extract features and targets\n",
    "y = titanic_df[\"Survived\"]\n",
    "X = titanic_df.drop(\"Survived\", axis=1, inplace=False)\n",
    "\n",
    "# pre-process\n",
    "features_to_drop = [\"PaxID\", \"Name\", \"Ticket\"]\n",
    "instructions_to_fill_null = {\"Age\": \"mean\", \"Cabin\": \"N\", \"PortEmba\": \"N\"}\n",
    "features_to_encode = [\"Cabin\", \"Sex\", \"PortEmba\"]\n",
    "\n",
    "preprocess_features(X, features_to_drop, instructions_to_fill_null, features_to_encode)\n",
    "\n",
    "display(X)"
   ]
  },
  {
   "cell_type": "markdown",
   "id": "924b218b",
   "metadata": {},
   "source": [
    "# prepare evaluation function"
   ]
  },
  {
   "cell_type": "code",
   "execution_count": 5,
   "id": "1932db22",
   "metadata": {},
   "outputs": [],
   "source": [
    "from sklearn.metrics import accuracy_score\n",
    "from sklearn.metrics import confusion_matrix\n",
    "from sklearn.metrics import precision_score, recall_score"
   ]
  },
  {
   "cell_type": "code",
   "execution_count": 6,
   "id": "a6f89e08",
   "metadata": {},
   "outputs": [],
   "source": [
    "def evaluate(y_test, predictions):\n",
    "    # confusion matrix\n",
    "    print(\"confusion matrix:\\n\", confusion_matrix(y_test, predictions), \"\\n\")\n",
    "    \n",
    "    # accuracy, precision & recall\n",
    "    print(f\"accuracy : {accuracy_score(y_test, predictions):.4f}\")\n",
    "    print(f\"precision: {precision_score(y_test, predictions):.4f}\")\n",
    "    print(f\"recall   : {recall_score(y_test, predictions):.4f}\")"
   ]
  },
  {
   "cell_type": "markdown",
   "id": "b032366b",
   "metadata": {},
   "source": [
    "# train, predict, evaluation"
   ]
  },
  {
   "cell_type": "code",
   "execution_count": 7,
   "id": "1d91e51a",
   "metadata": {},
   "outputs": [
    {
     "name": "stdout",
     "output_type": "stream",
     "text": [
      "(712, 8) (179, 8) (712,) (179,)\n"
     ]
    }
   ],
   "source": [
    "from sklearn.model_selection import train_test_split\n",
    "\n",
    "X_train, X_test, y_train, y_test = train_test_split(X, y, test_size=0.2, random_state=11)\n",
    "print(X_train.shape, X_test.shape, y_train.shape, y_test.shape)"
   ]
  },
  {
   "cell_type": "code",
   "execution_count": 8,
   "id": "17b5459d",
   "metadata": {},
   "outputs": [],
   "source": [
    "from sklearn.linear_model import LogisticRegression\n",
    "\n",
    "classifier = LogisticRegression(solver=\"liblinear\")\n",
    "\n",
    "classifier.fit(X_train, y_train)\n",
    "predictions = classifier.predict(X_test)"
   ]
  },
  {
   "cell_type": "code",
   "execution_count": 9,
   "id": "835cec0c",
   "metadata": {},
   "outputs": [
    {
     "name": "stdout",
     "output_type": "stream",
     "text": [
      "confusion matrix:\n",
      " [[108  10]\n",
      " [ 16  45]] \n",
      "\n",
      "accuracy : 0.8547\n",
      "precision: 0.8182\n",
      "recall   : 0.7377\n"
     ]
    }
   ],
   "source": [
    "evaluate(y_test, predictions)"
   ]
  },
  {
   "cell_type": "markdown",
   "id": "930657d6",
   "metadata": {},
   "source": [
    "# some functions to know"
   ]
  },
  {
   "cell_type": "markdown",
   "id": "03b3bc75",
   "metadata": {},
   "source": [
    "* predict_proba"
   ]
  },
  {
   "cell_type": "code",
   "execution_count": 10,
   "id": "22e4f45d",
   "metadata": {},
   "outputs": [
    {
     "data": {
      "text/html": [
       "<div>\n",
       "<style scoped>\n",
       "    .dataframe tbody tr th:only-of-type {\n",
       "        vertical-align: middle;\n",
       "    }\n",
       "\n",
       "    .dataframe tbody tr th {\n",
       "        vertical-align: top;\n",
       "    }\n",
       "\n",
       "    .dataframe thead th {\n",
       "        text-align: right;\n",
       "    }\n",
       "</style>\n",
       "<table border=\"1\" class=\"dataframe\">\n",
       "  <thead>\n",
       "    <tr style=\"text-align: right;\">\n",
       "      <th></th>\n",
       "      <th>Proba(Nega)</th>\n",
       "      <th>Proba(Posi)</th>\n",
       "      <th>Predi</th>\n",
       "    </tr>\n",
       "  </thead>\n",
       "  <tbody>\n",
       "    <tr>\n",
       "      <th>0</th>\n",
       "      <td>0.454763</td>\n",
       "      <td>0.545237</td>\n",
       "      <td>1.0</td>\n",
       "    </tr>\n",
       "    <tr>\n",
       "      <th>1</th>\n",
       "      <td>0.865475</td>\n",
       "      <td>0.134525</td>\n",
       "      <td>0.0</td>\n",
       "    </tr>\n",
       "    <tr>\n",
       "      <th>2</th>\n",
       "      <td>0.865499</td>\n",
       "      <td>0.134501</td>\n",
       "      <td>0.0</td>\n",
       "    </tr>\n",
       "    <tr>\n",
       "      <th>3</th>\n",
       "      <td>0.838322</td>\n",
       "      <td>0.161678</td>\n",
       "      <td>0.0</td>\n",
       "    </tr>\n",
       "    <tr>\n",
       "      <th>4</th>\n",
       "      <td>0.808816</td>\n",
       "      <td>0.191184</td>\n",
       "      <td>0.0</td>\n",
       "    </tr>\n",
       "    <tr>\n",
       "      <th>...</th>\n",
       "      <td>...</td>\n",
       "      <td>...</td>\n",
       "      <td>...</td>\n",
       "    </tr>\n",
       "    <tr>\n",
       "      <th>174</th>\n",
       "      <td>0.501967</td>\n",
       "      <td>0.498033</td>\n",
       "      <td>0.0</td>\n",
       "    </tr>\n",
       "    <tr>\n",
       "      <th>175</th>\n",
       "      <td>0.912299</td>\n",
       "      <td>0.087701</td>\n",
       "      <td>0.0</td>\n",
       "    </tr>\n",
       "    <tr>\n",
       "      <th>176</th>\n",
       "      <td>0.852038</td>\n",
       "      <td>0.147962</td>\n",
       "      <td>0.0</td>\n",
       "    </tr>\n",
       "    <tr>\n",
       "      <th>177</th>\n",
       "      <td>0.580810</td>\n",
       "      <td>0.419190</td>\n",
       "      <td>0.0</td>\n",
       "    </tr>\n",
       "    <tr>\n",
       "      <th>178</th>\n",
       "      <td>0.519976</td>\n",
       "      <td>0.480024</td>\n",
       "      <td>0.0</td>\n",
       "    </tr>\n",
       "  </tbody>\n",
       "</table>\n",
       "<p>179 rows × 3 columns</p>\n",
       "</div>"
      ],
      "text/plain": [
       "     Proba(Nega)  Proba(Posi)  Predi\n",
       "0       0.454763     0.545237    1.0\n",
       "1       0.865475     0.134525    0.0\n",
       "2       0.865499     0.134501    0.0\n",
       "3       0.838322     0.161678    0.0\n",
       "4       0.808816     0.191184    0.0\n",
       "..           ...          ...    ...\n",
       "174     0.501967     0.498033    0.0\n",
       "175     0.912299     0.087701    0.0\n",
       "176     0.852038     0.147962    0.0\n",
       "177     0.580810     0.419190    0.0\n",
       "178     0.519976     0.480024    0.0\n",
       "\n",
       "[179 rows x 3 columns]"
      ]
     },
     "metadata": {},
     "output_type": "display_data"
    }
   ],
   "source": [
    "proba = classifier.predict_proba(X_test)\n",
    "predi = classifier.predict(X_test)\n",
    "\n",
    "proba_predi = np.concatenate([proba, predi.reshape(-1, 1)], axis=1)\n",
    "proba_predi_df = pd.DataFrame(proba_predi, columns=[\"Proba(Nega)\", \"Proba(Posi)\", \"Predi\"])\n",
    "\n",
    "display(proba_predi_df)"
   ]
  },
  {
   "cell_type": "markdown",
   "id": "0ed9e64e",
   "metadata": {},
   "source": [
    "* Binarizer"
   ]
  },
  {
   "cell_type": "code",
   "execution_count": 11,
   "id": "d887205b",
   "metadata": {},
   "outputs": [],
   "source": [
    "from sklearn.preprocessing import Binarizer\n",
    "\n",
    "proba_posi = proba[:, 1].reshape(-1, 1)\n",
    "\n",
    "binarizer = Binarizer(threshold=0.5)  # predict as \"positive\" when positive propability is >= 0.5\n",
    "binarizer.fit(proba_posi)\n",
    "\n",
    "# binarizer: predict\n",
    "predi_binarizer = binarizer.transform(proba_posi)\n",
    "\n",
    "# classifier: predict\n",
    "predi_classifier = classifier.predict(X_test)"
   ]
  },
  {
   "cell_type": "code",
   "execution_count": 12,
   "id": "b733570f",
   "metadata": {},
   "outputs": [
    {
     "name": "stdout",
     "output_type": "stream",
     "text": [
      "binarizer predictions:\n",
      "confusion matrix:\n",
      " [[108  10]\n",
      " [ 16  45]] \n",
      "\n",
      "accuracy : 0.8547\n",
      "precision: 0.8182\n",
      "recall   : 0.7377\n",
      "\n",
      "classifier predictions:\n",
      "confusion matrix:\n",
      " [[108  10]\n",
      " [ 16  45]] \n",
      "\n",
      "accuracy : 0.8547\n",
      "precision: 0.8182\n",
      "recall   : 0.7377\n"
     ]
    }
   ],
   "source": [
    "print(\"binarizer predictions:\")\n",
    "evaluate(y_test, predi_binarizer)\n",
    "\n",
    "print(\"\\n\", \"classifier predictions:\", sep=\"\")\n",
    "evaluate(y_test, predi_classifier)\n",
    "\n",
    "# -> therefore, classifier indeed classifies as \"positive\" when positive propability is >= 0.5"
   ]
  },
  {
   "cell_type": "markdown",
   "id": "8d8170a0",
   "metadata": {},
   "source": [
    "# confidence threshold sweep"
   ]
  },
  {
   "cell_type": "code",
   "execution_count": 13,
   "id": "0819d47c",
   "metadata": {},
   "outputs": [],
   "source": [
    "def evaluate_for_each_threshold(y_test, proba_posi, thresholds):\n",
    "    for threshold in thresholds:\n",
    "        print(\"threshold:\", threshold)\n",
    "        \n",
    "        binarizer = Binarizer(threshold=threshold)\n",
    "        binarizer.fit(proba_posi)\n",
    "        predi_binarizer = binarizer.transform(proba_posi)\n",
    "        \n",
    "        evaluate(y_test, predi_binarizer)   "
   ]
  },
  {
   "cell_type": "code",
   "execution_count": 14,
   "id": "28f8fb55-535a-43cf-ae88-d2e9ca155a05",
   "metadata": {},
   "outputs": [
    {
     "name": "stdout",
     "output_type": "stream",
     "text": [
      "threshold: 0.4\n",
      "confusion matrix:\n",
      " [[98 20]\n",
      " [11 50]] \n",
      "\n",
      "accuracy : 0.8268\n",
      "precision: 0.7143\n",
      "recall   : 0.8197\n",
      "threshold: 0.45\n",
      "confusion matrix:\n",
      " [[106  12]\n",
      " [ 14  47]] \n",
      "\n",
      "accuracy : 0.8547\n",
      "precision: 0.7966\n",
      "recall   : 0.7705\n",
      "threshold: 0.5\n",
      "confusion matrix:\n",
      " [[108  10]\n",
      " [ 16  45]] \n",
      "\n",
      "accuracy : 0.8547\n",
      "precision: 0.8182\n",
      "recall   : 0.7377\n",
      "threshold: 0.55\n",
      "confusion matrix:\n",
      " [[111   7]\n",
      " [ 17  44]] \n",
      "\n",
      "accuracy : 0.8659\n",
      "precision: 0.8627\n",
      "recall   : 0.7213\n",
      "threshold: 0.6\n",
      "confusion matrix:\n",
      " [[113   5]\n",
      " [ 18  43]] \n",
      "\n",
      "accuracy : 0.8715\n",
      "precision: 0.8958\n",
      "recall   : 0.7049\n"
     ]
    }
   ],
   "source": [
    "thresholds = np.arange(0.4, 0.65, 0.05)\n",
    "\n",
    "evaluate_for_each_threshold(y_test, proba_posi, thresholds)"
   ]
  },
  {
   "cell_type": "markdown",
   "id": "140d5787",
   "metadata": {},
   "source": [
    "* precision_recall_curve()"
   ]
  },
  {
   "cell_type": "code",
   "execution_count": 15,
   "id": "763f5af3",
   "metadata": {},
   "outputs": [
    {
     "name": "stdout",
     "output_type": "stream",
     "text": [
      "thresholds: [0.02 0.11 0.13 0.15 0.19 0.28 0.4  0.52 0.65 0.79 0.92]\n",
      "precisions: [0.34 0.37 0.42 0.45 0.52 0.63 0.7  0.82 0.95 0.95 1.  ]\n",
      "recalls   : [1.   1.   0.97 0.9  0.9  0.9  0.82 0.74 0.59 0.34 0.08]\n"
     ]
    }
   ],
   "source": [
    "from sklearn.metrics import precision_recall_curve\n",
    "\n",
    "# get prediction probabilities for class 1 (ex. \"survived\")\n",
    "proba_posi = classifier.predict_proba(X_test)[:, 1]\n",
    "\n",
    "#\n",
    "precisions, recalls, thresholds = precision_recall_curve(y_test, proba_posi)\n",
    "# print(thresholds.shape, precisions.shape, recalls.shape)\n",
    "\n",
    "# pick some indices \n",
    "num_thresholds = thresholds.shape[0];\n",
    "indices = np.arange(0, num_thresholds, num_thresholds//10)\n",
    "\n",
    "# print\n",
    "print(\"thresholds:\", np.round(thresholds[indices], 2))\n",
    "print(\"precisions:\", np.round(precisions[indices], 2))\n",
    "print(\"recalls   :\", np.round(recalls[indices], 2))"
   ]
  },
  {
   "cell_type": "markdown",
   "id": "f6f7aa69",
   "metadata": {},
   "source": [
    "* plot"
   ]
  },
  {
   "cell_type": "code",
   "execution_count": 16,
   "id": "a8cfb613",
   "metadata": {},
   "outputs": [
    {
     "data": {
      "image/png": "[encoded data removed]",
      "text/plain": [
       "<Figure size 640x480 with 1 Axes>"
      ]
     },
     "metadata": {},
     "output_type": "display_data"
    }
   ],
   "source": [
    "import matplotlib.pyplot as plt\n",
    "import matplotlib.ticker as ticker\n",
    "\n",
    "def plot_precision_recall_curve(y_test, proba_posi):\n",
    "    precisions, recalls, thresholds = precision_recall_curve(y_test, proba_posi)\n",
    "    \n",
    "    plt.figure()\n",
    "    num_thresholds = thresholds.shape[0];\n",
    "    \n",
    "    plt.plot(thresholds, precisions[0:num_thresholds], linestyle='--', label=\"precision\")\n",
    "    plt.plot(thresholds, recalls[0:num_thresholds], label=\"recall\")\n",
    "    \n",
    "    # options\n",
    "    x_start, x_end = plt.xlim()\n",
    "    plt.xticks(np.round(np.arange(x_start, x_end, 0.1), 2))\n",
    "    \n",
    "    plt.xlabel(\"Threshold\");\n",
    "    plt.ylabel(\"Precision, Recall\");\n",
    "    plt.legend();\n",
    "    plt.grid();\n",
    "    plt.show();\n",
    "    \n",
    "plot_precision_recall_curve(y_test, proba_posi)    "
   ]
  },
  {
   "cell_type": "markdown",
   "id": "9bf2b393-3e1c-4635-9639-d43ba451aa75",
   "metadata": {},
   "source": [
    "# evaluation: F1 score, ROC AUC"
   ]
  },
  {
   "cell_type": "markdown",
   "id": "2a23b143-c8f7-495d-93dc-6d2b10600abe",
   "metadata": {},
   "source": [
    "## F1 score"
   ]
  },
  {
   "cell_type": "code",
   "execution_count": 17,
   "id": "91f79f02-c0bb-497f-91f4-2108ed4c86f6",
   "metadata": {},
   "outputs": [],
   "source": [
    "from sklearn.metrics import f1_score"
   ]
  },
  {
   "cell_type": "code",
   "execution_count": 18,
   "id": "35d19732-8577-4e35-9697-707a40c3b9fe",
   "metadata": {},
   "outputs": [
    {
     "name": "stdout",
     "output_type": "stream",
     "text": [
      "F1 score: 0.7759\n"
     ]
    }
   ],
   "source": [
    "f1_value = f1_score(y_test, predictions)\n",
    "print(f\"F1 score: {f1_value:.4F}\")"
   ]
  },
  {
   "cell_type": "code",
   "execution_count": 25,
   "id": "c5b4b3d9-0eb9-40b4-8e6d-5cb5641eb7d9",
   "metadata": {},
   "outputs": [],
   "source": [
    "# redefine the evaluation function to include F1 score.\n",
    "def evaluate(y_test, predictions):\n",
    "    # confusion matrix\n",
    "    print(\"confusion matrix:\\n\", confusion_matrix(y_test, predictions))\n",
    "    \n",
    "    # accuracy, precision & recall, F1 score\n",
    "    print(f\"accuracy : {accuracy_score(y_test, predictions):.4F}\")\n",
    "    print(f\"precision: {precision_score(y_test, predictions):.4F}\")\n",
    "    print(f\"recall   : {recall_score(y_test, predictions):.4F}\")\n",
    "    print(f\"F1 score : {f1_score(y_test, predictions):.4F}\")\n",
    "\n",
    "    print(\"\\n\")"
   ]
  },
  {
   "cell_type": "code",
   "execution_count": 26,
   "id": "6310fd3e-58a0-45bb-8753-c8a931beaf08",
   "metadata": {},
   "outputs": [
    {
     "name": "stdout",
     "output_type": "stream",
     "text": [
      "threshold: 0.4\n",
      "confusion matrix:\n",
      " [[98 20]\n",
      " [11 50]]\n",
      "accuracy : 0.8268\n",
      "precision: 0.7143\n",
      "recall   : 0.8197\n",
      "F1 score : 0.7634\n",
      "\n",
      "\n",
      "threshold: 0.45\n",
      "confusion matrix:\n",
      " [[106  12]\n",
      " [ 14  47]]\n",
      "accuracy : 0.8547\n",
      "precision: 0.7966\n",
      "recall   : 0.7705\n",
      "F1 score : 0.7833\n",
      "\n",
      "\n",
      "threshold: 0.5\n",
      "confusion matrix:\n",
      " [[108  10]\n",
      " [ 16  45]]\n",
      "accuracy : 0.8547\n",
      "precision: 0.8182\n",
      "recall   : 0.7377\n",
      "F1 score : 0.7759\n",
      "\n",
      "\n",
      "threshold: 0.55\n",
      "confusion matrix:\n",
      " [[111   7]\n",
      " [ 17  44]]\n",
      "accuracy : 0.8659\n",
      "precision: 0.8627\n",
      "recall   : 0.7213\n",
      "F1 score : 0.7857\n",
      "\n",
      "\n",
      "threshold: 0.6\n",
      "confusion matrix:\n",
      " [[113   5]\n",
      " [ 18  43]]\n",
      "accuracy : 0.8715\n",
      "precision: 0.8958\n",
      "recall   : 0.7049\n",
      "F1 score : 0.7890\n",
      "\n",
      "\n"
     ]
    }
   ],
   "source": [
    "thresholds = np.arange(0.4, 0.65, 0.05)\n",
    "\n",
    "proba_posi = proba[:, 1].reshape(-1, 1)\n",
    "evaluate_for_each_threshold(y_test, proba_posi, thresholds)"
   ]
  },
  {
   "cell_type": "markdown",
   "id": "9917bea6-d355-4e3d-bf84-46d397df75f4",
   "metadata": {},
   "source": [
    "## ROC AUC"
   ]
  },
  {
   "cell_type": "code",
   "execution_count": 27,
   "id": "2a8c255b-a039-47dc-bb22-4e5245e2aec0",
   "metadata": {},
   "outputs": [],
   "source": [
    "from sklearn.metrics import roc_curve"
   ]
  },
  {
   "cell_type": "code",
   "execution_count": 37,
   "id": "436b4801-33f0-4b51-aafd-ea3e140d6761",
   "metadata": {},
   "outputs": [
    {
     "name": "stdout",
     "output_type": "stream",
     "text": [
      "selected thresholds: [0.94 0.7  0.62 0.57 0.44 0.36 0.32 0.15 0.13 0.13 0.12]\n",
      "TPRs:\n",
      " [0.016 0.508 0.689 0.721 0.787 0.82  0.885 0.902 0.951 0.967 1.   ]\n",
      "FPRs:\n",
      " [0.    0.008 0.025 0.059 0.11  0.195 0.22  0.534 0.61  0.746 0.831]\n"
     ]
    }
   ],
   "source": [
    "proba_posi = proba[:, 1]  # probabilities when label is 1\n",
    "\n",
    "fprs, tprs, thresholds = roc_curve(y_test, proba_posi)\n",
    "\n",
    "# for some selected thresholds\n",
    "threshold_indices = np.arange(1, thresholds.shape[0], 5)\n",
    "print(\"selected thresholds:\", np.round(thresholds[threshold_indices], 2))\n",
    "\n",
    "print(\"TPRs:\\n\", np.round(tprs[threshold_indices], 3))\n",
    "print(\"FPRs:\\n\", np.round(fprs[threshold_indices], 3))"
   ]
  },
  {
   "cell_type": "code",
   "execution_count": 42,
   "id": "76855c1f-16f4-4b91-a31a-998aa85905e8",
   "metadata": {},
   "outputs": [],
   "source": [
    "def plot_roc_curve(y_test, proba_posi):\n",
    "    fprs, tprs, thresholds = roc_curve(y_test, proba_posi)\n",
    "\n",
    "    plt.plot(fprs, tprs, label=\"ROC\")\n",
    "    plt.plot([0, 1], [0, 1], \"k--\", label=\"random\")\n",
    "\n",
    "    x_ini, x_fin = plt.xlim()\n",
    "    plt.xticks(np.round(np.arange(x_ini, x_fin, 0.1), 2))\n",
    "    plt.xlim(0, 1); plt.ylim(0, 1)\n",
    "    plt.xlabel(\"FPR\"); plt.ylabel(\"FPR\")\n",
    "    plt.legend()\n",
    "    \n",
    "    plt.show()"
   ]
  },
  {
   "cell_type": "code",
   "execution_count": 43,
   "id": "0add3aa5-9c50-4300-8e1b-a59190f4d3e3",
   "metadata": {},
   "outputs": [
    {
     "data": {
      "image/png": "[encoded data removed]",
      "text/plain": [
       "<Figure size 640x480 with 1 Axes>"
      ]
     },
     "metadata": {},
     "output_type": "display_data"
    }
   ],
   "source": [
    "plot_roc_curve(y_test, proba_posi)"
   ]
  },
  {
   "cell_type": "code",
   "execution_count": 44,
   "id": "c4db6236-6798-4dd0-a9dc-13b416774e6d",
   "metadata": {},
   "outputs": [
    {
     "name": "stdout",
     "output_type": "stream",
     "text": [
      "ROC AUC score : 0.8977\n"
     ]
    }
   ],
   "source": [
    "from sklearn.metrics import roc_auc_score\n",
    "\n",
    "roc_auc_value = roc_auc_score(y_test, proba_posi)\n",
    "print(f\"ROC AUC score : {roc_auc_value:.4F}\")"
   ]
  },
  {
   "cell_type": "code",
   "execution_count": 46,
   "id": "5d2eed71-eff0-4784-9bec-4e4215784caa",
   "metadata": {},
   "outputs": [],
   "source": [
    "# redefine the evaluation function to include ROC AUC score.\n",
    "def evaluate(y_test, predictions, proba_posi):\n",
    "    # confusion matrix\n",
    "    print(\"confusion matrix:\\n\", confusion_matrix(y_test, predictions))\n",
    "    \n",
    "    # accuracy, precision & recall, F1 score\n",
    "    print(f\"accuracy      : {accuracy_score(y_test, predictions):.4F}\")\n",
    "    print(f\"precision     : {precision_score(y_test, predictions):.4F}\")\n",
    "    print(f\"recall        : {recall_score(y_test, predictions):.4F}\")\n",
    "    print(f\"F1 score      : {f1_score(y_test, predictions):.4F}\")\n",
    "    print(f\"ROC AUC score : {roc_auc_score(y_test, proba_posi):.4F}\")\n",
    "\n",
    "    print(\"\\n\")"
   ]
  },
  {
   "cell_type": "code",
   "execution_count": 49,
   "id": "189f91c7-def4-427b-9b8a-bb28f8b29a26",
   "metadata": {},
   "outputs": [
    {
     "name": "stdout",
     "output_type": "stream",
     "text": [
      "confusion matrix:\n",
      " [[108  10]\n",
      " [ 16  45]]\n",
      "accuracy      : 0.8547\n",
      "precision     : 0.8182\n",
      "recall        : 0.7377\n",
      "F1 score      : 0.7759\n",
      "ROC AUC score : 0.8977\n",
      "\n",
      "\n"
     ]
    }
   ],
   "source": [
    "evaluate(y_test, predictions, proba_posi)"
   ]
  }
 ],
 "metadata": {
  "kernelspec": {
   "display_name": "Python 3 (ipykernel)",
   "language": "python",
   "name": "python3"
  },
  "language_info": {
   "codemirror_mode": {
    "name": "ipython",
    "version": 3
   },
   "file_extension": ".py",
   "mimetype": "text/x-python",
   "name": "python",
   "nbconvert_exporter": "python",
   "pygments_lexer": "ipython3",
   "version": "3.11.8"
  }
 },
 "nbformat": 4,
 "nbformat_minor": 5
}
