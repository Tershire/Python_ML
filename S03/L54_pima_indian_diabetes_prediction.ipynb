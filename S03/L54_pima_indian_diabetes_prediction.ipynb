{
 "cells": [
  {
   "cell_type": "code",
   "execution_count": 1,
   "id": "4cfb9c6b-7479-489c-955f-4e290f351663",
   "metadata": {},
   "outputs": [],
   "source": [
    "# 2024 MAY 30"
   ]
  },
  {
   "cell_type": "code",
   "execution_count": 2,
   "id": "00645a2f-b78a-4b80-9398-0dc4d1e17147",
   "metadata": {},
   "outputs": [],
   "source": [
    "import numpy as np\n",
    "import pandas as pd"
   ]
  },
  {
   "cell_type": "code",
   "execution_count": 3,
   "id": "bde52cdf-7e5b-43de-9143-e5b502ab5167",
   "metadata": {},
   "outputs": [],
   "source": [
    "from sklearn.model_selection import train_test_split\n",
    "from sklearn.metrics import (\n",
    "    confusion_matrix,\n",
    "    accuracy_score, precision_score, recall_score, f1_score, roc_auc_score,\n",
    "    precision_recall_curve, roc_curve)\n",
    "from sklearn.preprocessing import StandardScaler\n",
    "from sklearn.linear_model import LogisticRegression"
   ]
  },
  {
   "cell_type": "code",
   "execution_count": 4,
   "id": "d12b3e91-1e67-47c1-93fe-5b9fbc53d3cf",
   "metadata": {},
   "outputs": [],
   "source": [
    "import matplotlib.pyplot as plt\n",
    "%matplotlib inline"
   ]
  },
  {
   "cell_type": "markdown",
   "id": "d6953910-f5ab-40de-bef0-b2629b8a1ddf",
   "metadata": {},
   "source": [
    "# data"
   ]
  },
  {
   "cell_type": "markdown",
   "id": "b55be708-e61b-4f85-881f-a289aa99e18b",
   "metadata": {},
   "source": [
    "## load & preview"
   ]
  },
  {
   "cell_type": "code",
   "execution_count": 5,
   "id": "87c83052-eb11-4fe4-a18e-e6eedcbf4542",
   "metadata": {},
   "outputs": [
    {
     "data": {
      "text/html": [
       "<div>\n",
       "<style scoped>\n",
       "    .dataframe tbody tr th:only-of-type {\n",
       "        vertical-align: middle;\n",
       "    }\n",
       "\n",
       "    .dataframe tbody tr th {\n",
       "        vertical-align: top;\n",
       "    }\n",
       "\n",
       "    .dataframe thead th {\n",
       "        text-align: right;\n",
       "    }\n",
       "</style>\n",
       "<table border=\"1\" class=\"dataframe\">\n",
       "  <thead>\n",
       "    <tr style=\"text-align: right;\">\n",
       "      <th></th>\n",
       "      <th>Pregnancies</th>\n",
       "      <th>Glucose</th>\n",
       "      <th>BloodPressure</th>\n",
       "      <th>SkinThickness</th>\n",
       "      <th>Insulin</th>\n",
       "      <th>BMI</th>\n",
       "      <th>DiabetesPedigreeFunction</th>\n",
       "      <th>Age</th>\n",
       "      <th>Outcome</th>\n",
       "    </tr>\n",
       "  </thead>\n",
       "  <tbody>\n",
       "    <tr>\n",
       "      <th>0</th>\n",
       "      <td>6</td>\n",
       "      <td>148</td>\n",
       "      <td>72</td>\n",
       "      <td>35</td>\n",
       "      <td>0</td>\n",
       "      <td>33.6</td>\n",
       "      <td>0.627</td>\n",
       "      <td>50</td>\n",
       "      <td>1</td>\n",
       "    </tr>\n",
       "    <tr>\n",
       "      <th>1</th>\n",
       "      <td>1</td>\n",
       "      <td>85</td>\n",
       "      <td>66</td>\n",
       "      <td>29</td>\n",
       "      <td>0</td>\n",
       "      <td>26.6</td>\n",
       "      <td>0.351</td>\n",
       "      <td>31</td>\n",
       "      <td>0</td>\n",
       "    </tr>\n",
       "    <tr>\n",
       "      <th>2</th>\n",
       "      <td>8</td>\n",
       "      <td>183</td>\n",
       "      <td>64</td>\n",
       "      <td>0</td>\n",
       "      <td>0</td>\n",
       "      <td>23.3</td>\n",
       "      <td>0.672</td>\n",
       "      <td>32</td>\n",
       "      <td>1</td>\n",
       "    </tr>\n",
       "  </tbody>\n",
       "</table>\n",
       "</div>"
      ],
      "text/plain": [
       "   Pregnancies  Glucose  BloodPressure  SkinThickness  Insulin   BMI  \\\n",
       "0            6      148             72             35        0  33.6   \n",
       "1            1       85             66             29        0  26.6   \n",
       "2            8      183             64              0        0  23.3   \n",
       "\n",
       "   DiabetesPedigreeFunction  Age  Outcome  \n",
       "0                     0.627   50        1  \n",
       "1                     0.351   31        0  \n",
       "2                     0.672   32        1  "
      ]
     },
     "metadata": {},
     "output_type": "display_data"
    },
    {
     "name": "stdout",
     "output_type": "stream",
     "text": [
      "Outcome\n",
      "0    500\n",
      "1    268\n",
      "Name: count, dtype: int64\n"
     ]
    }
   ],
   "source": [
    "diabetes_data = pd.read_csv(\"../data/pima_indian_diabetes.csv\")\n",
    "\n",
    "# preview\n",
    "display(diabetes_data.head(3))\n",
    "\n",
    "# target {0: negative, 1: positive}\n",
    "print(diabetes_data[\"Outcome\"].value_counts())"
   ]
  },
  {
   "cell_type": "code",
   "execution_count": 6,
   "id": "890484d3-14d8-44d5-b9fc-e44a239ee5c4",
   "metadata": {},
   "outputs": [
    {
     "name": "stdout",
     "output_type": "stream",
     "text": [
      "<class 'pandas.core.frame.DataFrame'>\n",
      "RangeIndex: 768 entries, 0 to 767\n",
      "Data columns (total 9 columns):\n",
      " #   Column                    Non-Null Count  Dtype  \n",
      "---  ------                    --------------  -----  \n",
      " 0   Pregnancies               768 non-null    int64  \n",
      " 1   Glucose                   768 non-null    int64  \n",
      " 2   BloodPressure             768 non-null    int64  \n",
      " 3   SkinThickness             768 non-null    int64  \n",
      " 4   Insulin                   768 non-null    int64  \n",
      " 5   BMI                       768 non-null    float64\n",
      " 6   DiabetesPedigreeFunction  768 non-null    float64\n",
      " 7   Age                       768 non-null    int64  \n",
      " 8   Outcome                   768 non-null    int64  \n",
      "dtypes: float64(2), int64(7)\n",
      "memory usage: 54.1 KB\n"
     ]
    }
   ],
   "source": [
    "diabetes_data.info()"
   ]
  },
  {
   "cell_type": "code",
   "execution_count": 25,
   "id": "19abda34-d05b-47df-bd79-f30110ec92d3",
   "metadata": {},
   "outputs": [],
   "source": [
    "X = diabetes_data.iloc[:, :-1]\n",
    "Y = diabetes_data.iloc[:, -1]"
   ]
  },
  {
   "cell_type": "markdown",
   "id": "c5d32b71-9ec9-4689-bfe1-5188a5b8798c",
   "metadata": {},
   "source": [
    "## analysis"
   ]
  },
  {
   "cell_type": "code",
   "execution_count": 8,
   "id": "391dbaa1-7975-45cc-8c39-5a830f081b8a",
   "metadata": {},
   "outputs": [
    {
     "data": {
      "text/html": [
       "<div>\n",
       "<style scoped>\n",
       "    .dataframe tbody tr th:only-of-type {\n",
       "        vertical-align: middle;\n",
       "    }\n",
       "\n",
       "    .dataframe tbody tr th {\n",
       "        vertical-align: top;\n",
       "    }\n",
       "\n",
       "    .dataframe thead th {\n",
       "        text-align: right;\n",
       "    }\n",
       "</style>\n",
       "<table border=\"1\" class=\"dataframe\">\n",
       "  <thead>\n",
       "    <tr style=\"text-align: right;\">\n",
       "      <th></th>\n",
       "      <th>Pregnancies</th>\n",
       "      <th>Glucose</th>\n",
       "      <th>BloodPressure</th>\n",
       "      <th>SkinThickness</th>\n",
       "      <th>Insulin</th>\n",
       "      <th>BMI</th>\n",
       "      <th>DiabetesPedigreeFunction</th>\n",
       "      <th>Age</th>\n",
       "      <th>Outcome</th>\n",
       "    </tr>\n",
       "  </thead>\n",
       "  <tbody>\n",
       "    <tr>\n",
       "      <th>count</th>\n",
       "      <td>768.000000</td>\n",
       "      <td>768.000000</td>\n",
       "      <td>768.000000</td>\n",
       "      <td>768.000000</td>\n",
       "      <td>768.000000</td>\n",
       "      <td>768.000000</td>\n",
       "      <td>768.000000</td>\n",
       "      <td>768.000000</td>\n",
       "      <td>768.000000</td>\n",
       "    </tr>\n",
       "    <tr>\n",
       "      <th>mean</th>\n",
       "      <td>3.845052</td>\n",
       "      <td>120.894531</td>\n",
       "      <td>69.105469</td>\n",
       "      <td>20.536458</td>\n",
       "      <td>79.799479</td>\n",
       "      <td>31.992578</td>\n",
       "      <td>0.471876</td>\n",
       "      <td>33.240885</td>\n",
       "      <td>0.348958</td>\n",
       "    </tr>\n",
       "    <tr>\n",
       "      <th>std</th>\n",
       "      <td>3.369578</td>\n",
       "      <td>31.972618</td>\n",
       "      <td>19.355807</td>\n",
       "      <td>15.952218</td>\n",
       "      <td>115.244002</td>\n",
       "      <td>7.884160</td>\n",
       "      <td>0.331329</td>\n",
       "      <td>11.760232</td>\n",
       "      <td>0.476951</td>\n",
       "    </tr>\n",
       "    <tr>\n",
       "      <th>min</th>\n",
       "      <td>0.000000</td>\n",
       "      <td>0.000000</td>\n",
       "      <td>0.000000</td>\n",
       "      <td>0.000000</td>\n",
       "      <td>0.000000</td>\n",
       "      <td>0.000000</td>\n",
       "      <td>0.078000</td>\n",
       "      <td>21.000000</td>\n",
       "      <td>0.000000</td>\n",
       "    </tr>\n",
       "    <tr>\n",
       "      <th>25%</th>\n",
       "      <td>1.000000</td>\n",
       "      <td>99.000000</td>\n",
       "      <td>62.000000</td>\n",
       "      <td>0.000000</td>\n",
       "      <td>0.000000</td>\n",
       "      <td>27.300000</td>\n",
       "      <td>0.243750</td>\n",
       "      <td>24.000000</td>\n",
       "      <td>0.000000</td>\n",
       "    </tr>\n",
       "    <tr>\n",
       "      <th>50%</th>\n",
       "      <td>3.000000</td>\n",
       "      <td>117.000000</td>\n",
       "      <td>72.000000</td>\n",
       "      <td>23.000000</td>\n",
       "      <td>30.500000</td>\n",
       "      <td>32.000000</td>\n",
       "      <td>0.372500</td>\n",
       "      <td>29.000000</td>\n",
       "      <td>0.000000</td>\n",
       "    </tr>\n",
       "    <tr>\n",
       "      <th>75%</th>\n",
       "      <td>6.000000</td>\n",
       "      <td>140.250000</td>\n",
       "      <td>80.000000</td>\n",
       "      <td>32.000000</td>\n",
       "      <td>127.250000</td>\n",
       "      <td>36.600000</td>\n",
       "      <td>0.626250</td>\n",
       "      <td>41.000000</td>\n",
       "      <td>1.000000</td>\n",
       "    </tr>\n",
       "    <tr>\n",
       "      <th>max</th>\n",
       "      <td>17.000000</td>\n",
       "      <td>199.000000</td>\n",
       "      <td>122.000000</td>\n",
       "      <td>99.000000</td>\n",
       "      <td>846.000000</td>\n",
       "      <td>67.100000</td>\n",
       "      <td>2.420000</td>\n",
       "      <td>81.000000</td>\n",
       "      <td>1.000000</td>\n",
       "    </tr>\n",
       "  </tbody>\n",
       "</table>\n",
       "</div>"
      ],
      "text/plain": [
       "       Pregnancies     Glucose  BloodPressure  SkinThickness     Insulin  \\\n",
       "count   768.000000  768.000000     768.000000     768.000000  768.000000   \n",
       "mean      3.845052  120.894531      69.105469      20.536458   79.799479   \n",
       "std       3.369578   31.972618      19.355807      15.952218  115.244002   \n",
       "min       0.000000    0.000000       0.000000       0.000000    0.000000   \n",
       "25%       1.000000   99.000000      62.000000       0.000000    0.000000   \n",
       "50%       3.000000  117.000000      72.000000      23.000000   30.500000   \n",
       "75%       6.000000  140.250000      80.000000      32.000000  127.250000   \n",
       "max      17.000000  199.000000     122.000000      99.000000  846.000000   \n",
       "\n",
       "              BMI  DiabetesPedigreeFunction         Age     Outcome  \n",
       "count  768.000000                768.000000  768.000000  768.000000  \n",
       "mean    31.992578                  0.471876   33.240885    0.348958  \n",
       "std      7.884160                  0.331329   11.760232    0.476951  \n",
       "min      0.000000                  0.078000   21.000000    0.000000  \n",
       "25%     27.300000                  0.243750   24.000000    0.000000  \n",
       "50%     32.000000                  0.372500   29.000000    0.000000  \n",
       "75%     36.600000                  0.626250   41.000000    1.000000  \n",
       "max     67.100000                  2.420000   81.000000    1.000000  "
      ]
     },
     "execution_count": 8,
     "metadata": {},
     "output_type": "execute_result"
    }
   ],
   "source": [
    "diabetes_data.describe()"
   ]
  },
  {
   "cell_type": "markdown",
   "id": "4a3ce5fe-9239-41da-a703-c5ee1139c714",
   "metadata": {},
   "source": [
    "### glucose histogram"
   ]
  },
  {
   "cell_type": "code",
   "execution_count": 9,
   "id": "03a50b49-59d5-4b69-b69c-0045510b8f69",
   "metadata": {},
   "outputs": [
    {
     "data": {
      "image/png": "[encoded data removed]",
      "text/plain": [
       "<Figure size 640x480 with 1 Axes>"
      ]
     },
     "metadata": {},
     "output_type": "display_data"
    }
   ],
   "source": [
    "plt.hist(diabetes_data[\"Glucose\"], bins=100)\n",
    "plt.show()"
   ]
  },
  {
   "cell_type": "markdown",
   "id": "8333fdba-c7cb-4620-aeb9-1072ab752aea",
   "metadata": {},
   "source": [
    "### investigate zero-valued features"
   ]
  },
  {
   "cell_type": "code",
   "execution_count": 10,
   "id": "ea017e14-0e33-40f5-ae02-b6cef073ccd2",
   "metadata": {},
   "outputs": [
    {
     "name": "stdout",
     "output_type": "stream",
     "text": [
      "Glucose:\n",
      " number of 0s:   5, percentage being  0.65%\n",
      "BloodPressure:\n",
      " number of 0s:  35, percentage being  4.56%\n",
      "SkinThickness:\n",
      " number of 0s: 227, percentage being 29.56%\n",
      "Insulin:\n",
      " number of 0s: 374, percentage being 48.70%\n",
      "BMI:\n",
      " number of 0s:  11, percentage being  1.43%\n"
     ]
    }
   ],
   "source": [
    "features_having_zeros = [\"Glucose\", \"BloodPressure\", \"SkinThickness\", \"Insulin\", \"BMI\"]\n",
    "\n",
    "num_data_in_a_feature = diabetes_data[\"Glucose\"].count()\n",
    "\n",
    "for feature in features_having_zeros:\n",
    "    num_zeros = diabetes_data[diabetes_data[feature] == 0][feature].count()\n",
    "    print(f\"{feature}:\\n number of {0}s: {num_zeros:3.0F}, percentage being {num_zeros/num_data_in_a_feature*100:5.2F}%\")"
   ]
  },
  {
   "cell_type": "markdown",
   "id": "0c75a945-5f22-4084-9ee5-51eb4839c2a8",
   "metadata": {},
   "source": [
    "# preprocessing"
   ]
  },
  {
   "cell_type": "markdown",
   "id": "dd771cf5-b846-499d-bb4c-02a13551e5a9",
   "metadata": {},
   "source": [
    "## replace inadequate zero values"
   ]
  },
  {
   "cell_type": "code",
   "execution_count": 20,
   "id": "f064dce9-c01e-4b10-a3b0-060dd88f39a4",
   "metadata": {},
   "outputs": [
    {
     "name": "stdout",
     "output_type": "stream",
     "text": [
      "       Pregnancies     Glucose  BloodPressure  SkinThickness     Insulin  \\\n",
      "count   768.000000  768.000000     768.000000     768.000000  768.000000   \n",
      "mean      3.845052  121.681605      72.254807      26.606479  118.660163   \n",
      "std       3.369578   30.436016      12.115932       9.631241   93.080358   \n",
      "min       0.000000   44.000000      24.000000       7.000000   14.000000   \n",
      "25%       1.000000   99.750000      64.000000      20.536458   79.799479   \n",
      "50%       3.000000  117.000000      72.000000      23.000000   79.799479   \n",
      "75%       6.000000  140.250000      80.000000      32.000000  127.250000   \n",
      "max      17.000000  199.000000     122.000000      99.000000  846.000000   \n",
      "\n",
      "              BMI  DiabetesPedigreeFunction         Age     Outcome  \n",
      "count  768.000000                768.000000  768.000000  768.000000  \n",
      "mean    32.450805                  0.471876   33.240885    0.348958  \n",
      "std      6.875374                  0.331329   11.760232    0.476951  \n",
      "min     18.200000                  0.078000   21.000000    0.000000  \n",
      "25%     27.500000                  0.243750   24.000000    0.000000  \n",
      "50%     32.000000                  0.372500   29.000000    0.000000  \n",
      "75%     36.600000                  0.626250   41.000000    1.000000  \n",
      "max     67.100000                  2.420000   81.000000    1.000000  \n",
      "Glucose:\n",
      " number of 0s:   0, percentage being  0.00%\n",
      "BloodPressure:\n",
      " number of 0s:   0, percentage being  0.00%\n",
      "SkinThickness:\n",
      " number of 0s:   0, percentage being  0.00%\n",
      "Insulin:\n",
      " number of 0s:   0, percentage being  0.00%\n",
      "BMI:\n",
      " number of 0s:   0, percentage being  0.00%\n"
     ]
    }
   ],
   "source": [
    "# replace zero-valued features to average value\n",
    "diabetes_data[features_having_zeros] = diabetes_data[features_having_zeros].replace(0, diabetes_data[features_having_zeros].mean())\n",
    "\n",
    "# diabetes_data[features_having_zeros].mean() gives mean for each feature having zeros.\n",
    "\n",
    "# check change\n",
    "print(diabetes_data.describe())\n",
    "\n",
    "for feature in features_having_zeros:\n",
    "    num_zeros = diabetes_data[diabetes_data[feature] == 0][feature].count()\n",
    "    print(f\"{feature}:\\n number of {0}s: {num_zeros:3.0F}, percentage being {num_zeros/num_data_in_a_feature*100:5.2F}%\")"
   ]
  },
  {
   "cell_type": "markdown",
   "id": "abfd28b3-9233-4ba8-892a-fe41ca3dcc90",
   "metadata": {},
   "source": [
    "## scaling"
   ]
  },
  {
   "cell_type": "code",
   "execution_count": 26,
   "id": "1334cd66-e1b9-4fec-b432-e39d27efe220",
   "metadata": {},
   "outputs": [],
   "source": [
    "scaler = StandardScaler()\n",
    "X_scaled = scaler.fit_transform(X)\n",
    "\n",
    "X_train, X_test, Y_train, Y_test = train_test_split(X_scaled, Y, test_size=0.2, random_state=156, stratify=Y)"
   ]
  },
  {
   "cell_type": "markdown",
   "id": "6b447da0-15f1-4177-9fb4-bd1704e7c796",
   "metadata": {},
   "source": [
    "# model"
   ]
  },
  {
   "cell_type": "code",
   "execution_count": 27,
   "id": "cee01fc5-e7fd-4cfb-ac13-13d6eb163dbc",
   "metadata": {},
   "outputs": [],
   "source": [
    "classifier = LogisticRegression(solver=\"liblinear\")\n",
    "\n",
    "classifier.fit(X_train, Y_train)\n",
    "Y_pred = classifier.predict(X_test)\n",
    "pred_proba_posi = classifier.predict_proba(X_test)[:, 1]"
   ]
  },
  {
   "cell_type": "markdown",
   "id": "6b9bb943-3938-46ce-af6c-f22c7dd57075",
   "metadata": {},
   "source": [
    "# evaluation"
   ]
  },
  {
   "cell_type": "code",
   "execution_count": 53,
   "id": "abc6d4d3-a131-434f-9762-c25931a82a14",
   "metadata": {},
   "outputs": [],
   "source": [
    "def evaluate(Y_test, Y_pred, pred_proba_posi):\n",
    "    # confusion matrix\n",
    "    print(\"confusion matrix:\\n\", confusion_matrix(Y_test, Y_pred))\n",
    "    \n",
    "    # accuracy, precision & recall, F1 score\n",
    "    print(f\"accuracy      : {accuracy_score(Y_test, Y_pred):.4F}\")\n",
    "    print(f\"precision     : {precision_score(Y_test, Y_pred):.4F}\")\n",
    "    print(f\"recall        : {recall_score(Y_test, Y_pred):.4F}\")\n",
    "    print(f\"F1 score      : {f1_score(Y_test, Y_pred):.4F}\")\n",
    "    print(f\"ROC AUC score : {roc_auc_score(Y_test, pred_proba_posi):.4F}\")\n",
    "\n",
    "    print(\"\\n\")"
   ]
  },
  {
   "cell_type": "code",
   "execution_count": 54,
   "id": "0f959310-fa63-405b-af79-c6dcd1b44d82",
   "metadata": {},
   "outputs": [],
   "source": [
    "def plot_precision_recall_curve(y_test, proba_posi):\n",
    "    precisions, recalls, thresholds = precision_recall_curve(y_test, proba_posi)\n",
    "    \n",
    "    plt.figure()\n",
    "    num_thresholds = thresholds.shape[0];\n",
    "    \n",
    "    plt.plot(thresholds, precisions[0:num_thresholds], linestyle='--', label=\"precision\")\n",
    "    plt.plot(thresholds, recalls[0:num_thresholds], label=\"recall\")\n",
    "    \n",
    "    # options\n",
    "    x_start, x_end = plt.xlim()\n",
    "    plt.xticks(np.round(np.arange(x_start, x_end, 0.1), 2))\n",
    "    \n",
    "    plt.xlabel(\"Threshold\");\n",
    "    plt.ylabel(\"Precision, Recall\");\n",
    "    plt.legend();\n",
    "    plt.grid();\n",
    "    plt.show();"
   ]
  },
  {
   "cell_type": "code",
   "execution_count": 55,
   "id": "eec7804b-4282-4115-8541-4e68024e1fd4",
   "metadata": {},
   "outputs": [
    {
     "name": "stdout",
     "output_type": "stream",
     "text": [
      "confusion matrix:\n",
      " [[90 10]\n",
      " [21 33]]\n",
      "accuracy      : 0.7987\n",
      "precision     : 0.7674\n",
      "recall        : 0.6111\n",
      "F1 score      : 0.6804\n",
      "ROC AUC score : 0.8433\n",
      "\n",
      "\n"
     ]
    }
   ],
   "source": [
    "evaluate(Y_test, Y_pred, pred_proba_posi)"
   ]
  },
  {
   "cell_type": "code",
   "execution_count": 56,
   "id": "d1dcc8c0-7111-4eaa-b46d-e9dc5b5125ad",
   "metadata": {},
   "outputs": [
    {
     "data": {
      "image/png": "[encoded data removed]",
      "text/plain": [
       "<Figure size 640x480 with 1 Axes>"
      ]
     },
     "metadata": {},
     "output_type": "display_data"
    }
   ],
   "source": [
    "plot_precision_recall_curve(Y_test, pred_proba_posi)"
   ]
  },
  {
   "cell_type": "markdown",
   "id": "7fed0c83-2da3-400b-aed7-a9704937232b",
   "metadata": {},
   "source": [
    "## confidence threshold sweep"
   ]
  },
  {
   "cell_type": "code",
   "execution_count": 57,
   "id": "f2823161-68b0-4ede-99ba-32d0d24e7977",
   "metadata": {},
   "outputs": [],
   "source": [
    "from sklearn.preprocessing import Binarizer"
   ]
  },
  {
   "cell_type": "code",
   "execution_count": 58,
   "id": "d4fbf861-0797-463c-8c87-6b143ffe565a",
   "metadata": {},
   "outputs": [],
   "source": [
    "def evaluate_for_each_threshold(Y_test, pred_proba_posi, thresholds):\n",
    "    for threshold in thresholds:\n",
    "        print(\"threshold:\", threshold)\n",
    "        \n",
    "        binarizer = Binarizer(threshold=threshold)\n",
    "        binarizer.fit(pred_proba_posi)\n",
    "        binarized_Y_pred = binarizer.transform(pred_proba_posi)\n",
    "        \n",
    "        evaluate(Y_test, binarized_Y_pred, pred_proba_posi)"
   ]
  },
  {
   "cell_type": "code",
   "execution_count": 59,
   "id": "5d4126b3-ee6b-4d71-8615-418935c4cbf8",
   "metadata": {},
   "outputs": [
    {
     "name": "stdout",
     "output_type": "stream",
     "text": [
      "threshold: 0.3\n",
      "confusion matrix:\n",
      " [[65 35]\n",
      " [11 43]]\n",
      "accuracy      : 0.7013\n",
      "precision     : 0.5513\n",
      "recall        : 0.7963\n",
      "F1 score      : 0.6515\n",
      "ROC AUC score : 0.8433\n",
      "\n",
      "\n",
      "threshold: 0.33\n",
      "confusion matrix:\n",
      " [[71 29]\n",
      " [11 43]]\n",
      "accuracy      : 0.7403\n",
      "precision     : 0.5972\n",
      "recall        : 0.7963\n",
      "F1 score      : 0.6825\n",
      "ROC AUC score : 0.8433\n",
      "\n",
      "\n",
      "threshold: 0.36\n",
      "confusion matrix:\n",
      " [[76 24]\n",
      " [15 39]]\n",
      "accuracy      : 0.7468\n",
      "precision     : 0.6190\n",
      "recall        : 0.7222\n",
      "F1 score      : 0.6667\n",
      "ROC AUC score : 0.8433\n",
      "\n",
      "\n",
      "threshold: 0.39\n",
      "confusion matrix:\n",
      " [[78 22]\n",
      " [16 38]]\n",
      "accuracy      : 0.7532\n",
      "precision     : 0.6333\n",
      "recall        : 0.7037\n",
      "F1 score      : 0.6667\n",
      "ROC AUC score : 0.8433\n",
      "\n",
      "\n",
      "threshold: 0.41\n",
      "confusion matrix:\n",
      " [[80 20]\n",
      " [17 37]]\n",
      "accuracy      : 0.7597\n",
      "precision     : 0.6491\n",
      "recall        : 0.6852\n",
      "F1 score      : 0.6667\n",
      "ROC AUC score : 0.8433\n",
      "\n",
      "\n",
      "threshold: 0.44\n",
      "confusion matrix:\n",
      " [[85 15]\n",
      " [18 36]]\n",
      "accuracy      : 0.7857\n",
      "precision     : 0.7059\n",
      "recall        : 0.6667\n",
      "F1 score      : 0.6857\n",
      "ROC AUC score : 0.8433\n",
      "\n",
      "\n",
      "threshold: 0.47\n",
      "confusion matrix:\n",
      " [[88 12]\n",
      " [19 35]]\n",
      "accuracy      : 0.7987\n",
      "precision     : 0.7447\n",
      "recall        : 0.6481\n",
      "F1 score      : 0.6931\n",
      "ROC AUC score : 0.8433\n",
      "\n",
      "\n",
      "threshold: 0.5\n",
      "confusion matrix:\n",
      " [[90 10]\n",
      " [21 33]]\n",
      "accuracy      : 0.7987\n",
      "precision     : 0.7674\n",
      "recall        : 0.6111\n",
      "F1 score      : 0.6804\n",
      "ROC AUC score : 0.8433\n",
      "\n",
      "\n"
     ]
    }
   ],
   "source": [
    "thresholds = np.round(np.linspace(0.3, 0.5, 8), 2)\n",
    "\n",
    "pred_proba_posi = classifier.predict_proba(X_test)[:, 1].reshape(-1, 1)\n",
    "evaluate_for_each_threshold(Y_test, pred_proba_posi, thresholds)"
   ]
  },
  {
   "cell_type": "code",
   "execution_count": 63,
   "id": "0948fc0e-2810-4d35-afe4-ad6612a099ba",
   "metadata": {},
   "outputs": [
    {
     "name": "stdout",
     "output_type": "stream",
     "text": [
      "confusion matrix:\n",
      " [[88 12]\n",
      " [19 35]]\n",
      "accuracy      : 0.7987\n",
      "precision     : 0.7447\n",
      "recall        : 0.6481\n",
      "F1 score      : 0.6931\n",
      "ROC AUC score : 0.8433\n",
      "\n",
      "\n"
     ]
    }
   ],
   "source": [
    "# consider threshold=0.47 is good.\n",
    "optimal_threshold = 0.47\n",
    "binarizer = Binarizer(threshold=optimal_threshold)\n",
    "\n",
    "binarized_Y_pred = binarizer.fit_transform(pred_proba_posi)\n",
    "evaluate(Y_test, binarized_Y_pred, pred_proba_posi)"
   ]
  }
 ],
 "metadata": {
  "kernelspec": {
   "display_name": "Python 3 (ipykernel)",
   "language": "python",
   "name": "python3"
  },
  "language_info": {
   "codemirror_mode": {
    "name": "ipython",
    "version": 3
   },
   "file_extension": ".py",
   "mimetype": "text/x-python",
   "name": "python",
   "nbconvert_exporter": "python",
   "pygments_lexer": "ipython3",
   "version": "3.11.5"
  }
 },
 "nbformat": 4,
 "nbformat_minor": 5
}
