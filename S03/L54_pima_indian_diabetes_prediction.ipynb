{
 "cells": [
  {
   "cell_type": "code",
   "execution_count": 1,
   "id": "4cfb9c6b-7479-489c-955f-4e290f351663",
   "metadata": {},
   "outputs": [],
   "source": [
    "# 2024 MAY 30"
   ]
  },
  {
   "cell_type": "code",
   "execution_count": null,
   "id": "00645a2f-b78a-4b80-9398-0dc4d1e17147",
   "metadata": {},
   "outputs": [],
   "source": []
  }
 ],
 "metadata": {
  "kernelspec": {
   "display_name": "Python 3 (ipykernel)",
   "language": "python",
   "name": "python3"
  },
  "language_info": {
   "codemirror_mode": {
    "name": "ipython",
    "version": 3
   },
   "file_extension": ".py",
   "mimetype": "text/x-python",
   "name": "python",
   "nbconvert_exporter": "python",
   "pygments_lexer": "ipython3",
   "version": "3.11.5"
  }
 },
 "nbformat": 4,
 "nbformat_minor": 5
}
