{
 "cells": [
  {
   "cell_type": "code",
   "execution_count": 56,
   "id": "90b86d38",
   "metadata": {},
   "outputs": [],
   "source": [
    "# 2023 OCT 30"
   ]
  },
  {
   "cell_type": "code",
   "execution_count": 57,
   "id": "0cacd5c9",
   "metadata": {},
   "outputs": [],
   "source": [
    "import sklearn\n",
    "import numpy as np\n",
    "import pandas as pd"
   ]
  },
  {
   "cell_type": "markdown",
   "id": "13af22fe",
   "metadata": {},
   "source": [
    "# prepare data"
   ]
  },
  {
   "cell_type": "markdown",
   "id": "988b1a28",
   "metadata": {},
   "source": [
    "## example #1: titanic dataset"
   ]
  },
  {
   "cell_type": "markdown",
   "id": "3de54361",
   "metadata": {},
   "source": [
    "* functions for pre-processing"
   ]
  },
  {
   "cell_type": "code",
   "execution_count": 58,
   "id": "1be710c2",
   "metadata": {},
   "outputs": [],
   "source": [
    "from sklearn.preprocessing import LabelEncoder\n",
    "\n",
    "# drop\n",
    "def drop_features(df, features):\n",
    "    df.drop(features, axis=1, inplace=True)\n",
    "    \n",
    "# encode\n",
    "def encode_features(df, features):\n",
    "    encoder = LabelEncoder()\n",
    "    for feature in features:\n",
    "        encoder.fit(df[feature])\n",
    "        df[feature] = encoder.transform(df[feature])\n",
    "        \n",
    "# null\n",
    "def fill_nulls(df, instructions):\n",
    "    for feature, method in instructions.items():\n",
    "        if method == \"N\":\n",
    "            df[feature].fillna(\"N\", inplace=True)\n",
    "        elif method == \"mean\":\n",
    "            df[feature].fillna(df[feature].mean(), inplace=True)\n",
    "        else:\n",
    "            print(\"<!> unknown method\")\n",
    "            \n",
    "# combined\n",
    "def preprocess_features(df, features_to_drop, instructions_to_fill_null, features_to_encode):\n",
    "    drop_features(df, features_to_drop)\n",
    "    fill_nulls(df, instructions_to_fill_null)\n",
    "    \n",
    "    print(\"number of nulls in dataset:\", df.isnull().sum().sum())\n",
    "    \n",
    "    encode_features(df, features_to_encode)"
   ]
  },
  {
   "cell_type": "markdown",
   "id": "86ac9af1",
   "metadata": {},
   "source": [
    "* load, extract, and pre-process data"
   ]
  },
  {
   "cell_type": "code",
   "execution_count": 59,
   "id": "265f23c2",
   "metadata": {},
   "outputs": [
    {
     "name": "stdout",
     "output_type": "stream",
     "text": [
      "number of nulls in dataset: 0\n"
     ]
    },
    {
     "data": {
      "text/html": [
       "<div>\n",
       "<style scoped>\n",
       "    .dataframe tbody tr th:only-of-type {\n",
       "        vertical-align: middle;\n",
       "    }\n",
       "\n",
       "    .dataframe tbody tr th {\n",
       "        vertical-align: top;\n",
       "    }\n",
       "\n",
       "    .dataframe thead th {\n",
       "        text-align: right;\n",
       "    }\n",
       "</style>\n",
       "<table border=\"1\" class=\"dataframe\">\n",
       "  <thead>\n",
       "    <tr style=\"text-align: right;\">\n",
       "      <th></th>\n",
       "      <th>Class</th>\n",
       "      <th>Sex</th>\n",
       "      <th>Age</th>\n",
       "      <th>SibSpo</th>\n",
       "      <th>ParChi</th>\n",
       "      <th>Fare</th>\n",
       "      <th>Cabin</th>\n",
       "      <th>PortEmba</th>\n",
       "    </tr>\n",
       "  </thead>\n",
       "  <tbody>\n",
       "    <tr>\n",
       "      <th>0</th>\n",
       "      <td>3</td>\n",
       "      <td>1</td>\n",
       "      <td>22.000000</td>\n",
       "      <td>1</td>\n",
       "      <td>0</td>\n",
       "      <td>7.2500</td>\n",
       "      <td>146</td>\n",
       "      <td>3</td>\n",
       "    </tr>\n",
       "    <tr>\n",
       "      <th>1</th>\n",
       "      <td>1</td>\n",
       "      <td>0</td>\n",
       "      <td>38.000000</td>\n",
       "      <td>1</td>\n",
       "      <td>0</td>\n",
       "      <td>71.2833</td>\n",
       "      <td>81</td>\n",
       "      <td>0</td>\n",
       "    </tr>\n",
       "    <tr>\n",
       "      <th>2</th>\n",
       "      <td>3</td>\n",
       "      <td>0</td>\n",
       "      <td>26.000000</td>\n",
       "      <td>0</td>\n",
       "      <td>0</td>\n",
       "      <td>7.9250</td>\n",
       "      <td>146</td>\n",
       "      <td>3</td>\n",
       "    </tr>\n",
       "    <tr>\n",
       "      <th>3</th>\n",
       "      <td>1</td>\n",
       "      <td>0</td>\n",
       "      <td>35.000000</td>\n",
       "      <td>1</td>\n",
       "      <td>0</td>\n",
       "      <td>53.1000</td>\n",
       "      <td>55</td>\n",
       "      <td>3</td>\n",
       "    </tr>\n",
       "    <tr>\n",
       "      <th>4</th>\n",
       "      <td>3</td>\n",
       "      <td>1</td>\n",
       "      <td>35.000000</td>\n",
       "      <td>0</td>\n",
       "      <td>0</td>\n",
       "      <td>8.0500</td>\n",
       "      <td>146</td>\n",
       "      <td>3</td>\n",
       "    </tr>\n",
       "    <tr>\n",
       "      <th>...</th>\n",
       "      <td>...</td>\n",
       "      <td>...</td>\n",
       "      <td>...</td>\n",
       "      <td>...</td>\n",
       "      <td>...</td>\n",
       "      <td>...</td>\n",
       "      <td>...</td>\n",
       "      <td>...</td>\n",
       "    </tr>\n",
       "    <tr>\n",
       "      <th>886</th>\n",
       "      <td>2</td>\n",
       "      <td>1</td>\n",
       "      <td>27.000000</td>\n",
       "      <td>0</td>\n",
       "      <td>0</td>\n",
       "      <td>13.0000</td>\n",
       "      <td>146</td>\n",
       "      <td>3</td>\n",
       "    </tr>\n",
       "    <tr>\n",
       "      <th>887</th>\n",
       "      <td>1</td>\n",
       "      <td>0</td>\n",
       "      <td>19.000000</td>\n",
       "      <td>0</td>\n",
       "      <td>0</td>\n",
       "      <td>30.0000</td>\n",
       "      <td>30</td>\n",
       "      <td>3</td>\n",
       "    </tr>\n",
       "    <tr>\n",
       "      <th>888</th>\n",
       "      <td>3</td>\n",
       "      <td>0</td>\n",
       "      <td>29.699118</td>\n",
       "      <td>1</td>\n",
       "      <td>2</td>\n",
       "      <td>23.4500</td>\n",
       "      <td>146</td>\n",
       "      <td>3</td>\n",
       "    </tr>\n",
       "    <tr>\n",
       "      <th>889</th>\n",
       "      <td>1</td>\n",
       "      <td>1</td>\n",
       "      <td>26.000000</td>\n",
       "      <td>0</td>\n",
       "      <td>0</td>\n",
       "      <td>30.0000</td>\n",
       "      <td>60</td>\n",
       "      <td>0</td>\n",
       "    </tr>\n",
       "    <tr>\n",
       "      <th>890</th>\n",
       "      <td>3</td>\n",
       "      <td>1</td>\n",
       "      <td>32.000000</td>\n",
       "      <td>0</td>\n",
       "      <td>0</td>\n",
       "      <td>7.7500</td>\n",
       "      <td>146</td>\n",
       "      <td>2</td>\n",
       "    </tr>\n",
       "  </tbody>\n",
       "</table>\n",
       "<p>891 rows × 8 columns</p>\n",
       "</div>"
      ],
      "text/plain": [
       "     Class  Sex        Age  SibSpo  ParChi     Fare  Cabin  PortEmba\n",
       "0        3    1  22.000000       1       0   7.2500    146         3\n",
       "1        1    0  38.000000       1       0  71.2833     81         0\n",
       "2        3    0  26.000000       0       0   7.9250    146         3\n",
       "3        1    0  35.000000       1       0  53.1000     55         3\n",
       "4        3    1  35.000000       0       0   8.0500    146         3\n",
       "..     ...  ...        ...     ...     ...      ...    ...       ...\n",
       "886      2    1  27.000000       0       0  13.0000    146         3\n",
       "887      1    0  19.000000       0       0  30.0000     30         3\n",
       "888      3    0  29.699118       1       2  23.4500    146         3\n",
       "889      1    1  26.000000       0       0  30.0000     60         0\n",
       "890      3    1  32.000000       0       0   7.7500    146         2\n",
       "\n",
       "[891 rows x 8 columns]"
      ]
     },
     "metadata": {},
     "output_type": "display_data"
    }
   ],
   "source": [
    "# read & load\n",
    "titanic_df = pd.read_csv(\"../data/titanic_train.csv\")\n",
    "\n",
    "feature_names = [\"PaxID\", \"Survived\", \"Class\", \"Name\", \"Sex\", \"Age\", \"SibSpo\", \"ParChi\", \"Ticket\", \"Fare\", \"Cabin\", \"PortEmba\"]\n",
    "titanic_df.columns = feature_names\n",
    "\n",
    "# extract features and targets\n",
    "y = titanic_df[\"Survived\"]\n",
    "X = titanic_df.drop(\"Survived\", axis=1, inplace=False)\n",
    "\n",
    "# pre-process\n",
    "features_to_drop = [\"PaxID\", \"Name\", \"Ticket\"]\n",
    "instructions_to_fill_null = {\"Age\": \"mean\", \"Cabin\": \"N\", \"PortEmba\": \"N\"}\n",
    "features_to_encode = [\"Cabin\", \"Sex\", \"PortEmba\"]\n",
    "\n",
    "preprocess_features(X, features_to_drop, instructions_to_fill_null, features_to_encode)\n",
    "\n",
    "display(X)"
   ]
  },
  {
   "cell_type": "markdown",
   "id": "48065680",
   "metadata": {},
   "source": [
    "## example #2: MNIST dataset"
   ]
  },
  {
   "cell_type": "markdown",
   "id": "260b4ac3",
   "metadata": {},
   "source": [
    "* load, extract, and pre-process data"
   ]
  },
  {
   "cell_type": "code",
   "execution_count": 60,
   "id": "0136e4d9",
   "metadata": {
    "scrolled": true
   },
   "outputs": [
    {
     "name": "stdout",
     "output_type": "stream",
     "text": [
      "{'data': array([[ 0.,  0.,  5., ...,  0.,  0.,  0.],\n",
      "       [ 0.,  0.,  0., ..., 10.,  0.,  0.],\n",
      "       [ 0.,  0.,  0., ..., 16.,  9.,  0.],\n",
      "       ...,\n",
      "       [ 0.,  0.,  1., ...,  6.,  0.,  0.],\n",
      "       [ 0.,  0.,  2., ..., 12.,  0.,  0.],\n",
      "       [ 0.,  0., 10., ..., 12.,  1.,  0.]]), 'target': array([0, 1, 2, ..., 8, 9, 8]), 'frame': None, 'feature_names': ['pixel_0_0', 'pixel_0_1', 'pixel_0_2', 'pixel_0_3', 'pixel_0_4', 'pixel_0_5', 'pixel_0_6', 'pixel_0_7', 'pixel_1_0', 'pixel_1_1', 'pixel_1_2', 'pixel_1_3', 'pixel_1_4', 'pixel_1_5', 'pixel_1_6', 'pixel_1_7', 'pixel_2_0', 'pixel_2_1', 'pixel_2_2', 'pixel_2_3', 'pixel_2_4', 'pixel_2_5', 'pixel_2_6', 'pixel_2_7', 'pixel_3_0', 'pixel_3_1', 'pixel_3_2', 'pixel_3_3', 'pixel_3_4', 'pixel_3_5', 'pixel_3_6', 'pixel_3_7', 'pixel_4_0', 'pixel_4_1', 'pixel_4_2', 'pixel_4_3', 'pixel_4_4', 'pixel_4_5', 'pixel_4_6', 'pixel_4_7', 'pixel_5_0', 'pixel_5_1', 'pixel_5_2', 'pixel_5_3', 'pixel_5_4', 'pixel_5_5', 'pixel_5_6', 'pixel_5_7', 'pixel_6_0', 'pixel_6_1', 'pixel_6_2', 'pixel_6_3', 'pixel_6_4', 'pixel_6_5', 'pixel_6_6', 'pixel_6_7', 'pixel_7_0', 'pixel_7_1', 'pixel_7_2', 'pixel_7_3', 'pixel_7_4', 'pixel_7_5', 'pixel_7_6', 'pixel_7_7'], 'target_names': array([0, 1, 2, 3, 4, 5, 6, 7, 8, 9]), 'images': array([[[ 0.,  0.,  5., ...,  1.,  0.,  0.],\n",
      "        [ 0.,  0., 13., ..., 15.,  5.,  0.],\n",
      "        [ 0.,  3., 15., ..., 11.,  8.,  0.],\n",
      "        ...,\n",
      "        [ 0.,  4., 11., ..., 12.,  7.,  0.],\n",
      "        [ 0.,  2., 14., ..., 12.,  0.,  0.],\n",
      "        [ 0.,  0.,  6., ...,  0.,  0.,  0.]],\n",
      "\n",
      "       [[ 0.,  0.,  0., ...,  5.,  0.,  0.],\n",
      "        [ 0.,  0.,  0., ...,  9.,  0.,  0.],\n",
      "        [ 0.,  0.,  3., ...,  6.,  0.,  0.],\n",
      "        ...,\n",
      "        [ 0.,  0.,  1., ...,  6.,  0.,  0.],\n",
      "        [ 0.,  0.,  1., ...,  6.,  0.,  0.],\n",
      "        [ 0.,  0.,  0., ..., 10.,  0.,  0.]],\n",
      "\n",
      "       [[ 0.,  0.,  0., ..., 12.,  0.,  0.],\n",
      "        [ 0.,  0.,  3., ..., 14.,  0.,  0.],\n",
      "        [ 0.,  0.,  8., ..., 16.,  0.,  0.],\n",
      "        ...,\n",
      "        [ 0.,  9., 16., ...,  0.,  0.,  0.],\n",
      "        [ 0.,  3., 13., ..., 11.,  5.,  0.],\n",
      "        [ 0.,  0.,  0., ..., 16.,  9.,  0.]],\n",
      "\n",
      "       ...,\n",
      "\n",
      "       [[ 0.,  0.,  1., ...,  1.,  0.,  0.],\n",
      "        [ 0.,  0., 13., ...,  2.,  1.,  0.],\n",
      "        [ 0.,  0., 16., ..., 16.,  5.,  0.],\n",
      "        ...,\n",
      "        [ 0.,  0., 16., ..., 15.,  0.,  0.],\n",
      "        [ 0.,  0., 15., ..., 16.,  0.,  0.],\n",
      "        [ 0.,  0.,  2., ...,  6.,  0.,  0.]],\n",
      "\n",
      "       [[ 0.,  0.,  2., ...,  0.,  0.,  0.],\n",
      "        [ 0.,  0., 14., ..., 15.,  1.,  0.],\n",
      "        [ 0.,  4., 16., ..., 16.,  7.,  0.],\n",
      "        ...,\n",
      "        [ 0.,  0.,  0., ..., 16.,  2.,  0.],\n",
      "        [ 0.,  0.,  4., ..., 16.,  2.,  0.],\n",
      "        [ 0.,  0.,  5., ..., 12.,  0.,  0.]],\n",
      "\n",
      "       [[ 0.,  0., 10., ...,  1.,  0.,  0.],\n",
      "        [ 0.,  2., 16., ...,  1.,  0.,  0.],\n",
      "        [ 0.,  0., 15., ..., 15.,  0.,  0.],\n",
      "        ...,\n",
      "        [ 0.,  4., 16., ..., 16.,  6.,  0.],\n",
      "        [ 0.,  8., 16., ..., 16.,  8.,  0.],\n",
      "        [ 0.,  1.,  8., ..., 12.,  1.,  0.]]]), 'DESCR': \".. _digits_dataset:\\n\\nOptical recognition of handwritten digits dataset\\n--------------------------------------------------\\n\\n**Data Set Characteristics:**\\n\\n    :Number of Instances: 1797\\n    :Number of Attributes: 64\\n    :Attribute Information: 8x8 image of integer pixels in the range 0..16.\\n    :Missing Attribute Values: None\\n    :Creator: E. Alpaydin (alpaydin '@' boun.edu.tr)\\n    :Date: July; 1998\\n\\nThis is a copy of the test set of the UCI ML hand-written digits datasets\\nhttps://archive.ics.uci.edu/ml/datasets/Optical+Recognition+of+Handwritten+Digits\\n\\nThe data set contains images of hand-written digits: 10 classes where\\neach class refers to a digit.\\n\\nPreprocessing programs made available by NIST were used to extract\\nnormalized bitmaps of handwritten digits from a preprinted form. From a\\ntotal of 43 people, 30 contributed to the training set and different 13\\nto the test set. 32x32 bitmaps are divided into nonoverlapping blocks of\\n4x4 and the number of on pixels are counted in each block. This generates\\nan input matrix of 8x8 where each element is an integer in the range\\n0..16. This reduces dimensionality and gives invariance to small\\ndistortions.\\n\\nFor info on NIST preprocessing routines, see M. D. Garris, J. L. Blue, G.\\nT. Candela, D. L. Dimmick, J. Geist, P. J. Grother, S. A. Janet, and C.\\nL. Wilson, NIST Form-Based Handprint Recognition System, NISTIR 5469,\\n1994.\\n\\n.. topic:: References\\n\\n  - C. Kaynak (1995) Methods of Combining Multiple Classifiers and Their\\n    Applications to Handwritten Digit Recognition, MSc Thesis, Institute of\\n    Graduate Studies in Science and Engineering, Bogazici University.\\n  - E. Alpaydin, C. Kaynak (1998) Cascading Classifiers, Kybernetika.\\n  - Ken Tang and Ponnuthurai N. Suganthan and Xi Yao and A. Kai Qin.\\n    Linear dimensionalityreduction using relevance weighted LDA. School of\\n    Electrical and Electronic Engineering Nanyang Technological University.\\n    2005.\\n  - Claudio Gentile. A New Approximate Maximal Margin Classification\\n    Algorithm. NIPS. 2000.\\n\"}\n"
     ]
    }
   ],
   "source": [
    "# read & load\n",
    "from sklearn.datasets import load_digits\n",
    "digits = load_digits()\n",
    "\n",
    "print(digits)"
   ]
  },
  {
   "cell_type": "markdown",
   "id": "72ca43f1",
   "metadata": {},
   "source": [
    "# train, predict, evaluation"
   ]
  },
  {
   "cell_type": "markdown",
   "id": "ed0cb517",
   "metadata": {},
   "source": [
    "* load metrics"
   ]
  },
  {
   "cell_type": "code",
   "execution_count": 61,
   "id": "15fd5b17",
   "metadata": {},
   "outputs": [],
   "source": [
    "from sklearn.metrics import accuracy_score\n",
    "from sklearn.metrics import confusion_matrix\n",
    "from sklearn.metrics import precision_score, recall_score"
   ]
  },
  {
   "cell_type": "markdown",
   "id": "60a95bb3",
   "metadata": {},
   "source": [
    "## example #1: titanic dataset"
   ]
  },
  {
   "cell_type": "markdown",
   "id": "fcc6ed16",
   "metadata": {},
   "source": [
    "* design a dummy classifier to simulate accuracy metric"
   ]
  },
  {
   "cell_type": "code",
   "execution_count": 62,
   "id": "9a31f112",
   "metadata": {},
   "outputs": [],
   "source": [
    "from sklearn.base import BaseEstimator\n",
    "\n",
    "class My_Dummy_Classifier(BaseEstimator):\n",
    "    # this dummy will learn nothing\n",
    "    def fit(self, X, y=None):\n",
    "        pass\n",
    "    \n",
    "    # this dummy will classify \n",
    "    # if male (Sex is 1) then not survived (Survived is 0)\n",
    "    # if female (Sex is 0) then survived (Survived is 1)\n",
    "    def predict(self, X):\n",
    "        N = X.shape[0]\n",
    "        predictions = np.zeros((N, 1))\n",
    "        for i in range(N):\n",
    "            if X[\"Sex\"].iloc[i] == 1:\n",
    "                predictions[i] = 0\n",
    "            else:\n",
    "                predictions[i] = 1\n",
    "        \n",
    "        return predictions"
   ]
  },
  {
   "cell_type": "markdown",
   "id": "2e206591",
   "metadata": {},
   "source": [
    "* divide dataset"
   ]
  },
  {
   "cell_type": "code",
   "execution_count": 63,
   "id": "c483fd9b",
   "metadata": {},
   "outputs": [
    {
     "name": "stdout",
     "output_type": "stream",
     "text": [
      "(712, 8) (179, 8) (712,) (179,)\n"
     ]
    }
   ],
   "source": [
    "from sklearn.model_selection import train_test_split\n",
    "\n",
    "X_train, X_test, y_train, y_test = train_test_split(X, y, test_size=0.2, random_state=0)\n",
    "print(X_train.shape, X_test.shape, y_train.shape, y_test.shape)"
   ]
  },
  {
   "cell_type": "markdown",
   "id": "79d52a95",
   "metadata": {},
   "source": [
    "* train & predict"
   ]
  },
  {
   "cell_type": "code",
   "execution_count": 64,
   "id": "fa19e693",
   "metadata": {
    "scrolled": true
   },
   "outputs": [],
   "source": [
    "classifier = My_Dummy_Classifier()\n",
    "\n",
    "# train\n",
    "classifier.fit(X_train, y_train)  # will learn nothing\n",
    "\n",
    "# predict\n",
    "predictions = classifier.predict(X_test)"
   ]
  },
  {
   "cell_type": "markdown",
   "id": "543f7d5b",
   "metadata": {},
   "source": [
    "* evaluation"
   ]
  },
  {
   "cell_type": "code",
   "execution_count": 65,
   "id": "3abe74ff",
   "metadata": {},
   "outputs": [
    {
     "name": "stdout",
     "output_type": "stream",
     "text": [
      "accuracy: 0.7877 \n",
      "\n",
      "confusion matrix:\n",
      " [[92 18]\n",
      " [20 49]] \n",
      "\n",
      "precision: 0.7313\n",
      "recall   : 0.7101\n"
     ]
    }
   ],
   "source": [
    "# accuracy\n",
    "print(f\"accuracy: {accuracy_score(y_test, predictions):.4f}\", \"\\n\")\n",
    "\n",
    "# confusion matrix\n",
    "print(\"confusion matrix:\\n\", confusion_matrix(y_test, predictions), \"\\n\")\n",
    "\n",
    "# precision & recall\n",
    "print(f\"precision: {precision_score(y_test, predictions):.4f}\")\n",
    "print(f\"recall   : {recall_score(y_test, predictions):.4f}\")"
   ]
  },
  {
   "cell_type": "markdown",
   "id": "caca8b81",
   "metadata": {},
   "source": [
    "## example #2: MNIST dataset"
   ]
  },
  {
   "cell_type": "markdown",
   "id": "6fb7b77a",
   "metadata": {},
   "source": [
    "* design a dummy classifier to simulate accuracy metric"
   ]
  },
  {
   "cell_type": "code",
   "execution_count": 66,
   "id": "03015f67",
   "metadata": {},
   "outputs": [],
   "source": [
    "from sklearn.base import BaseEstimator\n",
    "\n",
    "class My_Dummy_Denier(BaseEstimator):\n",
    "    # this dummy will learn nothing\n",
    "    def fit(self, X, y=None):\n",
    "        pass\n",
    "    \n",
    "    # this dummy will deny whatever it receives    \n",
    "    def predict(self, X):\n",
    "        N = len(X)\n",
    "        predictions = np.zeros((N, 1), dtype=bool)\n",
    "        \n",
    "        return predictions"
   ]
  },
  {
   "cell_type": "markdown",
   "id": "0a1a2a00",
   "metadata": {},
   "source": [
    "* design a new target (binary, boolean)"
   ]
  },
  {
   "cell_type": "code",
   "execution_count": 67,
   "id": "09e3ffb5",
   "metadata": {},
   "outputs": [],
   "source": [
    "# leave features as they are\n",
    "X = digits.data\n",
    "\n",
    "# suppose target is a boolean list,\n",
    "# representing whether the detected number is 7 or not\n",
    "y = (digits.target == 7).astype(int)"
   ]
  },
  {
   "cell_type": "markdown",
   "id": "957c35a0",
   "metadata": {},
   "source": [
    "* divide dataset"
   ]
  },
  {
   "cell_type": "code",
   "execution_count": 68,
   "id": "32563405",
   "metadata": {
    "scrolled": true
   },
   "outputs": [
    {
     "name": "stdout",
     "output_type": "stream",
     "text": [
      "(1437, 64) (360, 64) (1437,) (360,)\n"
     ]
    }
   ],
   "source": [
    "from sklearn.model_selection import train_test_split\n",
    "\n",
    "X_train, X_test, y_train, y_test = train_test_split(X, y, test_size=0.2, random_state=11)\n",
    "print(X_train.shape, X_test.shape, y_train.shape, y_test.shape)"
   ]
  },
  {
   "cell_type": "code",
   "execution_count": 69,
   "id": "81a292ca",
   "metadata": {},
   "outputs": [
    {
     "data": {
      "text/plain": [
       "0    324\n",
       "1     36\n",
       "dtype: int64"
      ]
     },
     "execution_count": 69,
     "metadata": {},
     "output_type": "execute_result"
    }
   ],
   "source": [
    "# check test target\n",
    "pd.Series(y_test).value_counts()"
   ]
  },
  {
   "cell_type": "markdown",
   "id": "7d16dab0",
   "metadata": {},
   "source": [
    "* train & predict"
   ]
  },
  {
   "cell_type": "code",
   "execution_count": 70,
   "id": "0fa8ad53",
   "metadata": {
    "scrolled": false
   },
   "outputs": [],
   "source": [
    "classifier = My_Dummy_Denier()\n",
    "\n",
    "# train\n",
    "classifier.fit(X_train, y_train)  # will learn nothing\n",
    "\n",
    "# predict\n",
    "predictions = classifier.predict(X_test)"
   ]
  },
  {
   "cell_type": "markdown",
   "id": "5864f253",
   "metadata": {},
   "source": [
    "* evaluation"
   ]
  },
  {
   "cell_type": "code",
   "execution_count": 71,
   "id": "c46ccfa6",
   "metadata": {},
   "outputs": [
    {
     "name": "stdout",
     "output_type": "stream",
     "text": [
      "accuracy: 0.9000 \n",
      "\n",
      "confusion matrix:\n",
      " [[324   0]\n",
      " [ 36   0]] \n",
      "\n",
      "precision: 0.0000\n",
      "recall   : 0.0000\n"
     ]
    },
    {
     "name": "stderr",
     "output_type": "stream",
     "text": [
      "C:\\Users\\leewh\\anaconda3\\Lib\\site-packages\\sklearn\\metrics\\_classification.py:1469: UndefinedMetricWarning: Precision is ill-defined and being set to 0.0 due to no predicted samples. Use `zero_division` parameter to control this behavior.\n",
      "  _warn_prf(average, modifier, msg_start, len(result))\n"
     ]
    }
   ],
   "source": [
    "# accuracy\n",
    "print(f\"accuracy: {accuracy_score(y_test, predictions):.4f}\", \"\\n\")\n",
    "\n",
    "# confusion matrix\n",
    "print(\"confusion matrix:\\n\", confusion_matrix(y_test, predictions), \"\\n\")\n",
    "\n",
    "# precision & recall\n",
    "print(f\"precision: {precision_score(y_test, predictions):.4f}\")\n",
    "print(f\"recall   : {recall_score(y_test, predictions):.4f}\")"
   ]
  }
 ],
 "metadata": {
  "kernelspec": {
   "display_name": "Python 3 (ipykernel)",
   "language": "python",
   "name": "python3"
  },
  "language_info": {
   "codemirror_mode": {
    "name": "ipython",
    "version": 3
   },
   "file_extension": ".py",
   "mimetype": "text/x-python",
   "name": "python",
   "nbconvert_exporter": "python",
   "pygments_lexer": "ipython3",
   "version": "3.11.4"
  }
 },
 "nbformat": 4,
 "nbformat_minor": 5
}
