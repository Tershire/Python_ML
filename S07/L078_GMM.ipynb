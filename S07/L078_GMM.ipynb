{
 "cells": [
  {
   "cell_type": "markdown",
   "id": "ccc11918-713e-42c3-b0b9-acbf0ce9f5d3",
   "metadata": {},
   "source": [
    "**L078_GMM.ipynb**\n",
    "\n",
    "2024 JUN 11\n",
    "\n",
    "Tershire"
   ]
  },
  {
   "cell_type": "code",
   "execution_count": 1,
   "id": "37586f6d-78a9-48b7-ba24-6603719370ca",
   "metadata": {},
   "outputs": [],
   "source": [
    "import numpy as np\n",
    "import pandas as pd\n",
    "import matplotlib.pyplot as plt\n",
    "%matplotlib inline"
   ]
  },
  {
   "cell_type": "markdown",
   "id": "cdde0026-26de-45bb-a253-a1ba79a1443f",
   "metadata": {},
   "source": [
    "# data"
   ]
  },
  {
   "cell_type": "code",
   "execution_count": 4,
   "id": "9bf360a0-5a67-4f43-a498-7708838c9576",
   "metadata": {},
   "outputs": [],
   "source": [
    "from sklearn.datasets import load_iris"
   ]
  },
  {
   "cell_type": "code",
   "execution_count": 5,
   "id": "153ead40-eaad-4de8-8b3e-f7043e8d02ba",
   "metadata": {},
   "outputs": [],
   "source": [
    "iris_dataset = load_iris()\n",
    "\n",
    "columns = [\"sepal_length\", \"sepal_width\", \"petal_length\", \"petal_width\"]\n",
    "iris_df = pd.DataFrame(iris_dataset.data, columns=columns)\n",
    "iris_df[\"target\"] = iris_dataset.target"
   ]
  },
  {
   "cell_type": "code",
   "execution_count": 6,
   "id": "e1494101-ae12-4b8f-ad49-806aa15f453c",
   "metadata": {},
   "outputs": [
    {
     "data": {
      "text/html": [
       "<div>\n",
       "<style scoped>\n",
       "    .dataframe tbody tr th:only-of-type {\n",
       "        vertical-align: middle;\n",
       "    }\n",
       "\n",
       "    .dataframe tbody tr th {\n",
       "        vertical-align: top;\n",
       "    }\n",
       "\n",
       "    .dataframe thead th {\n",
       "        text-align: right;\n",
       "    }\n",
       "</style>\n",
       "<table border=\"1\" class=\"dataframe\">\n",
       "  <thead>\n",
       "    <tr style=\"text-align: right;\">\n",
       "      <th></th>\n",
       "      <th>sepal_length</th>\n",
       "      <th>sepal_width</th>\n",
       "      <th>petal_length</th>\n",
       "      <th>petal_width</th>\n",
       "      <th>target</th>\n",
       "    </tr>\n",
       "  </thead>\n",
       "  <tbody>\n",
       "    <tr>\n",
       "      <th>0</th>\n",
       "      <td>5.1</td>\n",
       "      <td>3.5</td>\n",
       "      <td>1.4</td>\n",
       "      <td>0.2</td>\n",
       "      <td>0</td>\n",
       "    </tr>\n",
       "    <tr>\n",
       "      <th>1</th>\n",
       "      <td>4.9</td>\n",
       "      <td>3.0</td>\n",
       "      <td>1.4</td>\n",
       "      <td>0.2</td>\n",
       "      <td>0</td>\n",
       "    </tr>\n",
       "    <tr>\n",
       "      <th>2</th>\n",
       "      <td>4.7</td>\n",
       "      <td>3.2</td>\n",
       "      <td>1.3</td>\n",
       "      <td>0.2</td>\n",
       "      <td>0</td>\n",
       "    </tr>\n",
       "  </tbody>\n",
       "</table>\n",
       "</div>"
      ],
      "text/plain": [
       "   sepal_length  sepal_width  petal_length  petal_width  target\n",
       "0           5.1          3.5           1.4          0.2       0\n",
       "1           4.9          3.0           1.4          0.2       0\n",
       "2           4.7          3.2           1.3          0.2       0"
      ]
     },
     "metadata": {},
     "output_type": "display_data"
    }
   ],
   "source": [
    "display(iris_df.head(3))"
   ]
  },
  {
   "cell_type": "markdown",
   "id": "93702581-e141-438c-91ec-dbe58bfc4d00",
   "metadata": {},
   "source": [
    "# model"
   ]
  },
  {
   "cell_type": "code",
   "execution_count": 7,
   "id": "98695bb7-3230-4eac-993b-a2ac5e7de892",
   "metadata": {},
   "outputs": [],
   "source": [
    "from sklearn.mixture import GaussianMixture"
   ]
  },
  {
   "cell_type": "code",
   "execution_count": 8,
   "id": "d53a8387-e58b-4076-889a-c45f2c509b9f",
   "metadata": {},
   "outputs": [],
   "source": [
    "gmm = GaussianMixture(n_components=3, random_state=0)"
   ]
  },
  {
   "cell_type": "markdown",
   "id": "1c6fff60-1676-4d10-80a3-c9eaa2893476",
   "metadata": {},
   "source": [
    "# training"
   ]
  },
  {
   "cell_type": "code",
   "execution_count": 9,
   "id": "865f76e4-c28e-40f6-9ecb-21a32a549afe",
   "metadata": {},
   "outputs": [],
   "source": [
    "gmm_cluster_ids = gmm.fit_predict(iris_dataset.data)"
   ]
  },
  {
   "cell_type": "code",
   "execution_count": 10,
   "id": "a876afc7-eccd-4cbd-abc8-8b5c5e32a3be",
   "metadata": {},
   "outputs": [],
   "source": [
    "iris_df[\"gmm_cluster_id\"] = gmm_cluster_ids"
   ]
  },
  {
   "cell_type": "code",
   "execution_count": 12,
   "id": "6a288453-668a-48d4-b590-bdb62e6b84fb",
   "metadata": {
    "jupyter": {
     "source_hidden": true
    }
   },
   "outputs": [
    {
     "name": "stdout",
     "output_type": "stream",
     "text": [
      "target  gmm_cluster_id\n",
      "0       1                 50\n",
      "1       0                 45\n",
      "        2                  5\n",
      "2       2                 50\n",
      "Name: count, dtype: int64\n"
     ]
    }
   ],
   "source": [
    "clustering_result = iris_df.groupby([\"target\"])[\"gmm_cluster_id\"].value_counts()\n",
    "print(clustering_result)"
   ]
  },
  {
   "cell_type": "markdown",
   "id": "75217bc8-863d-4f02-8801-7b444bd30f6a",
   "metadata": {},
   "source": [
    "# model: K-means"
   ]
  },
  {
   "cell_type": "code",
   "execution_count": 15,
   "id": "dc58db94-6d86-467f-b0ea-b74b12261459",
   "metadata": {},
   "outputs": [],
   "source": [
    "from sklearn.cluster import KMeans"
   ]
  },
  {
   "cell_type": "code",
   "execution_count": 16,
   "id": "f1a12a2b-616c-4544-bac9-78d4c13817b4",
   "metadata": {},
   "outputs": [],
   "source": [
    "kmeans = KMeans(n_clusters=3, init=\"k-means++\", max_iter=300, random_state=0)"
   ]
  },
  {
   "cell_type": "markdown",
   "id": "afa5acd9-18ad-40d0-8cb4-daac52ca53ef",
   "metadata": {},
   "source": [
    "# training: K-means"
   ]
  },
  {
   "cell_type": "code",
   "execution_count": 17,
   "id": "48b2e210-c82d-468a-b25d-f903e290e5c3",
   "metadata": {},
   "outputs": [],
   "source": [
    "kmeans_cluster_ids = kmeans.fit_predict(iris_dataset.data)"
   ]
  },
  {
   "cell_type": "code",
   "execution_count": 18,
   "id": "da4c1fa7-3480-4f04-8206-22504aafba33",
   "metadata": {},
   "outputs": [],
   "source": [
    "iris_df[\"kmeans_cluster_id\"] = kmeans_cluster_ids"
   ]
  },
  {
   "cell_type": "code",
   "execution_count": 19,
   "id": "2f0a0dee-cb3b-4ccd-b762-f33a24cf8f83",
   "metadata": {},
   "outputs": [
    {
     "name": "stdout",
     "output_type": "stream",
     "text": [
      "target  kmeans_cluster_id\n",
      "0       1                    50\n",
      "1       0                    47\n",
      "        2                     3\n",
      "2       2                    36\n",
      "        0                    14\n",
      "Name: count, dtype: int64\n"
     ]
    }
   ],
   "source": [
    "clustering_result = iris_df.groupby([\"target\"])[\"kmeans_cluster_id\"].value_counts()\n",
    "print(clustering_result)"
   ]
  },
  {
   "cell_type": "code",
   "execution_count": null,
   "id": "fc28fe9d-768b-4955-a53a-7d48b19b226c",
   "metadata": {},
   "outputs": [],
   "source": []
  }
 ],
 "metadata": {
  "kernelspec": {
   "display_name": "Python 3 (ipykernel)",
   "language": "python",
   "name": "python3"
  },
  "language_info": {
   "codemirror_mode": {
    "name": "ipython",
    "version": 3
   },
   "file_extension": ".py",
   "mimetype": "text/x-python",
   "name": "python",
   "nbconvert_exporter": "python",
   "pygments_lexer": "ipython3",
   "version": "3.11.8"
  }
 },
 "nbformat": 4,
 "nbformat_minor": 5
}
