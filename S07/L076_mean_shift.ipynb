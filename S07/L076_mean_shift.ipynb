{
 "cells": [
  {
   "cell_type": "markdown",
   "id": "7029922d-2ac8-414e-ab45-c23e176bbb8a",
   "metadata": {},
   "source": [
    "**L076_mean_shift.ipynb**\n",
    "\n",
    "2024 JUN 11\n",
    "\n",
    "Tershire"
   ]
  },
  {
   "cell_type": "code",
   "execution_count": 15,
   "id": "7e897393-fa34-4c95-9747-20adfb8e6263",
   "metadata": {},
   "outputs": [],
   "source": [
    "import numpy as np\n",
    "import pandas as pd\n",
    "import matplotlib.pyplot as plt\n",
    "%matplotlib inline"
   ]
  },
  {
   "cell_type": "markdown",
   "id": "f3ab95ac-bd62-4a09-aa8c-3109219b242a",
   "metadata": {},
   "source": [
    "# data"
   ]
  },
  {
   "cell_type": "code",
   "execution_count": 2,
   "id": "ba4577a6-3138-4b3f-8c55-168d8ea62384",
   "metadata": {},
   "outputs": [],
   "source": [
    "from sklearn.datasets import make_blobs"
   ]
  },
  {
   "cell_type": "code",
   "execution_count": 3,
   "id": "0daba87d-68a0-494b-8430-3ab7a06e71ef",
   "metadata": {},
   "outputs": [],
   "source": [
    "X, Y = make_blobs(n_samples=200, n_features=2, centers=3, cluster_std=0.8, random_state=0)"
   ]
  },
  {
   "cell_type": "markdown",
   "id": "d0634ff9-2e7b-40ba-bedd-31dcea3b6b04",
   "metadata": {},
   "source": [
    "# model"
   ]
  },
  {
   "cell_type": "code",
   "execution_count": 4,
   "id": "30c62551-bbb4-4eeb-bf73-1832a195d48a",
   "metadata": {},
   "outputs": [],
   "source": [
    "from sklearn.cluster import MeanShift"
   ]
  },
  {
   "cell_type": "markdown",
   "id": "7315d979-e333-4c16-af60-2105f7dd9348",
   "metadata": {},
   "source": [
    "## model1: training & result"
   ]
  },
  {
   "cell_type": "code",
   "execution_count": 5,
   "id": "4a2540d8-17a0-4d0c-b4a5-a7cc62a12325",
   "metadata": {},
   "outputs": [],
   "source": [
    "mean_shift = MeanShift(bandwidth=0.9)"
   ]
  },
  {
   "cell_type": "code",
   "execution_count": 6,
   "id": "9b37dbf9-1f77-4983-9b93-c189f3c6ea94",
   "metadata": {},
   "outputs": [],
   "source": [
    "cluster_ids = mean_shift.fit_predict(X)"
   ]
  },
  {
   "cell_type": "code",
   "execution_count": 7,
   "id": "410768aa-a0da-41eb-b240-3d3d35a253a8",
   "metadata": {},
   "outputs": [
    {
     "name": "stdout",
     "output_type": "stream",
     "text": [
      "unique cluster IDs: [0 1 2 3 4 5 6 7]\n"
     ]
    }
   ],
   "source": [
    "print(\"unique cluster IDs:\", np.unique(cluster_ids))"
   ]
  },
  {
   "cell_type": "markdown",
   "id": "b0489eec-7b0d-40db-af2c-9a1cdceabf62",
   "metadata": {},
   "source": [
    "## model2: training & result"
   ]
  },
  {
   "cell_type": "code",
   "execution_count": 8,
   "id": "405c9d4a-9f82-4fa4-afc5-8d42d25fbebc",
   "metadata": {},
   "outputs": [],
   "source": [
    "mean_shift = MeanShift(bandwidth=1.0)"
   ]
  },
  {
   "cell_type": "code",
   "execution_count": 9,
   "id": "6cbd4673-fed4-4dca-8fb5-91b1966ff1e6",
   "metadata": {},
   "outputs": [],
   "source": [
    "cluster_ids = mean_shift.fit_predict(X)"
   ]
  },
  {
   "cell_type": "code",
   "execution_count": 10,
   "id": "eb640a77-e8a1-4d74-ac2b-5665fd55ab43",
   "metadata": {},
   "outputs": [
    {
     "name": "stdout",
     "output_type": "stream",
     "text": [
      "unique cluster IDs: [0 1 2]\n"
     ]
    }
   ],
   "source": [
    "print(\"unique cluster IDs:\", np.unique(cluster_ids))"
   ]
  },
  {
   "cell_type": "markdown",
   "id": "d18d8cfe-3901-408b-aa16-e2b1821b961f",
   "metadata": {},
   "source": [
    "## model3: training & result (optimal bandwidth)"
   ]
  },
  {
   "cell_type": "code",
   "execution_count": 16,
   "id": "2db35d98-7b30-4fbb-b999-f5d06ffe2c2d",
   "metadata": {},
   "outputs": [],
   "source": [
    "from sklearn.cluster import estimate_bandwidth"
   ]
  },
  {
   "cell_type": "code",
   "execution_count": 17,
   "id": "aac68200-951c-4342-b8f2-26a4cae5dd84",
   "metadata": {},
   "outputs": [
    {
     "name": "stdout",
     "output_type": "stream",
     "text": [
      "optimal_bandwidth: 1.689\n"
     ]
    }
   ],
   "source": [
    "optimal_bandwidth = estimate_bandwidth(X, quantile=0.25)\n",
    "print(f\"optimal_bandwidth: {optimal_bandwidth:.3F}\")"
   ]
  },
  {
   "cell_type": "code",
   "execution_count": 18,
   "id": "c7c892cb-d054-4585-9bcd-3dc39949ce85",
   "metadata": {},
   "outputs": [],
   "source": [
    "mean_shift = MeanShift(bandwidth=optimal_bandwidth)"
   ]
  },
  {
   "cell_type": "code",
   "execution_count": 19,
   "id": "6ac84f14-9116-4bc5-9649-338cfd792b4e",
   "metadata": {},
   "outputs": [],
   "source": [
    "cluster_ids = mean_shift.fit_predict(X)"
   ]
  },
  {
   "cell_type": "code",
   "execution_count": 20,
   "id": "8ca75471-daa7-4869-96e8-ec976218aa4f",
   "metadata": {},
   "outputs": [
    {
     "name": "stdout",
     "output_type": "stream",
     "text": [
      "unique cluster IDs: [0 1 2]\n"
     ]
    }
   ],
   "source": [
    "print(\"unique cluster IDs:\", np.unique(cluster_ids))"
   ]
  },
  {
   "cell_type": "markdown",
   "id": "9094f60a-809f-4067-8ecd-54816165694c",
   "metadata": {},
   "source": [
    "# data: pandas"
   ]
  },
  {
   "cell_type": "code",
   "execution_count": 21,
   "id": "c074d653-b2de-4ab6-9543-b3144a15f857",
   "metadata": {},
   "outputs": [],
   "source": [
    "dataset_df = pd.DataFrame(data=X, columns=[\"feature1\", \"feature2\"])\n",
    "dataset_df[\"target\"] = Y"
   ]
  },
  {
   "cell_type": "markdown",
   "id": "ec181ec7-f0c6-4456-9197-f17e687f019e",
   "metadata": {},
   "source": [
    "# model"
   ]
  },
  {
   "cell_type": "code",
   "execution_count": 23,
   "id": "c589258d-89e5-4da9-aa4b-b418ee9468b5",
   "metadata": {},
   "outputs": [],
   "source": [
    "# optimal bandwidth\n",
    "optimal_bandwidth = estimate_bandwidth(X, quantile=0.25)"
   ]
  },
  {
   "cell_type": "code",
   "execution_count": 24,
   "id": "62e5c2ce-e21f-4361-acc0-0e8fc99738f4",
   "metadata": {},
   "outputs": [],
   "source": [
    "mean_shift = MeanShift(bandwidth=optimal_bandwidth)"
   ]
  },
  {
   "cell_type": "markdown",
   "id": "ab5851af-1b40-4b48-9e95-683b089b9487",
   "metadata": {},
   "source": [
    "# training"
   ]
  },
  {
   "cell_type": "code",
   "execution_count": 25,
   "id": "a941a7c4-bc49-4e33-a07b-9713e1b858d3",
   "metadata": {},
   "outputs": [],
   "source": [
    "cluster_ids = mean_shift.fit_predict(X)"
   ]
  },
  {
   "cell_type": "markdown",
   "id": "2d8a0928-237d-4612-980e-2140db0be486",
   "metadata": {},
   "source": [
    "# training result"
   ]
  },
  {
   "cell_type": "code",
   "execution_count": 27,
   "id": "1b74ab1f-2773-4690-b17a-b198715db032",
   "metadata": {},
   "outputs": [],
   "source": [
    "dataset_df[\"cluster_id\"] = cluster_ids"
   ]
  },
  {
   "cell_type": "code",
   "execution_count": 30,
   "id": "31b93309-12a0-4173-bec9-cd4671c3211c",
   "metadata": {},
   "outputs": [],
   "source": [
    "cluster_centers = mean_shift.cluster_centers_\n",
    "unique_cluster_ids = np.unique(cluster_ids)"
   ]
  },
  {
   "cell_type": "code",
   "execution_count": 31,
   "id": "4fcf3642-5f8e-4df6-a96d-d450fd1673fb",
   "metadata": {},
   "outputs": [
    {
     "name": "stdout",
     "output_type": "stream",
     "text": [
      "target  cluster_id\n",
      "0       0             67\n",
      "1       2             67\n",
      "2       1             65\n",
      "        2              1\n",
      "Name: feature1, dtype: int64\n"
     ]
    }
   ],
   "source": [
    "clustering_result = dataset_df.groupby([\"target\", \"cluster_id\"])[\"feature1\"].count()\n",
    "print(clustering_result)"
   ]
  },
  {
   "cell_type": "code",
   "execution_count": 33,
   "id": "d91927e9-4e26-46d9-a251-288ade10fa7e",
   "metadata": {},
   "outputs": [
    {
     "name": "stdout",
     "output_type": "stream",
     "text": [
      "target  cluster_id\n",
      "0       0             67\n",
      "1       2             67\n",
      "2       1             65\n",
      "        2              1\n",
      "Name: count, dtype: int64\n"
     ]
    }
   ],
   "source": [
    "clustering_result = dataset_df.groupby(\"target\")[\"cluster_id\"].value_counts()\n",
    "print(clustering_result)"
   ]
  },
  {
   "cell_type": "markdown",
   "id": "113ab312-997b-4eaf-afbe-06c35057281d",
   "metadata": {},
   "source": [
    "## visualization"
   ]
  },
  {
   "cell_type": "code",
   "execution_count": 32,
   "id": "9f97e52f-4063-46f0-ad31-5df9270b114a",
   "metadata": {},
   "outputs": [
    {
     "data": {
      "image/png": "[encoded data removed]",
      "text/plain": [
       "<Figure size 640x480 with 1 Axes>"
      ]
     },
     "metadata": {},
     "output_type": "display_data"
    }
   ],
   "source": [
    "markers = ['o', 's', '^']\n",
    "for cluster_id in unique_cluster_ids:\n",
    "    cluster = dataset_df[dataset_df[\"cluster_id\"]==cluster_id]\n",
    "    plt.scatter(x=cluster[\"feature1\"], y=cluster[\"feature2\"],\n",
    "                edgecolors='k', marker=markers[cluster_id])\n",
    "\n",
    "for i, cluster_center in enumerate(cluster_centers):\n",
    "    # shape\n",
    "    plt.scatter(x=cluster_center[0], y=cluster_center[1],\n",
    "                s=200, color=\"white\", alpha=0.75,\n",
    "                edgecolors='k', marker=markers[i])\n",
    "    # text\n",
    "    plt.scatter(x=cluster_center[0], y=cluster_center[1],\n",
    "                s=70, color='k',\n",
    "                edgecolors='k', marker=\"$%d$\" % i)\n",
    "\n",
    "plt.show()"
   ]
  }
 ],
 "metadata": {
  "kernelspec": {
   "display_name": "Python 3 (ipykernel)",
   "language": "python",
   "name": "python3"
  },
  "language_info": {
   "codemirror_mode": {
    "name": "ipython",
    "version": 3
   },
   "file_extension": ".py",
   "mimetype": "text/x-python",
   "name": "python",
   "nbconvert_exporter": "python",
   "pygments_lexer": "ipython3",
   "version": "3.11.8"
  }
 },
 "nbformat": 4,
 "nbformat_minor": 5
}
