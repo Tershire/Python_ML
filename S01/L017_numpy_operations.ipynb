{
 "cells": [
  {
   "cell_type": "markdown",
   "id": "a35b704a",
   "metadata": {},
   "source": [
    "**Sorting**"
   ]
  },
  {
   "cell_type": "code",
   "execution_count": 1,
   "id": "aa094268",
   "metadata": {},
   "outputs": [],
   "source": [
    "import numpy as np"
   ]
  },
  {
   "cell_type": "code",
   "execution_count": 2,
   "id": "4277b99f",
   "metadata": {},
   "outputs": [
    {
     "name": "stdout",
     "output_type": "stream",
     "text": [
      "[6 4 5 4 9 7]\n"
     ]
    }
   ],
   "source": [
    "array = np.random.randint(0, 10, 6)\n",
    "print(array)"
   ]
  },
  {
   "cell_type": "markdown",
   "id": "f9ddfffe",
   "metadata": {},
   "source": [
    "*M1: np.sort()*"
   ]
  },
  {
   "cell_type": "code",
   "execution_count": 3,
   "id": "d4bc89f1",
   "metadata": {},
   "outputs": [
    {
     "name": "stdout",
     "output_type": "stream",
     "text": [
      "[4 4 5 6 7 9]\n",
      "[6 4 5 4 9 7]\n"
     ]
    }
   ],
   "source": [
    "print(np.sort(array))\n",
    "print(array)"
   ]
  },
  {
   "cell_type": "markdown",
   "id": "c36d4be4",
   "metadata": {},
   "source": [
    "*M2: .sort()*"
   ]
  },
  {
   "cell_type": "code",
   "execution_count": 4,
   "id": "5f553ecf",
   "metadata": {},
   "outputs": [
    {
     "name": "stdout",
     "output_type": "stream",
     "text": [
      "[4 4 5 6 7 9]\n"
     ]
    }
   ],
   "source": [
    "array.sort()\n",
    "print(array)"
   ]
  },
  {
   "cell_type": "markdown",
   "id": "8211dc60",
   "metadata": {},
   "source": [
    "    *to descending order*"
   ]
  },
  {
   "cell_type": "code",
   "execution_count": 5,
   "id": "5bcae9a6",
   "metadata": {},
   "outputs": [
    {
     "name": "stdout",
     "output_type": "stream",
     "text": [
      "[9 7 6 5 4 4]\n"
     ]
    }
   ],
   "source": [
    "print(np.sort(array)[::-1])"
   ]
  },
  {
   "cell_type": "markdown",
   "id": "9651bec8",
   "metadata": {},
   "source": [
    "    *2D array*"
   ]
  },
  {
   "cell_type": "code",
   "execution_count": 6,
   "id": "a28b2951",
   "metadata": {},
   "outputs": [
    {
     "name": "stdout",
     "output_type": "stream",
     "text": [
      "[[5 0 7]\n",
      " [9 0 5]]\n"
     ]
    }
   ],
   "source": [
    "array = np.random.randint(0, 10, 6)\n",
    "array = array.reshape(-1, 3)\n",
    "print(array)"
   ]
  },
  {
   "cell_type": "code",
   "execution_count": 7,
   "id": "06fd5644",
   "metadata": {},
   "outputs": [
    {
     "name": "stdout",
     "output_type": "stream",
     "text": [
      "[[5 0 5]\n",
      " [9 0 7]]\n",
      "[[0 5 7]\n",
      " [0 5 9]]\n"
     ]
    }
   ],
   "source": [
    "print(np.sort(array, axis=0))\n",
    "print(np.sort(array, axis=1))"
   ]
  },
  {
   "cell_type": "markdown",
   "id": "436b1683",
   "metadata": {},
   "source": [
    "**argsort()**"
   ]
  },
  {
   "cell_type": "code",
   "execution_count": 12,
   "id": "2b4e4615",
   "metadata": {},
   "outputs": [
    {
     "name": "stdout",
     "output_type": "stream",
     "text": [
      "[0 2 1]\n",
      "['goshawk' 'eagle' 'sparrow']\n"
     ]
    }
   ],
   "source": [
    "names = np.array([\"sparrow\", \"goshawk\", \"eagle\"])\n",
    "scores = np.array([11, 17, 14])\n",
    "\n",
    "print(np.argsort(scores))\n",
    "print(names[np.argsort(scores)[::-1]])"
   ]
  },
  {
   "cell_type": "markdown",
   "id": "76aa6735",
   "metadata": {},
   "source": [
    "**dot product**"
   ]
  },
  {
   "cell_type": "code",
   "execution_count": 19,
   "id": "8558be6b",
   "metadata": {},
   "outputs": [
    {
     "name": "stdout",
     "output_type": "stream",
     "text": [
      "[[ 8]\n",
      " [12]]\n",
      "[[ 8]\n",
      " [12]]\n"
     ]
    }
   ],
   "source": [
    "a = np.array([[1, 2, 3],\n",
    "              [2, 3, 4]])\n",
    "b = np.array([1, 2, 1]).reshape(-1, 1)\n",
    "\n",
    "print(np.dot(a, b))\n",
    "print(a @ b)"
   ]
  },
  {
   "cell_type": "markdown",
   "id": "10268ea2",
   "metadata": {},
   "source": [
    "**transpose**"
   ]
  },
  {
   "cell_type": "code",
   "execution_count": 29,
   "id": "a5d60222",
   "metadata": {},
   "outputs": [
    {
     "name": "stdout",
     "output_type": "stream",
     "text": [
      "(2, 3)\n",
      "[[1 2]\n",
      " [2 3]\n",
      " [3 4]] (3, 2)\n",
      "(3, 1)\n",
      "[[1 2 1]] (1, 3)\n",
      "(3,)\n",
      "[1 0 1] (3,)\n"
     ]
    }
   ],
   "source": [
    "print(a.shape)\n",
    "a_transposed = a.transpose()\n",
    "print(a_transposed, a_transposed.shape)\n",
    "\n",
    "print(b.shape)\n",
    "b_transposed = b.transpose()\n",
    "print(b_transposed, b_transposed.shape)\n",
    "\n",
    "c = np.array([1, 0, 1])\n",
    "print(c.shape)\n",
    "c_transposed = c.transpose()\n",
    "print(c_transposed, c_transposed.shape)"
   ]
  },
  {
   "cell_type": "code",
   "execution_count": null,
   "id": "98af2f55",
   "metadata": {},
   "outputs": [],
   "source": []
  }
 ],
 "metadata": {
  "kernelspec": {
   "display_name": "Python 3 (ipykernel)",
   "language": "python",
   "name": "python3"
  },
  "language_info": {
   "codemirror_mode": {
    "name": "ipython",
    "version": 3
   },
   "file_extension": ".py",
   "mimetype": "text/x-python",
   "name": "python",
   "nbconvert_exporter": "python",
   "pygments_lexer": "ipython3",
   "version": "3.11.4"
  }
 },
 "nbformat": 4,
 "nbformat_minor": 5
}
