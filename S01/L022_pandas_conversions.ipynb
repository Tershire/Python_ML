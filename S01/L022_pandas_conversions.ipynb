{
 "cells": [
  {
   "cell_type": "code",
   "execution_count": 27,
   "id": "22c0bfa2",
   "metadata": {},
   "outputs": [],
   "source": [
    "import numpy as np\n",
    "import pandas as pd"
   ]
  },
  {
   "cell_type": "markdown",
   "id": "d5cddb87",
   "metadata": {},
   "source": [
    "**list | ndarray -> DataFrame (1D)**"
   ]
  },
  {
   "cell_type": "code",
   "execution_count": 28,
   "id": "2e44c279",
   "metadata": {},
   "outputs": [],
   "source": [
    "col_names = [\"Score\"]\n",
    "\n",
    "list = [57, 92, 83]\n",
    "array = np.array(list)"
   ]
  },
  {
   "cell_type": "markdown",
   "id": "868b24ad",
   "metadata": {},
   "source": [
    "*1) list -> DataFrame*"
   ]
  },
  {
   "cell_type": "code",
   "execution_count": 29,
   "id": "c829915d",
   "metadata": {},
   "outputs": [
    {
     "data": {
      "text/html": [
       "<div>\n",
       "<style scoped>\n",
       "    .dataframe tbody tr th:only-of-type {\n",
       "        vertical-align: middle;\n",
       "    }\n",
       "\n",
       "    .dataframe tbody tr th {\n",
       "        vertical-align: top;\n",
       "    }\n",
       "\n",
       "    .dataframe thead th {\n",
       "        text-align: right;\n",
       "    }\n",
       "</style>\n",
       "<table border=\"1\" class=\"dataframe\">\n",
       "  <thead>\n",
       "    <tr style=\"text-align: right;\">\n",
       "      <th></th>\n",
       "      <th>Score</th>\n",
       "    </tr>\n",
       "  </thead>\n",
       "  <tbody>\n",
       "    <tr>\n",
       "      <th>0</th>\n",
       "      <td>57</td>\n",
       "    </tr>\n",
       "    <tr>\n",
       "      <th>1</th>\n",
       "      <td>92</td>\n",
       "    </tr>\n",
       "    <tr>\n",
       "      <th>2</th>\n",
       "      <td>83</td>\n",
       "    </tr>\n",
       "  </tbody>\n",
       "</table>\n",
       "</div>"
      ],
      "text/plain": [
       "   Score\n",
       "0     57\n",
       "1     92\n",
       "2     83"
      ]
     },
     "metadata": {},
     "output_type": "display_data"
    }
   ],
   "source": [
    "df_from_list = pd.DataFrame(list, columns=col_names)\n",
    "\n",
    "display(df_from_list)"
   ]
  },
  {
   "cell_type": "markdown",
   "id": "d344b744",
   "metadata": {},
   "source": [
    "*2) ndarray -> DataFrame*"
   ]
  },
  {
   "cell_type": "code",
   "execution_count": 30,
   "id": "e893cb39",
   "metadata": {},
   "outputs": [
    {
     "data": {
      "text/html": [
       "<div>\n",
       "<style scoped>\n",
       "    .dataframe tbody tr th:only-of-type {\n",
       "        vertical-align: middle;\n",
       "    }\n",
       "\n",
       "    .dataframe tbody tr th {\n",
       "        vertical-align: top;\n",
       "    }\n",
       "\n",
       "    .dataframe thead th {\n",
       "        text-align: right;\n",
       "    }\n",
       "</style>\n",
       "<table border=\"1\" class=\"dataframe\">\n",
       "  <thead>\n",
       "    <tr style=\"text-align: right;\">\n",
       "      <th></th>\n",
       "      <th>Score</th>\n",
       "    </tr>\n",
       "  </thead>\n",
       "  <tbody>\n",
       "    <tr>\n",
       "      <th>0</th>\n",
       "      <td>57</td>\n",
       "    </tr>\n",
       "    <tr>\n",
       "      <th>1</th>\n",
       "      <td>92</td>\n",
       "    </tr>\n",
       "    <tr>\n",
       "      <th>2</th>\n",
       "      <td>83</td>\n",
       "    </tr>\n",
       "  </tbody>\n",
       "</table>\n",
       "</div>"
      ],
      "text/plain": [
       "   Score\n",
       "0     57\n",
       "1     92\n",
       "2     83"
      ]
     },
     "metadata": {},
     "output_type": "display_data"
    }
   ],
   "source": [
    "df_from_array = pd.DataFrame(array, columns=col_names)\n",
    "\n",
    "display(df_from_array)"
   ]
  },
  {
   "cell_type": "markdown",
   "id": "78f82f0d",
   "metadata": {},
   "source": [
    "**list | ndarray -> DataFrame (2D)**"
   ]
  },
  {
   "cell_type": "code",
   "execution_count": 31,
   "id": "03608c6f",
   "metadata": {},
   "outputs": [],
   "source": [
    "col_names = [\"Score\", \"Passed\"]\n",
    "\n",
    "list = [[57, False],\n",
    "        [92, True],\n",
    "        [83, True]]\n",
    "array = np.array(list)"
   ]
  },
  {
   "cell_type": "markdown",
   "id": "b90a2554",
   "metadata": {},
   "source": [
    "*1) list -> DataFrame*"
   ]
  },
  {
   "cell_type": "code",
   "execution_count": 32,
   "id": "f677657c",
   "metadata": {},
   "outputs": [
    {
     "data": {
      "text/html": [
       "<div>\n",
       "<style scoped>\n",
       "    .dataframe tbody tr th:only-of-type {\n",
       "        vertical-align: middle;\n",
       "    }\n",
       "\n",
       "    .dataframe tbody tr th {\n",
       "        vertical-align: top;\n",
       "    }\n",
       "\n",
       "    .dataframe thead th {\n",
       "        text-align: right;\n",
       "    }\n",
       "</style>\n",
       "<table border=\"1\" class=\"dataframe\">\n",
       "  <thead>\n",
       "    <tr style=\"text-align: right;\">\n",
       "      <th></th>\n",
       "      <th>Score</th>\n",
       "      <th>Passed</th>\n",
       "    </tr>\n",
       "  </thead>\n",
       "  <tbody>\n",
       "    <tr>\n",
       "      <th>0</th>\n",
       "      <td>57</td>\n",
       "      <td>False</td>\n",
       "    </tr>\n",
       "    <tr>\n",
       "      <th>1</th>\n",
       "      <td>92</td>\n",
       "      <td>True</td>\n",
       "    </tr>\n",
       "    <tr>\n",
       "      <th>2</th>\n",
       "      <td>83</td>\n",
       "      <td>True</td>\n",
       "    </tr>\n",
       "  </tbody>\n",
       "</table>\n",
       "</div>"
      ],
      "text/plain": [
       "   Score  Passed\n",
       "0     57   False\n",
       "1     92    True\n",
       "2     83    True"
      ]
     },
     "metadata": {},
     "output_type": "display_data"
    }
   ],
   "source": [
    "df_from_list = pd.DataFrame(list, columns=col_names)\n",
    "\n",
    "display(df_from_list)"
   ]
  },
  {
   "cell_type": "markdown",
   "id": "9f3aa52f",
   "metadata": {},
   "source": [
    "*2) ndarray -> DataFrame*"
   ]
  },
  {
   "cell_type": "code",
   "execution_count": 33,
   "id": "6c3f334e",
   "metadata": {},
   "outputs": [
    {
     "data": {
      "text/html": [
       "<div>\n",
       "<style scoped>\n",
       "    .dataframe tbody tr th:only-of-type {\n",
       "        vertical-align: middle;\n",
       "    }\n",
       "\n",
       "    .dataframe tbody tr th {\n",
       "        vertical-align: top;\n",
       "    }\n",
       "\n",
       "    .dataframe thead th {\n",
       "        text-align: right;\n",
       "    }\n",
       "</style>\n",
       "<table border=\"1\" class=\"dataframe\">\n",
       "  <thead>\n",
       "    <tr style=\"text-align: right;\">\n",
       "      <th></th>\n",
       "      <th>Score</th>\n",
       "      <th>Passed</th>\n",
       "    </tr>\n",
       "  </thead>\n",
       "  <tbody>\n",
       "    <tr>\n",
       "      <th>0</th>\n",
       "      <td>57</td>\n",
       "      <td>0</td>\n",
       "    </tr>\n",
       "    <tr>\n",
       "      <th>1</th>\n",
       "      <td>92</td>\n",
       "      <td>1</td>\n",
       "    </tr>\n",
       "    <tr>\n",
       "      <th>2</th>\n",
       "      <td>83</td>\n",
       "      <td>1</td>\n",
       "    </tr>\n",
       "  </tbody>\n",
       "</table>\n",
       "</div>"
      ],
      "text/plain": [
       "   Score  Passed\n",
       "0     57       0\n",
       "1     92       1\n",
       "2     83       1"
      ]
     },
     "metadata": {},
     "output_type": "display_data"
    }
   ],
   "source": [
    "df_from_array = pd.DataFrame(array, columns=col_names)\n",
    "\n",
    "display(df_from_array)"
   ]
  },
  {
   "cell_type": "markdown",
   "id": "e3f1922a",
   "metadata": {},
   "source": [
    "**dict -> DataFrame**"
   ]
  },
  {
   "cell_type": "code",
   "execution_count": 34,
   "id": "e4b09da5",
   "metadata": {},
   "outputs": [
    {
     "data": {
      "text/html": [
       "<div>\n",
       "<style scoped>\n",
       "    .dataframe tbody tr th:only-of-type {\n",
       "        vertical-align: middle;\n",
       "    }\n",
       "\n",
       "    .dataframe tbody tr th {\n",
       "        vertical-align: top;\n",
       "    }\n",
       "\n",
       "    .dataframe thead th {\n",
       "        text-align: right;\n",
       "    }\n",
       "</style>\n",
       "<table border=\"1\" class=\"dataframe\">\n",
       "  <thead>\n",
       "    <tr style=\"text-align: right;\">\n",
       "      <th></th>\n",
       "      <th>Score</th>\n",
       "      <th>Passed</th>\n",
       "    </tr>\n",
       "  </thead>\n",
       "  <tbody>\n",
       "    <tr>\n",
       "      <th>0</th>\n",
       "      <td>57</td>\n",
       "      <td>False</td>\n",
       "    </tr>\n",
       "    <tr>\n",
       "      <th>1</th>\n",
       "      <td>92</td>\n",
       "      <td>True</td>\n",
       "    </tr>\n",
       "    <tr>\n",
       "      <th>2</th>\n",
       "      <td>83</td>\n",
       "      <td>True</td>\n",
       "    </tr>\n",
       "  </tbody>\n",
       "</table>\n",
       "</div>"
      ],
      "text/plain": [
       "   Score  Passed\n",
       "0     57   False\n",
       "1     92    True\n",
       "2     83    True"
      ]
     },
     "metadata": {},
     "output_type": "display_data"
    }
   ],
   "source": [
    "dict = {\"Score\": [57, 92, 83], \"Passed\": [False, True, True]}\n",
    "df_from_dict = pd.DataFrame(dict)\n",
    "\n",
    "display(df_from_dict)"
   ]
  },
  {
   "cell_type": "markdown",
   "id": "7952adb9",
   "metadata": {},
   "source": [
    "**DataFrame -> list | ndarray**"
   ]
  },
  {
   "cell_type": "code",
   "execution_count": 35,
   "id": "a350bada",
   "metadata": {},
   "outputs": [],
   "source": [
    "df = df_from_dict"
   ]
  },
  {
   "cell_type": "markdown",
   "id": "69c1f77e",
   "metadata": {},
   "source": [
    "*1) DataFrame -> ndarray*"
   ]
  },
  {
   "cell_type": "code",
   "execution_count": 36,
   "id": "7dc4d7df",
   "metadata": {
    "scrolled": false
   },
   "outputs": [
    {
     "name": "stdout",
     "output_type": "stream",
     "text": [
      "<class 'numpy.ndarray'> (3, 2)\n",
      "[[57 False]\n",
      " [92 True]\n",
      " [83 True]]\n"
     ]
    }
   ],
   "source": [
    "array = df.values\n",
    "\n",
    "print(type(array), array.shape)\n",
    "print(array)"
   ]
  },
  {
   "cell_type": "markdown",
   "id": "17f22866",
   "metadata": {},
   "source": [
    "*2) DataFrame -> list*"
   ]
  },
  {
   "cell_type": "code",
   "execution_count": 37,
   "id": "f8c450ea",
   "metadata": {},
   "outputs": [
    {
     "name": "stdout",
     "output_type": "stream",
     "text": [
      "<class 'list'>\n",
      "[[57, False], [92, True], [83, True]]\n"
     ]
    }
   ],
   "source": [
    "list = df.values.tolist()\n",
    "\n",
    "print(type(list))\n",
    "print(list)"
   ]
  },
  {
   "cell_type": "markdown",
   "id": "b3c273dd",
   "metadata": {},
   "source": [
    "**DataFrame -> dict**"
   ]
  },
  {
   "cell_type": "code",
   "execution_count": 38,
   "id": "056be6c3",
   "metadata": {},
   "outputs": [
    {
     "name": "stdout",
     "output_type": "stream",
     "text": [
      "<class 'dict'>\n",
      "{'Score': {0: 57, 1: 92, 2: 83}, 'Passed': {0: False, 1: True, 2: True}}\n",
      "<class 'dict'>\n",
      "{'Score': [57, 92, 83], 'Passed': [False, True, True]}\n"
     ]
    }
   ],
   "source": [
    "# contents in dict (default)\n",
    "dict = df.to_dict()\n",
    "\n",
    "print(type(dict))\n",
    "print(dict)\n",
    "\n",
    "# contents in list\n",
    "dict = df.to_dict(\"list\")\n",
    "\n",
    "print(type(dict))\n",
    "print(dict)"
   ]
  },
  {
   "cell_type": "code",
   "execution_count": null,
   "id": "6e81010e",
   "metadata": {},
   "outputs": [],
   "source": []
  }
 ],
 "metadata": {
  "kernelspec": {
   "display_name": "Python 3 (ipykernel)",
   "language": "python",
   "name": "python3"
  },
  "language_info": {
   "codemirror_mode": {
    "name": "ipython",
    "version": 3
   },
   "file_extension": ".py",
   "mimetype": "text/x-python",
   "name": "python",
   "nbconvert_exporter": "python",
   "pygments_lexer": "ipython3",
   "version": "3.11.4"
  }
 },
 "nbformat": 4,
 "nbformat_minor": 5
}
