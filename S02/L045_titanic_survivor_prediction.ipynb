{
 "cells": [
  {
   "cell_type": "code",
   "execution_count": 92,
   "id": "56f64966",
   "metadata": {},
   "outputs": [],
   "source": [
    "# 2023 OCT 25"
   ]
  },
  {
   "cell_type": "code",
   "execution_count": 93,
   "id": "c3b7f62a",
   "metadata": {},
   "outputs": [],
   "source": [
    "import numpy as np\n",
    "import pandas as pd\n",
    "\n",
    "import matplotlib.pyplot as plt\n",
    "# %matplotlib inline\n",
    "import seaborn as sns"
   ]
  },
  {
   "cell_type": "markdown",
   "id": "baa01163",
   "metadata": {},
   "source": [
    "# load data"
   ]
  },
  {
   "cell_type": "code",
   "execution_count": 94,
   "id": "6647aee7",
   "metadata": {},
   "outputs": [
    {
     "data": {
      "text/html": [
       "<div>\n",
       "<style scoped>\n",
       "    .dataframe tbody tr th:only-of-type {\n",
       "        vertical-align: middle;\n",
       "    }\n",
       "\n",
       "    .dataframe tbody tr th {\n",
       "        vertical-align: top;\n",
       "    }\n",
       "\n",
       "    .dataframe thead th {\n",
       "        text-align: right;\n",
       "    }\n",
       "</style>\n",
       "<table border=\"1\" class=\"dataframe\">\n",
       "  <thead>\n",
       "    <tr style=\"text-align: right;\">\n",
       "      <th></th>\n",
       "      <th>PaxID</th>\n",
       "      <th>Survived</th>\n",
       "      <th>Class</th>\n",
       "      <th>Name</th>\n",
       "      <th>Sex</th>\n",
       "      <th>Age</th>\n",
       "      <th>SibSpo</th>\n",
       "      <th>ParChi</th>\n",
       "      <th>Ticket</th>\n",
       "      <th>Fare</th>\n",
       "      <th>Cabin</th>\n",
       "      <th>PortEmba</th>\n",
       "    </tr>\n",
       "  </thead>\n",
       "  <tbody>\n",
       "    <tr>\n",
       "      <th>0</th>\n",
       "      <td>1</td>\n",
       "      <td>0</td>\n",
       "      <td>3</td>\n",
       "      <td>Braund, Mr. Owen Harris</td>\n",
       "      <td>male</td>\n",
       "      <td>22.0</td>\n",
       "      <td>1</td>\n",
       "      <td>0</td>\n",
       "      <td>A/5 21171</td>\n",
       "      <td>7.2500</td>\n",
       "      <td>NaN</td>\n",
       "      <td>S</td>\n",
       "    </tr>\n",
       "    <tr>\n",
       "      <th>1</th>\n",
       "      <td>2</td>\n",
       "      <td>1</td>\n",
       "      <td>1</td>\n",
       "      <td>Cumings, Mrs. John Bradley (Florence Briggs Th...</td>\n",
       "      <td>female</td>\n",
       "      <td>38.0</td>\n",
       "      <td>1</td>\n",
       "      <td>0</td>\n",
       "      <td>PC 17599</td>\n",
       "      <td>71.2833</td>\n",
       "      <td>C85</td>\n",
       "      <td>C</td>\n",
       "    </tr>\n",
       "    <tr>\n",
       "      <th>2</th>\n",
       "      <td>3</td>\n",
       "      <td>1</td>\n",
       "      <td>3</td>\n",
       "      <td>Heikkinen, Miss. Laina</td>\n",
       "      <td>female</td>\n",
       "      <td>26.0</td>\n",
       "      <td>0</td>\n",
       "      <td>0</td>\n",
       "      <td>STON/O2. 3101282</td>\n",
       "      <td>7.9250</td>\n",
       "      <td>NaN</td>\n",
       "      <td>S</td>\n",
       "    </tr>\n",
       "  </tbody>\n",
       "</table>\n",
       "</div>"
      ],
      "text/plain": [
       "   PaxID  Survived  Class                                               Name  \\\n",
       "0      1         0      3                            Braund, Mr. Owen Harris   \n",
       "1      2         1      1  Cumings, Mrs. John Bradley (Florence Briggs Th...   \n",
       "2      3         1      3                             Heikkinen, Miss. Laina   \n",
       "\n",
       "      Sex   Age  SibSpo  ParChi            Ticket     Fare Cabin PortEmba  \n",
       "0    male  22.0       1       0         A/5 21171   7.2500   NaN        S  \n",
       "1  female  38.0       1       0          PC 17599  71.2833   C85        C  \n",
       "2  female  26.0       0       0  STON/O2. 3101282   7.9250   NaN        S  "
      ]
     },
     "metadata": {},
     "output_type": "display_data"
    }
   ],
   "source": [
    "titanic_df = pd.read_csv(\"../data/titanic_train.csv\")\n",
    "\n",
    "feature_names = [\"PaxID\", \"Survived\", \"Class\", \"Name\", \"Sex\", \"Age\", \"SibSpo\", \"ParChi\", \"Ticket\", \"Fare\", \"Cabin\", \"PortEmba\"]\n",
    "titanic_df.columns = feature_names\n",
    "display(titanic_df.head(3))"
   ]
  },
  {
   "cell_type": "markdown",
   "id": "c87e4b23",
   "metadata": {},
   "source": [
    "**check**"
   ]
  },
  {
   "cell_type": "code",
   "execution_count": 95,
   "id": "59314d80",
   "metadata": {},
   "outputs": [
    {
     "name": "stdout",
     "output_type": "stream",
     "text": [
      "<class 'pandas.core.frame.DataFrame'>\n",
      "RangeIndex: 891 entries, 0 to 890\n",
      "Data columns (total 12 columns):\n",
      " #   Column    Non-Null Count  Dtype  \n",
      "---  ------    --------------  -----  \n",
      " 0   PaxID     891 non-null    int64  \n",
      " 1   Survived  891 non-null    int64  \n",
      " 2   Class     891 non-null    int64  \n",
      " 3   Name      891 non-null    object \n",
      " 4   Sex       891 non-null    object \n",
      " 5   Age       714 non-null    float64\n",
      " 6   SibSpo    891 non-null    int64  \n",
      " 7   ParChi    891 non-null    int64  \n",
      " 8   Ticket    891 non-null    object \n",
      " 9   Fare      891 non-null    float64\n",
      " 10  Cabin     204 non-null    object \n",
      " 11  PortEmba  889 non-null    object \n",
      "dtypes: float64(2), int64(5), object(5)\n",
      "memory usage: 83.7+ KB\n",
      "None\n"
     ]
    },
    {
     "data": {
      "text/html": [
       "<div>\n",
       "<style scoped>\n",
       "    .dataframe tbody tr th:only-of-type {\n",
       "        vertical-align: middle;\n",
       "    }\n",
       "\n",
       "    .dataframe tbody tr th {\n",
       "        vertical-align: top;\n",
       "    }\n",
       "\n",
       "    .dataframe thead th {\n",
       "        text-align: right;\n",
       "    }\n",
       "</style>\n",
       "<table border=\"1\" class=\"dataframe\">\n",
       "  <thead>\n",
       "    <tr style=\"text-align: right;\">\n",
       "      <th></th>\n",
       "      <th>count</th>\n",
       "      <th>mean</th>\n",
       "      <th>std</th>\n",
       "      <th>min</th>\n",
       "      <th>25%</th>\n",
       "      <th>50%</th>\n",
       "      <th>75%</th>\n",
       "      <th>max</th>\n",
       "    </tr>\n",
       "  </thead>\n",
       "  <tbody>\n",
       "    <tr>\n",
       "      <th>PaxID</th>\n",
       "      <td>891.0</td>\n",
       "      <td>446.000000</td>\n",
       "      <td>257.353842</td>\n",
       "      <td>1.00</td>\n",
       "      <td>223.5000</td>\n",
       "      <td>446.0000</td>\n",
       "      <td>668.5</td>\n",
       "      <td>891.0000</td>\n",
       "    </tr>\n",
       "    <tr>\n",
       "      <th>Survived</th>\n",
       "      <td>891.0</td>\n",
       "      <td>0.383838</td>\n",
       "      <td>0.486592</td>\n",
       "      <td>0.00</td>\n",
       "      <td>0.0000</td>\n",
       "      <td>0.0000</td>\n",
       "      <td>1.0</td>\n",
       "      <td>1.0000</td>\n",
       "    </tr>\n",
       "    <tr>\n",
       "      <th>Class</th>\n",
       "      <td>891.0</td>\n",
       "      <td>2.308642</td>\n",
       "      <td>0.836071</td>\n",
       "      <td>1.00</td>\n",
       "      <td>2.0000</td>\n",
       "      <td>3.0000</td>\n",
       "      <td>3.0</td>\n",
       "      <td>3.0000</td>\n",
       "    </tr>\n",
       "    <tr>\n",
       "      <th>Age</th>\n",
       "      <td>714.0</td>\n",
       "      <td>29.699118</td>\n",
       "      <td>14.526497</td>\n",
       "      <td>0.42</td>\n",
       "      <td>20.1250</td>\n",
       "      <td>28.0000</td>\n",
       "      <td>38.0</td>\n",
       "      <td>80.0000</td>\n",
       "    </tr>\n",
       "    <tr>\n",
       "      <th>SibSpo</th>\n",
       "      <td>891.0</td>\n",
       "      <td>0.523008</td>\n",
       "      <td>1.102743</td>\n",
       "      <td>0.00</td>\n",
       "      <td>0.0000</td>\n",
       "      <td>0.0000</td>\n",
       "      <td>1.0</td>\n",
       "      <td>8.0000</td>\n",
       "    </tr>\n",
       "    <tr>\n",
       "      <th>ParChi</th>\n",
       "      <td>891.0</td>\n",
       "      <td>0.381594</td>\n",
       "      <td>0.806057</td>\n",
       "      <td>0.00</td>\n",
       "      <td>0.0000</td>\n",
       "      <td>0.0000</td>\n",
       "      <td>0.0</td>\n",
       "      <td>6.0000</td>\n",
       "    </tr>\n",
       "    <tr>\n",
       "      <th>Fare</th>\n",
       "      <td>891.0</td>\n",
       "      <td>32.204208</td>\n",
       "      <td>49.693429</td>\n",
       "      <td>0.00</td>\n",
       "      <td>7.9104</td>\n",
       "      <td>14.4542</td>\n",
       "      <td>31.0</td>\n",
       "      <td>512.3292</td>\n",
       "    </tr>\n",
       "  </tbody>\n",
       "</table>\n",
       "</div>"
      ],
      "text/plain": [
       "          count        mean         std   min       25%       50%    75%  \\\n",
       "PaxID     891.0  446.000000  257.353842  1.00  223.5000  446.0000  668.5   \n",
       "Survived  891.0    0.383838    0.486592  0.00    0.0000    0.0000    1.0   \n",
       "Class     891.0    2.308642    0.836071  1.00    2.0000    3.0000    3.0   \n",
       "Age       714.0   29.699118   14.526497  0.42   20.1250   28.0000   38.0   \n",
       "SibSpo    891.0    0.523008    1.102743  0.00    0.0000    0.0000    1.0   \n",
       "ParChi    891.0    0.381594    0.806057  0.00    0.0000    0.0000    0.0   \n",
       "Fare      891.0   32.204208   49.693429  0.00    7.9104   14.4542   31.0   \n",
       "\n",
       "               max  \n",
       "PaxID     891.0000  \n",
       "Survived    1.0000  \n",
       "Class       3.0000  \n",
       "Age        80.0000  \n",
       "SibSpo      8.0000  \n",
       "ParChi      6.0000  \n",
       "Fare      512.3292  "
      ]
     },
     "metadata": {},
     "output_type": "display_data"
    }
   ],
   "source": [
    "# info\n",
    "print(titanic_df.info())\n",
    "\n",
    "# describe\n",
    "# display(titanic_df.describe())\n",
    "display(titanic_df.describe().transpose())"
   ]
  },
  {
   "cell_type": "markdown",
   "id": "2ed2cee0",
   "metadata": {},
   "source": [
    "# pre-processing"
   ]
  },
  {
   "cell_type": "markdown",
   "id": "14c13cd5",
   "metadata": {},
   "source": [
    "**null**"
   ]
  },
  {
   "cell_type": "code",
   "execution_count": 96,
   "id": "39506329",
   "metadata": {},
   "outputs": [
    {
     "name": "stdout",
     "output_type": "stream",
     "text": [
      "<class 'pandas.core.frame.DataFrame'>\n",
      "RangeIndex: 891 entries, 0 to 890\n",
      "Data columns (total 12 columns):\n",
      " #   Column    Non-Null Count  Dtype  \n",
      "---  ------    --------------  -----  \n",
      " 0   PaxID     891 non-null    int64  \n",
      " 1   Survived  891 non-null    int64  \n",
      " 2   Class     891 non-null    int64  \n",
      " 3   Name      891 non-null    object \n",
      " 4   Sex       891 non-null    object \n",
      " 5   Age       891 non-null    float64\n",
      " 6   SibSpo    891 non-null    int64  \n",
      " 7   ParChi    891 non-null    int64  \n",
      " 8   Ticket    891 non-null    object \n",
      " 9   Fare      891 non-null    float64\n",
      " 10  Cabin     891 non-null    object \n",
      " 11  PortEmba  891 non-null    object \n",
      "dtypes: float64(2), int64(5), object(5)\n",
      "memory usage: 83.7+ KB\n",
      "None\n",
      "\n",
      "number of nulls in dataset:0\n"
     ]
    }
   ],
   "source": [
    "titanic_df[\"Age\"].fillna(titanic_df[\"Age\"].mean(), inplace=True)\n",
    "titanic_df[\"Cabin\"].fillna(\"N\", inplace=True)\n",
    "titanic_df[\"PortEmba\"].fillna(\"N\", inplace=True)\n",
    "\n",
    "print(titanic_df.info())\n",
    "\n",
    "# double check\n",
    "print(\"\\n\", \"number of nulls in dataset:\", titanic_df.isnull().sum().sum(), sep=\"\")"
   ]
  },
  {
   "cell_type": "markdown",
   "id": "700f31eb",
   "metadata": {},
   "source": [
    "# analysis"
   ]
  },
  {
   "cell_type": "markdown",
   "id": "4b2f9d40",
   "metadata": {},
   "source": [
    "**get \"object\" type columns**"
   ]
  },
  {
   "cell_type": "code",
   "execution_count": 97,
   "id": "43edb1ed",
   "metadata": {},
   "outputs": [
    {
     "name": "stdout",
     "output_type": "stream",
     "text": [
      "['Name', 'Sex', 'Ticket', 'Cabin', 'PortEmba']\n"
     ]
    }
   ],
   "source": [
    "object_type_feature_names = titanic_df.dtypes[titanic_df.dtypes == \"object\"].index.tolist()\n",
    "\n",
    "print(object_type_feature_names )"
   ]
  },
  {
   "cell_type": "markdown",
   "id": "007a3d71",
   "metadata": {},
   "source": [
    "**distribution**"
   ]
  },
  {
   "cell_type": "code",
   "execution_count": 98,
   "id": "f52cce56",
   "metadata": {},
   "outputs": [
    {
     "name": "stdout",
     "output_type": "stream",
     "text": [
      "male      577\n",
      "female    314\n",
      "Name: Sex, dtype: int64 \n",
      "_____________________\n",
      "N              687\n",
      "C23 C25 C27      4\n",
      "G6               4\n",
      "B96 B98          4\n",
      "C22 C26          3\n",
      "              ... \n",
      "E34              1\n",
      "C7               1\n",
      "C54              1\n",
      "E36              1\n",
      "C148             1\n",
      "Name: Cabin, Length: 148, dtype: int64 \n",
      "_____________________\n",
      "S    644\n",
      "C    168\n",
      "Q     77\n",
      "N      2\n",
      "Name: PortEmba, dtype: int64 \n",
      "_____________________\n"
     ]
    }
   ],
   "source": [
    "print(titanic_df[\"Sex\"].value_counts(), \"\\n_____________________\")\n",
    "print(titanic_df[\"Cabin\"].value_counts(), \"\\n_____________________\")\n",
    "print(titanic_df[\"PortEmba\"].value_counts(), \"\\n_____________________\")"
   ]
  },
  {
   "cell_type": "markdown",
   "id": "27323ad0",
   "metadata": {},
   "source": [
    "**simplify \"Cabin\" names**"
   ]
  },
  {
   "cell_type": "code",
   "execution_count": 99,
   "id": "5783c8eb",
   "metadata": {},
   "outputs": [
    {
     "name": "stdout",
     "output_type": "stream",
     "text": [
      "N    687\n",
      "C     59\n",
      "B     47\n",
      "D     33\n",
      "E     32\n",
      "A     15\n",
      "F     13\n",
      "G      4\n",
      "T      1\n",
      "Name: Cabin, dtype: int64\n"
     ]
    }
   ],
   "source": [
    "titanic_df[\"Cabin\"] = titanic_df[\"Cabin\"].str[:1]\n",
    "# print(titanic_df[\"Cabin\"], \"\\n\")\n",
    "\n",
    "print(titanic_df[\"Cabin\"].value_counts())"
   ]
  },
  {
   "cell_type": "markdown",
   "id": "fe2fd80e",
   "metadata": {},
   "source": [
    "**groupby: Sex, Survived**"
   ]
  },
  {
   "cell_type": "code",
   "execution_count": 100,
   "id": "22d01fa1",
   "metadata": {},
   "outputs": [
    {
     "name": "stdout",
     "output_type": "stream",
     "text": [
      "Sex     Survived\n",
      "female  0            81\n",
      "        1           233\n",
      "male    0           468\n",
      "        1           109\n",
      "Name: Survived, dtype: int64\n"
     ]
    }
   ],
   "source": [
    "dfgb = titanic_df.groupby([\"Sex\", \"Survived\"])\n",
    "\n",
    "print(dfgb[\"Survived\"].count())"
   ]
  },
  {
   "cell_type": "markdown",
   "id": "a9c288c4",
   "metadata": {},
   "source": [
    "*visualization*"
   ]
  },
  {
   "cell_type": "code",
   "execution_count": 101,
   "id": "319922d9",
   "metadata": {},
   "outputs": [
    {
     "data": {
      "text/plain": [
       "<Axes: xlabel='Class', ylabel='Survived'>"
      ]
     },
     "execution_count": 101,
     "metadata": {},
     "output_type": "execute_result"
    },
    {
     "data": {
      "image/png": "[encoded data removed]",
      "text/plain": [
       "<Figure size 640x480 with 2 Axes>"
      ]
     },
     "metadata": {},
     "output_type": "display_data"
    }
   ],
   "source": [
    "fig, ax = plt.subplots(1, 2)\n",
    "sns.barplot(x=\"Sex\", y=\"Survived\", data=titanic_df, ax=ax[0])\n",
    "sns.barplot(x=\"Class\", y=\"Survived\", hue=\"Sex\", data=titanic_df, ax=ax[1])\n",
    "# fig.show()"
   ]
  },
  {
   "cell_type": "markdown",
   "id": "81c68ace",
   "metadata": {},
   "source": [
    "**age group**"
   ]
  },
  {
   "cell_type": "code",
   "execution_count": 102,
   "id": "410de013",
   "metadata": {},
   "outputs": [],
   "source": [
    "# add \"AgeGroup\" feature\n",
    "def assign_age_group(age):\n",
    "    age_group = \"\"\n",
    "    if age <= -1: age_group = \"Unknown\"\n",
    "    elif age <= 5: age_group = \"Baby\"\n",
    "    elif age <= 12: age_group = \"Child\"\n",
    "    elif age <= 18: age_group = \"Teenager\"\n",
    "    elif age <= 25: age_group = \"Student\"\n",
    "    elif age <= 35: age_group = \"Young Adult\"\n",
    "    elif age <= 60: age_group = \"Adult\"\n",
    "    else: age_group = \"Elderly\"\n",
    "        \n",
    "    return age_group\n",
    "\n",
    "age_group_names = [\"Unknown\", \"Baby\", \"Child\", \"Teenager\", \"Student\", \"Young Adult\", \"Adult\", \"Elderly\"]\n",
    "\n",
    "# add to df\n",
    "titanic_df[\"AgeGroup\"] = titanic_df[\"Age\"].apply(lambda x: assign_age_group(x))"
   ]
  },
  {
   "cell_type": "markdown",
   "id": "3f958587",
   "metadata": {},
   "source": [
    "*visualization*"
   ]
  },
  {
   "cell_type": "code",
   "execution_count": 103,
   "id": "229dbeda",
   "metadata": {},
   "outputs": [
    {
     "data": {
      "text/plain": [
       "<Axes: xlabel='AgeGroup', ylabel='Survived'>"
      ]
     },
     "execution_count": 103,
     "metadata": {},
     "output_type": "execute_result"
    },
    {
     "data": {
      "image/png": "[encoded data removed]",
      "text/plain": [
       "<Figure size 640x480 with 1 Axes>"
      ]
     },
     "metadata": {},
     "output_type": "display_data"
    }
   ],
   "source": [
    "sns.barplot(x=\"AgeGroup\", y=\"Survived\", hue=\"Sex\", data=titanic_df, order=age_group_names)"
   ]
  },
  {
   "cell_type": "markdown",
   "id": "200df567",
   "metadata": {},
   "source": [
    "*drop \"age group\" since it will not be used later*"
   ]
  },
  {
   "cell_type": "code",
   "execution_count": 104,
   "id": "e6cc43f3",
   "metadata": {},
   "outputs": [
    {
     "data": {
      "text/html": [
       "<div>\n",
       "<style scoped>\n",
       "    .dataframe tbody tr th:only-of-type {\n",
       "        vertical-align: middle;\n",
       "    }\n",
       "\n",
       "    .dataframe tbody tr th {\n",
       "        vertical-align: top;\n",
       "    }\n",
       "\n",
       "    .dataframe thead th {\n",
       "        text-align: right;\n",
       "    }\n",
       "</style>\n",
       "<table border=\"1\" class=\"dataframe\">\n",
       "  <thead>\n",
       "    <tr style=\"text-align: right;\">\n",
       "      <th></th>\n",
       "      <th>PaxID</th>\n",
       "      <th>Survived</th>\n",
       "      <th>Class</th>\n",
       "      <th>Name</th>\n",
       "      <th>Sex</th>\n",
       "      <th>Age</th>\n",
       "      <th>SibSpo</th>\n",
       "      <th>ParChi</th>\n",
       "      <th>Ticket</th>\n",
       "      <th>Fare</th>\n",
       "      <th>Cabin</th>\n",
       "      <th>PortEmba</th>\n",
       "    </tr>\n",
       "  </thead>\n",
       "  <tbody>\n",
       "    <tr>\n",
       "      <th>0</th>\n",
       "      <td>1</td>\n",
       "      <td>0</td>\n",
       "      <td>3</td>\n",
       "      <td>Braund, Mr. Owen Harris</td>\n",
       "      <td>male</td>\n",
       "      <td>22.0</td>\n",
       "      <td>1</td>\n",
       "      <td>0</td>\n",
       "      <td>A/5 21171</td>\n",
       "      <td>7.25</td>\n",
       "      <td>N</td>\n",
       "      <td>S</td>\n",
       "    </tr>\n",
       "  </tbody>\n",
       "</table>\n",
       "</div>"
      ],
      "text/plain": [
       "   PaxID  Survived  Class                     Name   Sex   Age  SibSpo  \\\n",
       "0      1         0      3  Braund, Mr. Owen Harris  male  22.0       1   \n",
       "\n",
       "   ParChi     Ticket  Fare Cabin PortEmba  \n",
       "0       0  A/5 21171  7.25     N        S  "
      ]
     },
     "metadata": {},
     "output_type": "display_data"
    }
   ],
   "source": [
    "titanic_df.drop(\"AgeGroup\", axis=1, inplace=True)\n",
    "display(titanic_df.head(1))"
   ]
  },
  {
   "cell_type": "markdown",
   "id": "353317a8",
   "metadata": {},
   "source": [
    "**encoding**"
   ]
  },
  {
   "cell_type": "code",
   "execution_count": 105,
   "id": "981a8479",
   "metadata": {},
   "outputs": [
    {
     "name": "stdout",
     "output_type": "stream",
     "text": [
      "['A' 'B' 'C' 'D' 'E' 'F' 'G' 'N' 'T']\n",
      "['female' 'male']\n",
      "['C' 'N' 'Q' 'S']\n"
     ]
    },
    {
     "data": {
      "text/html": [
       "<div>\n",
       "<style scoped>\n",
       "    .dataframe tbody tr th:only-of-type {\n",
       "        vertical-align: middle;\n",
       "    }\n",
       "\n",
       "    .dataframe tbody tr th {\n",
       "        vertical-align: top;\n",
       "    }\n",
       "\n",
       "    .dataframe thead th {\n",
       "        text-align: right;\n",
       "    }\n",
       "</style>\n",
       "<table border=\"1\" class=\"dataframe\">\n",
       "  <thead>\n",
       "    <tr style=\"text-align: right;\">\n",
       "      <th></th>\n",
       "      <th>PaxID</th>\n",
       "      <th>Survived</th>\n",
       "      <th>Class</th>\n",
       "      <th>Name</th>\n",
       "      <th>Sex</th>\n",
       "      <th>Age</th>\n",
       "      <th>SibSpo</th>\n",
       "      <th>ParChi</th>\n",
       "      <th>Ticket</th>\n",
       "      <th>Fare</th>\n",
       "      <th>Cabin</th>\n",
       "      <th>PortEmba</th>\n",
       "    </tr>\n",
       "  </thead>\n",
       "  <tbody>\n",
       "    <tr>\n",
       "      <th>0</th>\n",
       "      <td>1</td>\n",
       "      <td>0</td>\n",
       "      <td>3</td>\n",
       "      <td>Braund, Mr. Owen Harris</td>\n",
       "      <td>1</td>\n",
       "      <td>22.0</td>\n",
       "      <td>1</td>\n",
       "      <td>0</td>\n",
       "      <td>A/5 21171</td>\n",
       "      <td>7.2500</td>\n",
       "      <td>7</td>\n",
       "      <td>3</td>\n",
       "    </tr>\n",
       "    <tr>\n",
       "      <th>1</th>\n",
       "      <td>2</td>\n",
       "      <td>1</td>\n",
       "      <td>1</td>\n",
       "      <td>Cumings, Mrs. John Bradley (Florence Briggs Th...</td>\n",
       "      <td>0</td>\n",
       "      <td>38.0</td>\n",
       "      <td>1</td>\n",
       "      <td>0</td>\n",
       "      <td>PC 17599</td>\n",
       "      <td>71.2833</td>\n",
       "      <td>2</td>\n",
       "      <td>0</td>\n",
       "    </tr>\n",
       "    <tr>\n",
       "      <th>2</th>\n",
       "      <td>3</td>\n",
       "      <td>1</td>\n",
       "      <td>3</td>\n",
       "      <td>Heikkinen, Miss. Laina</td>\n",
       "      <td>0</td>\n",
       "      <td>26.0</td>\n",
       "      <td>0</td>\n",
       "      <td>0</td>\n",
       "      <td>STON/O2. 3101282</td>\n",
       "      <td>7.9250</td>\n",
       "      <td>7</td>\n",
       "      <td>3</td>\n",
       "    </tr>\n",
       "  </tbody>\n",
       "</table>\n",
       "</div>"
      ],
      "text/plain": [
       "   PaxID  Survived  Class                                               Name  \\\n",
       "0      1         0      3                            Braund, Mr. Owen Harris   \n",
       "1      2         1      1  Cumings, Mrs. John Bradley (Florence Briggs Th...   \n",
       "2      3         1      3                             Heikkinen, Miss. Laina   \n",
       "\n",
       "   Sex   Age  SibSpo  ParChi            Ticket     Fare  Cabin  PortEmba  \n",
       "0    1  22.0       1       0         A/5 21171   7.2500      7         3  \n",
       "1    0  38.0       1       0          PC 17599  71.2833      2         0  \n",
       "2    0  26.0       0       0  STON/O2. 3101282   7.9250      7         3  "
      ]
     },
     "metadata": {},
     "output_type": "display_data"
    }
   ],
   "source": [
    "from sklearn.preprocessing import LabelEncoder\n",
    "\n",
    "features_to_encode = [\"Cabin\", \"Sex\", \"PortEmba\"]\n",
    "\n",
    "def encode_features(df, features_to_encode):\n",
    "    encoder = LabelEncoder()\n",
    "    for feature in features_to_encode:\n",
    "        encoder.fit(df[feature])\n",
    "        df[feature] = encoder.transform(df[feature])\n",
    "        \n",
    "        print(encoder.classes_)\n",
    "    \n",
    "    return df\n",
    "\n",
    "titanic_df = encode_features(titanic_df, features_to_encode)\n",
    "display(titanic_df.head(3))"
   ]
  },
  {
   "cell_type": "code",
   "execution_count": null,
   "id": "09a63279",
   "metadata": {},
   "outputs": [],
   "source": []
  }
 ],
 "metadata": {
  "kernelspec": {
   "display_name": "Python 3 (ipykernel)",
   "language": "python",
   "name": "python3"
  },
  "language_info": {
   "codemirror_mode": {
    "name": "ipython",
    "version": 3
   },
   "file_extension": ".py",
   "mimetype": "text/x-python",
   "name": "python",
   "nbconvert_exporter": "python",
   "pygments_lexer": "ipython3",
   "version": "3.11.4"
  }
 },
 "nbformat": 4,
 "nbformat_minor": 5
}
