{
 "cells": [
  {
   "cell_type": "code",
   "execution_count": 14,
   "id": "c3f44ab7",
   "metadata": {},
   "outputs": [],
   "source": [
    "# 2023 OCT 19"
   ]
  },
  {
   "cell_type": "code",
   "execution_count": 16,
   "id": "4130f4a0",
   "metadata": {},
   "outputs": [],
   "source": [
    "import numpy as np\n",
    "import pandas as pd"
   ]
  },
  {
   "cell_type": "markdown",
   "id": "f34896f8",
   "metadata": {},
   "source": [
    "**label**"
   ]
  },
  {
   "cell_type": "code",
   "execution_count": 10,
   "id": "6fee0df1",
   "metadata": {},
   "outputs": [],
   "source": [
    "from sklearn.preprocessing import LabelEncoder"
   ]
  },
  {
   "cell_type": "code",
   "execution_count": 11,
   "id": "4c7f8570",
   "metadata": {},
   "outputs": [],
   "source": [
    "birds = [\"pigeon\", \"eagle\", \"hawk\", \"eagle\", \"sparrow\", \"pigeon\", \"pigeon\"]"
   ]
  },
  {
   "cell_type": "code",
   "execution_count": 12,
   "id": "01f92ae2",
   "metadata": {},
   "outputs": [
    {
     "name": "stdout",
     "output_type": "stream",
     "text": [
      "[2 0 1 0 3 2 2]\n"
     ]
    }
   ],
   "source": [
    "# create object\n",
    "encoder = LabelEncoder()\n",
    "\n",
    "# fit: get unique entities and assign label\n",
    "encoder.fit(birds)\n",
    "\n",
    "# transform: encode:\n",
    "labels = encoder.transform(birds)\n",
    "\n",
    "#\n",
    "print(labels)"
   ]
  },
  {
   "cell_type": "code",
   "execution_count": 13,
   "id": "82b43ef4",
   "metadata": {},
   "outputs": [
    {
     "name": "stdout",
     "output_type": "stream",
     "text": [
      "['eagle' 'hawk' 'pigeon' 'sparrow']\n",
      "['sparrow' 'sparrow' 'sparrow' 'pigeon' 'hawk' 'pigeon' 'eagle']\n"
     ]
    }
   ],
   "source": [
    "# check assignment\n",
    "print(encoder.classes_)\n",
    "\n",
    "# inverse transform\n",
    "print(encoder.inverse_transform([3, 3, 3, 2, 1, 2, 0]))"
   ]
  },
  {
   "cell_type": "markdown",
   "id": "4c7bd3c8",
   "metadata": {},
   "source": [
    "**one-hot**"
   ]
  },
  {
   "cell_type": "code",
   "execution_count": 17,
   "id": "c7ee6982",
   "metadata": {},
   "outputs": [],
   "source": [
    "from sklearn.preprocessing import OneHotEncoder"
   ]
  },
  {
   "cell_type": "code",
   "execution_count": 18,
   "id": "de4364cd",
   "metadata": {},
   "outputs": [],
   "source": [
    "birds = [\"pigeon\", \"eagle\", \"hawk\", \"eagle\", \"sparrow\", \"pigeon\", \"pigeon\"]"
   ]
  },
  {
   "cell_type": "code",
   "execution_count": 19,
   "id": "20de81a1",
   "metadata": {},
   "outputs": [
    {
     "name": "stdout",
     "output_type": "stream",
     "text": [
      "(7, 1)\n"
     ]
    }
   ],
   "source": [
    "# -> 2D ndarray\n",
    "birds = np.array(birds).reshape(-1, 1)\n",
    "print(birds.shape)"
   ]
  },
  {
   "cell_type": "code",
   "execution_count": 24,
   "id": "e3606719",
   "metadata": {},
   "outputs": [
    {
     "name": "stdout",
     "output_type": "stream",
     "text": [
      "  (0, 2)\t1.0\n",
      "  (1, 0)\t1.0\n",
      "  (2, 1)\t1.0\n",
      "  (3, 0)\t1.0\n",
      "  (4, 3)\t1.0\n",
      "  (5, 2)\t1.0\n",
      "  (6, 2)\t1.0\n",
      "<class 'scipy.sparse._csr.csr_matrix'>\n"
     ]
    }
   ],
   "source": [
    "# create object\n",
    "encoder = OneHotEncoder()\n",
    "\n",
    "# fit: get unique entities and assign label\n",
    "encoder.fit(birds)\n",
    "\n",
    "# transform: encode:\n",
    "labels = encoder.transform(birds)\n",
    "\n",
    "#\n",
    "print(labels) \n",
    "print(type(labels))  # sparse matrix"
   ]
  },
  {
   "cell_type": "code",
   "execution_count": 26,
   "id": "4d1cd3ac",
   "metadata": {},
   "outputs": [
    {
     "name": "stdout",
     "output_type": "stream",
     "text": [
      "[[0. 0. 1. 0.]\n",
      " [1. 0. 0. 0.]\n",
      " [0. 1. 0. 0.]\n",
      " [1. 0. 0. 0.]\n",
      " [0. 0. 0. 1.]\n",
      " [0. 0. 1. 0.]\n",
      " [0. 0. 1. 0.]]\n",
      "(7, 4)\n"
     ]
    }
   ],
   "source": [
    "# sparse matrix -> dense matrix\n",
    "print(labels.toarray())\n",
    "\n",
    "print(labels.shape)"
   ]
  },
  {
   "cell_type": "markdown",
   "id": "d9fa156a",
   "metadata": {},
   "source": [
    "**<!> fit & transform altogether <!>**"
   ]
  },
  {
   "cell_type": "code",
   "execution_count": 28,
   "id": "ae3ef056",
   "metadata": {},
   "outputs": [],
   "source": [
    "# labels = encoder.fit_transform(birds)"
   ]
  },
  {
   "cell_type": "markdown",
   "id": "a6765747",
   "metadata": {},
   "source": [
    "**one-hot: easier method using pandas**"
   ]
  },
  {
   "cell_type": "code",
   "execution_count": 30,
   "id": "e36e3712",
   "metadata": {},
   "outputs": [
    {
     "data": {
      "text/html": [
       "<div>\n",
       "<style scoped>\n",
       "    .dataframe tbody tr th:only-of-type {\n",
       "        vertical-align: middle;\n",
       "    }\n",
       "\n",
       "    .dataframe tbody tr th {\n",
       "        vertical-align: top;\n",
       "    }\n",
       "\n",
       "    .dataframe thead th {\n",
       "        text-align: right;\n",
       "    }\n",
       "</style>\n",
       "<table border=\"1\" class=\"dataframe\">\n",
       "  <thead>\n",
       "    <tr style=\"text-align: right;\">\n",
       "      <th></th>\n",
       "      <th>bird_eagle</th>\n",
       "      <th>bird_hawk</th>\n",
       "      <th>bird_pigeon</th>\n",
       "      <th>bird_sparrow</th>\n",
       "    </tr>\n",
       "  </thead>\n",
       "  <tbody>\n",
       "    <tr>\n",
       "      <th>0</th>\n",
       "      <td>0</td>\n",
       "      <td>0</td>\n",
       "      <td>1</td>\n",
       "      <td>0</td>\n",
       "    </tr>\n",
       "    <tr>\n",
       "      <th>1</th>\n",
       "      <td>1</td>\n",
       "      <td>0</td>\n",
       "      <td>0</td>\n",
       "      <td>0</td>\n",
       "    </tr>\n",
       "    <tr>\n",
       "      <th>2</th>\n",
       "      <td>0</td>\n",
       "      <td>1</td>\n",
       "      <td>0</td>\n",
       "      <td>0</td>\n",
       "    </tr>\n",
       "    <tr>\n",
       "      <th>3</th>\n",
       "      <td>1</td>\n",
       "      <td>0</td>\n",
       "      <td>0</td>\n",
       "      <td>0</td>\n",
       "    </tr>\n",
       "    <tr>\n",
       "      <th>4</th>\n",
       "      <td>0</td>\n",
       "      <td>0</td>\n",
       "      <td>0</td>\n",
       "      <td>1</td>\n",
       "    </tr>\n",
       "    <tr>\n",
       "      <th>5</th>\n",
       "      <td>0</td>\n",
       "      <td>0</td>\n",
       "      <td>1</td>\n",
       "      <td>0</td>\n",
       "    </tr>\n",
       "    <tr>\n",
       "      <th>6</th>\n",
       "      <td>0</td>\n",
       "      <td>0</td>\n",
       "      <td>1</td>\n",
       "      <td>0</td>\n",
       "    </tr>\n",
       "  </tbody>\n",
       "</table>\n",
       "</div>"
      ],
      "text/plain": [
       "   bird_eagle  bird_hawk  bird_pigeon  bird_sparrow\n",
       "0           0          0            1             0\n",
       "1           1          0            0             0\n",
       "2           0          1            0             0\n",
       "3           1          0            0             0\n",
       "4           0          0            0             1\n",
       "5           0          0            1             0\n",
       "6           0          0            1             0"
      ]
     },
     "metadata": {},
     "output_type": "display_data"
    }
   ],
   "source": [
    "birds = [\"pigeon\", \"eagle\", \"hawk\", \"eagle\", \"sparrow\", \"pigeon\", \"pigeon\"]\n",
    "\n",
    "bird_df = pd.DataFrame({\"bird\": birds})\n",
    "\n",
    "display(pd.get_dummies(bird_df))"
   ]
  },
  {
   "cell_type": "code",
   "execution_count": null,
   "id": "e0525415",
   "metadata": {},
   "outputs": [],
   "source": []
  }
 ],
 "metadata": {
  "kernelspec": {
   "display_name": "Python 3 (ipykernel)",
   "language": "python",
   "name": "python3"
  },
  "language_info": {
   "codemirror_mode": {
    "name": "ipython",
    "version": 3
   },
   "file_extension": ".py",
   "mimetype": "text/x-python",
   "name": "python",
   "nbconvert_exporter": "python",
   "pygments_lexer": "ipython3",
   "version": "3.11.4"
  }
 },
 "nbformat": 4,
 "nbformat_minor": 5
}
