{
 "cells": [
  {
   "cell_type": "code",
   "execution_count": 1,
   "id": "74725a9b",
   "metadata": {},
   "outputs": [],
   "source": [
    "# 2023 OCT 23"
   ]
  },
  {
   "cell_type": "code",
   "execution_count": 2,
   "id": "83e28788",
   "metadata": {},
   "outputs": [],
   "source": [
    "import numpy as np\n",
    "import pandas as pd"
   ]
  },
  {
   "cell_type": "markdown",
   "id": "46fec5ba",
   "metadata": {},
   "source": [
    "# concept"
   ]
  },
  {
   "cell_type": "code",
   "execution_count": 4,
   "id": "534e18b2",
   "metadata": {},
   "outputs": [],
   "source": [
    "X = np.array([20, 30, 40])"
   ]
  },
  {
   "cell_type": "markdown",
   "id": "a90eb982",
   "metadata": {},
   "source": [
    "**standardization**"
   ]
  },
  {
   "cell_type": "code",
   "execution_count": 3,
   "id": "4b743927",
   "metadata": {},
   "outputs": [],
   "source": [
    "# -> normal distribution: N(0, 1)\n",
    "def standardize(X):\n",
    "    return (X - np.mean(X))/np.std(X)"
   ]
  },
  {
   "cell_type": "code",
   "execution_count": 5,
   "id": "4109f095",
   "metadata": {},
   "outputs": [
    {
     "name": "stdout",
     "output_type": "stream",
     "text": [
      "[-1.22474487  0.          1.22474487]\n"
     ]
    }
   ],
   "source": [
    "print(standardize(X))"
   ]
  },
  {
   "cell_type": "markdown",
   "id": "d3bc0d35",
   "metadata": {},
   "source": [
    "**normalization**"
   ]
  },
  {
   "cell_type": "code",
   "execution_count": 7,
   "id": "32d34a45",
   "metadata": {},
   "outputs": [],
   "source": [
    "# -> [0, 1] for the implementation below\n",
    "def normalize(X):\n",
    "    return (X - np.min(X))/(np.max(X) - np.min(X))"
   ]
  },
  {
   "cell_type": "code",
   "execution_count": 8,
   "id": "a6b4a93e",
   "metadata": {},
   "outputs": [
    {
     "name": "stdout",
     "output_type": "stream",
     "text": [
      "[0.  0.5 1. ]\n"
     ]
    }
   ],
   "source": [
    "print(normalize(X))"
   ]
  },
  {
   "cell_type": "markdown",
   "id": "1f68b457",
   "metadata": {},
   "source": [
    "# tool"
   ]
  },
  {
   "cell_type": "code",
   "execution_count": 10,
   "id": "fcb45056",
   "metadata": {},
   "outputs": [],
   "source": [
    "from sklearn.datasets import load_iris\n",
    "\n",
    "iris = load_iris()\n",
    "iris_features = iris.data\n",
    "iris_df = pd.DataFrame(data=iris_features, columns=iris.feature_names)"
   ]
  },
  {
   "cell_type": "code",
   "execution_count": 18,
   "id": "be4a6b51",
   "metadata": {},
   "outputs": [
    {
     "name": "stdout",
     "output_type": "stream",
     "text": [
      "mean of each feature\n",
      "sepal length (cm)    5.843333\n",
      "sepal width (cm)     3.057333\n",
      "petal length (cm)    3.758000\n",
      "petal width (cm)     1.199333\n",
      "dtype: float64 \n",
      "\n",
      "standard deviation of each feature\n",
      "sepal length (cm)    0.828066\n",
      "sepal width (cm)     0.435866\n",
      "petal length (cm)    1.765298\n",
      "petal width (cm)     0.762238\n",
      "dtype: float64 \n",
      "\n",
      "min of each feature\n",
      "sepal length (cm)    4.3\n",
      "sepal width (cm)     2.0\n",
      "petal length (cm)    1.0\n",
      "petal width (cm)     0.1\n",
      "dtype: float64 \n",
      "\n",
      "max of each feature\n",
      "sepal length (cm)    7.9\n",
      "sepal width (cm)     4.4\n",
      "petal length (cm)    6.9\n",
      "petal width (cm)     2.5\n",
      "dtype: float64\n"
     ]
    }
   ],
   "source": [
    "# mean, standard deviation\n",
    "print(\"mean of each feature\")\n",
    "print(iris_df.mean(), \"\\n\")\n",
    "\n",
    "print(\"standard deviation of each feature\")\n",
    "print(iris_df.std(), \"\\n\")\n",
    "\n",
    "# min, max\n",
    "print(\"min of each feature\")\n",
    "print(iris_df.min(), \"\\n\")\n",
    "\n",
    "print(\"max of each feature\")\n",
    "print(iris_df.max())"
   ]
  },
  {
   "cell_type": "markdown",
   "id": "ea51384c",
   "metadata": {},
   "source": [
    "**StandardScaler**"
   ]
  },
  {
   "cell_type": "code",
   "execution_count": 16,
   "id": "5d10b62e",
   "metadata": {},
   "outputs": [],
   "source": [
    "from sklearn.preprocessing import StandardScaler\n",
    "\n",
    "scaler = StandardScaler()\n",
    "\n",
    "scaler.fit(iris_df)\n",
    "iris_standardized = scaler.transform(iris_df)\n",
    "# iris_standardized = scaler.fit_transform(iris_df)\n",
    "\n",
    "# convert numpy array -> pandas DataFrame\n",
    "iris_df_standardized = pd.DataFrame(data=iris_standardized, columns=iris.feature_names)"
   ]
  },
  {
   "cell_type": "code",
   "execution_count": 17,
   "id": "8866d04c",
   "metadata": {},
   "outputs": [
    {
     "name": "stdout",
     "output_type": "stream",
     "text": [
      "mean of each feature\n",
      "sepal length (cm)   -1.690315e-15\n",
      "sepal width (cm)    -1.842970e-15\n",
      "petal length (cm)   -1.698641e-15\n",
      "petal width (cm)    -1.409243e-15\n",
      "dtype: float64 \n",
      "\n",
      "standard deviation of each feature\n",
      "sepal length (cm)    1.00335\n",
      "sepal width (cm)     1.00335\n",
      "petal length (cm)    1.00335\n",
      "petal width (cm)     1.00335\n",
      "dtype: float64\n"
     ]
    }
   ],
   "source": [
    "print(\"mean of each feature\")\n",
    "print(iris_df_standardized.mean(), \"\\n\")\n",
    "\n",
    "print(\"standard deviation of each feature\")\n",
    "print(iris_df_standardized.std())"
   ]
  },
  {
   "cell_type": "markdown",
   "id": "0f7deff8",
   "metadata": {},
   "source": [
    "**MinMaxScaler**"
   ]
  },
  {
   "cell_type": "code",
   "execution_count": 19,
   "id": "ffe64021",
   "metadata": {},
   "outputs": [],
   "source": [
    "from sklearn.preprocessing import MinMaxScaler\n",
    "\n",
    "scaler = MinMaxScaler()\n",
    "\n",
    "scaler.fit(iris_df)\n",
    "iris_normalized = scaler.transform(iris_df)\n",
    "# iris_normalized = scaler.fit_transform(iris_df)\n",
    "\n",
    "# convert numpy array -> pandas DataFrame\n",
    "iris_df_normalized = pd.DataFrame(data=iris_normalized, columns=iris.feature_names)"
   ]
  },
  {
   "cell_type": "code",
   "execution_count": 21,
   "id": "827071e2",
   "metadata": {
    "scrolled": true
   },
   "outputs": [
    {
     "name": "stdout",
     "output_type": "stream",
     "text": [
      "min of each feature\n",
      "sepal length (cm)    0.0\n",
      "sepal width (cm)     0.0\n",
      "petal length (cm)    0.0\n",
      "petal width (cm)     0.0\n",
      "dtype: float64 \n",
      "\n",
      "max of each feature\n",
      "sepal length (cm)    1.0\n",
      "sepal width (cm)     1.0\n",
      "petal length (cm)    1.0\n",
      "petal width (cm)     1.0\n",
      "dtype: float64\n"
     ]
    }
   ],
   "source": [
    "print(\"min of each feature\")\n",
    "print(iris_df_normalized.min(), \"\\n\")\n",
    "\n",
    "print(\"max of each feature\")\n",
    "print(iris_df_normalized.max())"
   ]
  },
  {
   "cell_type": "markdown",
   "id": "0eb8ed39",
   "metadata": {},
   "source": [
    "# <!> WARNING <!>"
   ]
  },
  {
   "cell_type": "markdown",
   "id": "ae1e229f",
   "metadata": {},
   "source": [
    "***<!> scale used in training must be the same as the scale used in prediction <!>***"
   ]
  },
  {
   "cell_type": "code",
   "execution_count": 22,
   "id": "0b7b9bce",
   "metadata": {},
   "outputs": [],
   "source": [
    "# Ex)\n",
    "X_train = np.arange(0, 11).reshape(-1, 1)\n",
    "X_test = np.arange(0, 6).reshape(-1, 1)\n",
    "# reshape <R> function only takes in >= dim(2) arrays"
   ]
  },
  {
   "cell_type": "code",
   "execution_count": 27,
   "id": "c559aa8d",
   "metadata": {},
   "outputs": [],
   "source": [
    "scaler = MinMaxScaler()"
   ]
  },
  {
   "cell_type": "code",
   "execution_count": 29,
   "id": "4fb0e5ef",
   "metadata": {},
   "outputs": [
    {
     "name": "stdout",
     "output_type": "stream",
     "text": [
      "X_train_scaled: [0.  0.1 0.2 0.3 0.4 0.5 0.6 0.7 0.8 0.9 1. ]\n"
     ]
    }
   ],
   "source": [
    "scaler.fit(X_train)  # (0, 10) ~> registered to ~> (0, 1)\n",
    "\n",
    "X_train_scaled = scaler.transform(X_train)  # scaling applied\n",
    "\n",
    "print(\"X_train_scaled:\", X_train_scaled.ravel())"
   ]
  },
  {
   "cell_type": "code",
   "execution_count": 30,
   "id": "6949a738",
   "metadata": {},
   "outputs": [
    {
     "name": "stdout",
     "output_type": "stream",
     "text": [
      "X_test_scaled: [0.  0.1 0.2 0.3 0.4 0.5]\n"
     ]
    }
   ],
   "source": [
    "# scaler.fit(X_test)  # <!> NO! YOU DON'T DO THIS: must keep the same scale <!>\n",
    "\n",
    "X_test_scaled = scaler.transform(X_test)  # scaling applied\n",
    "\n",
    "print(\"X_test_scaled:\", X_test_scaled.ravel())"
   ]
  },
  {
   "cell_type": "code",
   "execution_count": null,
   "id": "cd3827f8",
   "metadata": {},
   "outputs": [],
   "source": []
  }
 ],
 "metadata": {
  "kernelspec": {
   "display_name": "Python 3 (ipykernel)",
   "language": "python",
   "name": "python3"
  },
  "language_info": {
   "codemirror_mode": {
    "name": "ipython",
    "version": 3
   },
   "file_extension": ".py",
   "mimetype": "text/x-python",
   "name": "python",
   "nbconvert_exporter": "python",
   "pygments_lexer": "ipython3",
   "version": "3.11.4"
  }
 },
 "nbformat": 4,
 "nbformat_minor": 5
}
