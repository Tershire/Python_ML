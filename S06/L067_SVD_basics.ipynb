{
 "cells": [
  {
   "cell_type": "markdown",
   "id": "2d2d050d-a3fd-40bb-8b6a-49aa620e38ae",
   "metadata": {},
   "source": [
    "**L067_SVD_basics.ipynb**\n",
    "\n",
    "2024 JUN 06\n",
    "\n",
    "Tershire"
   ]
  },
  {
   "cell_type": "code",
   "execution_count": 1,
   "id": "1e7cd68d-7681-4452-8cfd-86d95244c6cd",
   "metadata": {},
   "outputs": [],
   "source": [
    "import numpy as np\n",
    "import pandas as pd\n",
    "import matplotlib.pyplot as plt\n",
    "%matplotlib inline"
   ]
  },
  {
   "cell_type": "markdown",
   "id": "07c5e06f-bbba-43ae-8772-716c975fdedf",
   "metadata": {},
   "source": [
    "# demonstration"
   ]
  },
  {
   "cell_type": "markdown",
   "id": "c18aef75-aeca-49ad-9ffe-0cb9f82ecf8b",
   "metadata": {},
   "source": [
    "## part 1: full"
   ]
  },
  {
   "cell_type": "markdown",
   "id": "fde25465-4072-4064-bbab-e68af01620f0",
   "metadata": {},
   "source": [
    "### data"
   ]
  },
  {
   "cell_type": "code",
   "execution_count": 2,
   "id": "eee1bfa6-7875-4346-a3b5-33115ece321e",
   "metadata": {},
   "outputs": [],
   "source": [
    "np.random.seed(121)\n",
    "\n",
    "A = np.random.randn(4, 4)"
   ]
  },
  {
   "cell_type": "code",
   "execution_count": 3,
   "id": "0b4726e4-6c57-4a7f-a6dc-c7592b66a5c1",
   "metadata": {},
   "outputs": [
    {
     "name": "stdout",
     "output_type": "stream",
     "text": [
      "A:\n",
      "[[-0.212 -0.285 -0.574 -0.44 ]\n",
      " [-0.33   1.184  1.615  0.367]\n",
      " [-0.014  0.63   1.71  -1.327]\n",
      " [ 0.402 -0.191  1.404 -1.969]]\n"
     ]
    }
   ],
   "source": [
    "print(f\"A:\\n{np.round(A, 3)}\")"
   ]
  },
  {
   "cell_type": "markdown",
   "id": "d3346b7b-3b24-42eb-8a23-5f577f5d9d74",
   "metadata": {},
   "source": [
    "### perform SVD"
   ]
  },
  {
   "cell_type": "code",
   "execution_count": 4,
   "id": "b35d199b-772b-4edf-8534-23dd4ae75854",
   "metadata": {},
   "outputs": [],
   "source": [
    "U, sigmas, V_T = np.linalg.svd(A)"
   ]
  },
  {
   "cell_type": "code",
   "execution_count": 5,
   "id": "a52e76c2-d3a6-46f5-bc3e-214e9a228609",
   "metadata": {},
   "outputs": [
    {
     "name": "stdout",
     "output_type": "stream",
     "text": [
      "(4, 4) (4,) (4, 4) \n",
      "\n",
      "U:\n",
      "[[-0.079 -0.318  0.867  0.376]\n",
      " [ 0.383  0.787  0.12   0.469]\n",
      " [ 0.656  0.022  0.357 -0.664]\n",
      " [ 0.645 -0.529 -0.328  0.444]]\n",
      "\n",
      "sigmas:\n",
      "[3.423 2.023 0.463 0.079]\n",
      "\n",
      "V^T:\n",
      "[[ 0.041  0.224  0.786 -0.574]\n",
      " [-0.2    0.562  0.37   0.712]\n",
      " [-0.778  0.395 -0.333 -0.357]\n",
      " [-0.593 -0.692  0.366  0.189]]\n"
     ]
    }
   ],
   "source": [
    "print(U.shape, sigmas.shape, V_T.shape, '\\n')\n",
    "\n",
    "print(f\"U:\\n{np.round(U, 3)}\\n\")\n",
    "print(f\"sigmas:\\n{np.round(sigmas, 3)}\\n\")\n",
    "print(f\"V^T:\\n{np.round(V_T, 3)}\")"
   ]
  },
  {
   "cell_type": "markdown",
   "id": "d1c63891-8c3b-4a9d-98f3-58baf1bd3fad",
   "metadata": {},
   "source": [
    "### restoration"
   ]
  },
  {
   "cell_type": "code",
   "execution_count": 6,
   "id": "06047dfd-d46f-4e02-93dd-a2eb4ee941aa",
   "metadata": {},
   "outputs": [],
   "source": [
    "Sigma = np.diag(sigmas)\n",
    "A_restored = np.dot(U, np.dot(Sigma, V_T))"
   ]
  },
  {
   "cell_type": "code",
   "execution_count": 7,
   "id": "8a66cd41-0f10-4987-8518-79436fcfe4ab",
   "metadata": {},
   "outputs": [
    {
     "name": "stdout",
     "output_type": "stream",
     "text": [
      "A:\n",
      "[[-0.212 -0.285 -0.574 -0.44 ]\n",
      " [-0.33   1.184  1.615  0.367]\n",
      " [-0.014  0.63   1.71  -1.327]\n",
      " [ 0.402 -0.191  1.404 -1.969]]\n",
      "\n",
      "A_restored:\n",
      "[[-0.212 -0.285 -0.574 -0.44 ]\n",
      " [-0.33   1.184  1.615  0.367]\n",
      " [-0.014  0.63   1.71  -1.327]\n",
      " [ 0.402 -0.191  1.404 -1.969]]\n"
     ]
    }
   ],
   "source": [
    "print(f\"A:\\n{np.round(A, 3)}\\n\")\n",
    "print(f\"A_restored:\\n{np.round(A_restored, 3)}\")"
   ]
  },
  {
   "cell_type": "markdown",
   "id": "4517713e-cb18-4da8-959a-d6372cdb442d",
   "metadata": {},
   "source": [
    "## part 2: compact"
   ]
  },
  {
   "cell_type": "markdown",
   "id": "889ff059-5cef-4a3e-bacc-addd164916cd",
   "metadata": {},
   "source": [
    "### data having heavy correlation"
   ]
  },
  {
   "cell_type": "code",
   "execution_count": 8,
   "id": "46c8f3b6-140d-4018-abe0-07728e127559",
   "metadata": {},
   "outputs": [],
   "source": [
    "B = A\n",
    "B[1] = A[0] + A[2]\n",
    "B[3] = A[0]"
   ]
  },
  {
   "cell_type": "code",
   "execution_count": 9,
   "id": "b9770e05-f1de-4512-9e5d-8ab912ca9079",
   "metadata": {},
   "outputs": [
    {
     "name": "stdout",
     "output_type": "stream",
     "text": [
      "B:\n",
      "[[-0.212 -0.285 -0.574 -0.44 ]\n",
      " [-0.226  0.345  1.136 -1.767]\n",
      " [-0.014  0.63   1.71  -1.327]\n",
      " [-0.212 -0.285 -0.574 -0.44 ]]\n"
     ]
    }
   ],
   "source": [
    "print(f\"B:\\n{np.round(B, 3)}\")"
   ]
  },
  {
   "cell_type": "markdown",
   "id": "a05ef752-8847-4922-b75e-ac6d1d5da8c1",
   "metadata": {},
   "source": [
    "### perform SVD"
   ]
  },
  {
   "cell_type": "code",
   "execution_count": 10,
   "id": "24d7e2d3-5e44-4037-8be3-2a642f206ca8",
   "metadata": {},
   "outputs": [],
   "source": [
    "U, sigmas, V_T = np.linalg.svd(A)"
   ]
  },
  {
   "cell_type": "code",
   "execution_count": 11,
   "id": "a929cdd8-56a0-4b8d-bdd1-4ed39da143bf",
   "metadata": {},
   "outputs": [
    {
     "name": "stdout",
     "output_type": "stream",
     "text": [
      "(4, 4) (4,) (4, 4) \n",
      "\n",
      "U:\n",
      "[[ 0.045  0.631 -0.375 -0.678]\n",
      " [-0.683  0.366  0.63  -0.053]\n",
      " [-0.728 -0.265 -0.63   0.053]\n",
      " [ 0.045  0.631 -0.255  0.731]]\n",
      "\n",
      "sigmas:\n",
      "[3.062 1.258 0.    0.   ]\n",
      "\n",
      "V^T:\n",
      "[[ 0.048 -0.235 -0.676  0.696]\n",
      " [-0.275 -0.318 -0.605 -0.676]\n",
      " [ 0.05  -0.918  0.388  0.064]\n",
      " [ 0.959 -0.032 -0.16  -0.232]]\n"
     ]
    }
   ],
   "source": [
    "print(U.shape, sigmas.shape, V_T.shape, '\\n')\n",
    "\n",
    "print(f\"U:\\n{np.round(U, 3)}\\n\")\n",
    "print(f\"sigmas:\\n{np.round(sigmas, 3)}\\n\")\n",
    "print(f\"V^T:\\n{np.round(V_T, 3)}\")"
   ]
  },
  {
   "cell_type": "markdown",
   "id": "cf7dcddf-4649-4b87-b649-15501e074b22",
   "metadata": {},
   "source": [
    "### restoration"
   ]
  },
  {
   "cell_type": "code",
   "execution_count": 12,
   "id": "abe6a96b-49c0-48a4-b40a-914ea82025fe",
   "metadata": {},
   "outputs": [
    {
     "name": "stdout",
     "output_type": "stream",
     "text": [
      "n: 2\n"
     ]
    }
   ],
   "source": [
    "n = sum(sigmas > 1E-3)\n",
    "print(\"n:\", n)\n",
    "\n",
    "Sigma = np.diag(sigmas[:n])\n",
    "B_restored = np.dot(U[:, :n], np.dot(Sigma, V_T[:n]))"
   ]
  },
  {
   "cell_type": "code",
   "execution_count": 13,
   "id": "00e264fc-b3fa-4401-a47b-cc4c238a8c00",
   "metadata": {},
   "outputs": [
    {
     "name": "stdout",
     "output_type": "stream",
     "text": [
      "B:\n",
      "[[-0.212 -0.285 -0.574 -0.44 ]\n",
      " [-0.226  0.345  1.136 -1.767]\n",
      " [-0.014  0.63   1.71  -1.327]\n",
      " [-0.212 -0.285 -0.574 -0.44 ]]\n",
      "\n",
      "B_restored:\n",
      "[[-0.212 -0.285 -0.574 -0.44 ]\n",
      " [-0.226  0.345  1.136 -1.767]\n",
      " [-0.014  0.63   1.71  -1.327]\n",
      " [-0.212 -0.285 -0.574 -0.44 ]]\n",
      "\n"
     ]
    }
   ],
   "source": [
    "print(f\"B:\\n{np.round(B, 3)}\\n\")\n",
    "print(f\"B_restored:\\n{np.round(B_restored, 3)}\\n\")"
   ]
  },
  {
   "cell_type": "markdown",
   "id": "30b6a948-0c38-443c-8455-c0e24ff034c6",
   "metadata": {},
   "source": [
    "## part 3: truncated"
   ]
  },
  {
   "cell_type": "markdown",
   "id": "59e1b80c-6fc7-46a1-9bf3-4eea45078fb3",
   "metadata": {},
   "source": [
    "### data"
   ]
  },
  {
   "cell_type": "code",
   "execution_count": 50,
   "id": "d49a884d-c1f1-407e-b16f-04771358b206",
   "metadata": {},
   "outputs": [],
   "source": [
    "np.random.seed(121)\n",
    "\n",
    "A = np.random.randn(4, 4)"
   ]
  },
  {
   "cell_type": "code",
   "execution_count": 51,
   "id": "eff4eaf7-d478-4a67-aec3-29dd5a1e75ae",
   "metadata": {},
   "outputs": [
    {
     "name": "stdout",
     "output_type": "stream",
     "text": [
      "A:\n",
      "[[-0.212 -0.285 -0.574 -0.44 ]\n",
      " [-0.33   1.184  1.615  0.367]\n",
      " [-0.014  0.63   1.71  -1.327]\n",
      " [ 0.402 -0.191  1.404 -1.969]]\n"
     ]
    }
   ],
   "source": [
    "print(f\"A:\\n{np.round(A, 3)}\")"
   ]
  },
  {
   "cell_type": "markdown",
   "id": "2347f092-3d5d-417b-a5d2-5611184fad10",
   "metadata": {},
   "source": [
    "### perform SVD"
   ]
  },
  {
   "cell_type": "code",
   "execution_count": 52,
   "id": "ae4ba5e9-df89-4e06-a1ef-45c9f23a279a",
   "metadata": {},
   "outputs": [],
   "source": [
    "import scipy"
   ]
  },
  {
   "cell_type": "markdown",
   "id": "a7c70e10-ae5c-4c64-8f9e-a8355a1808e9",
   "metadata": {},
   "source": [
    "**full**"
   ]
  },
  {
   "cell_type": "code",
   "execution_count": 62,
   "id": "7931d890-4377-4341-91ab-7ba47d0aaf5e",
   "metadata": {},
   "outputs": [],
   "source": [
    "U, sigmas, V_T = scipy.linalg.svd(A, full_matrices=False)"
   ]
  },
  {
   "cell_type": "code",
   "execution_count": 63,
   "id": "f8a455c9-a042-4103-ac53-086230d26c00",
   "metadata": {},
   "outputs": [
    {
     "name": "stdout",
     "output_type": "stream",
     "text": [
      "(4, 4) (4,) (4, 4) \n",
      "\n",
      "U:\n",
      "[[-0.079 -0.318  0.867  0.376]\n",
      " [ 0.383  0.787  0.12   0.469]\n",
      " [ 0.656  0.022  0.357 -0.664]\n",
      " [ 0.645 -0.529 -0.328  0.444]]\n",
      "\n",
      "sigmas:\n",
      "[3.423 2.023 0.463 0.079]\n",
      "\n",
      "V^T:\n",
      "[[ 0.041  0.224  0.786 -0.574]\n",
      " [-0.2    0.562  0.37   0.712]\n",
      " [-0.778  0.395 -0.333 -0.357]\n",
      " [-0.593 -0.692  0.366  0.189]]\n"
     ]
    }
   ],
   "source": [
    "print(U.shape, sigmas.shape, V_T.shape, '\\n')\n",
    "\n",
    "print(f\"U:\\n{np.round(U, 3)}\\n\")\n",
    "print(f\"sigmas:\\n{np.round(sigmas, 3)}\\n\")\n",
    "print(f\"V^T:\\n{np.round(V_T, 3)}\")"
   ]
  },
  {
   "cell_type": "markdown",
   "id": "3ebf565e-fdca-4ec7-bfea-1c7ea7bcc76f",
   "metadata": {},
   "source": [
    "**truncated**"
   ]
  },
  {
   "cell_type": "code",
   "execution_count": 64,
   "id": "95b85f65-a354-409b-96f2-d791e4715482",
   "metadata": {},
   "outputs": [
    {
     "name": "stdout",
     "output_type": "stream",
     "text": [
      "n: 2\n"
     ]
    }
   ],
   "source": [
    "n = 2\n",
    "print(\"n:\", n)\n",
    "\n",
    "U_trc, sigmas_trc, V_T_trc = scipy.sparse.linalg.svds(A, k=n)"
   ]
  },
  {
   "cell_type": "code",
   "execution_count": 71,
   "id": "5a496981-b9eb-480f-8691-80388d81a3a1",
   "metadata": {},
   "outputs": [
    {
     "name": "stdout",
     "output_type": "stream",
     "text": [
      "(4, 2) (2,) (2, 4) \n",
      "\n",
      "U (truncated):\n",
      "[[-0.318  0.079]\n",
      " [ 0.787 -0.383]\n",
      " [ 0.022 -0.656]\n",
      " [-0.529 -0.645]]\n",
      "\n",
      "sigmas (truncated):\n",
      "[3.423 2.023]\n",
      "\n",
      "V^T (truncated):\n",
      "[[-0.2    0.562  0.37   0.712]\n",
      " [-0.041 -0.224 -0.786  0.574]]\n"
     ]
    }
   ],
   "source": [
    "print(U_trc.shape, sigmas_trc.shape, V_T_trc.shape, '\\n')\n",
    "\n",
    "print(f\"U (truncated):\\n{np.round(U_trc, 3)}\\n\")\n",
    "print(f\"sigmas (truncated):\\n{np.round(np.flip(sigmas_trc), 3)}\\n\")\n",
    "print(f\"V^T (truncated):\\n{np.round(V_T_trc, 3)}\")"
   ]
  },
  {
   "cell_type": "markdown",
   "id": "ab10d51c-d838-46fa-b354-c336c36bed5c",
   "metadata": {},
   "source": [
    "### approximate restoration"
   ]
  },
  {
   "cell_type": "markdown",
   "id": "891d529f-cb74-4d28-9053-91cd5c944dd8",
   "metadata": {},
   "source": [
    "**using numpy**"
   ]
  },
  {
   "cell_type": "code",
   "execution_count": 66,
   "id": "e20d20fa-b92c-4b89-93d1-5d2de7818128",
   "metadata": {},
   "outputs": [],
   "source": [
    "Sigma = np.diag(sigmas[:n])\n",
    "A_restored = np.dot(U[:, :n], np.dot(Sigma, V_T[:n]))"
   ]
  },
  {
   "cell_type": "code",
   "execution_count": 67,
   "id": "c9bd993b-eed0-4eab-99b4-fc5f7f2b7bb8",
   "metadata": {},
   "outputs": [
    {
     "name": "stdout",
     "output_type": "stream",
     "text": [
      "A:\n",
      "[[-0.212 -0.285 -0.574 -0.44 ]\n",
      " [-0.226  0.345  1.136 -1.767]\n",
      " [-0.014  0.63   1.71  -1.327]\n",
      " [-0.212 -0.285 -0.574 -0.44 ]]\n",
      "\n",
      "A_restored:\n",
      "[[ 0.118 -0.422 -0.451 -0.303]\n",
      " [-0.265  1.188  1.62   0.38 ]\n",
      " [ 0.083  0.528  1.784 -1.258]\n",
      " [ 0.305 -0.107  1.341 -2.03 ]]\n",
      "\n"
     ]
    }
   ],
   "source": [
    "print(f\"A:\\n{np.round(B, 3)}\\n\")\n",
    "print(f\"A_restored:\\n{np.round(A_restored, 3)}\\n\")"
   ]
  },
  {
   "cell_type": "markdown",
   "id": "9ea79379-2a33-4aef-9843-9ec6785ad3cb",
   "metadata": {},
   "source": [
    "**using scipy**"
   ]
  },
  {
   "cell_type": "code",
   "execution_count": 68,
   "id": "a37da106-cdea-4133-b719-ef7bbb574585",
   "metadata": {},
   "outputs": [],
   "source": [
    "Sigma_trc = np.diag(sigmas_trc)\n",
    "A_restored = np.dot(U_trc, np.dot(Sigma_trc, V_T_trc))"
   ]
  },
  {
   "cell_type": "code",
   "execution_count": 69,
   "id": "c1238395-236f-49d9-8285-9f339aeea00e",
   "metadata": {},
   "outputs": [
    {
     "name": "stdout",
     "output_type": "stream",
     "text": [
      "A:\n",
      "[[-0.212 -0.285 -0.574 -0.44 ]\n",
      " [-0.226  0.345  1.136 -1.767]\n",
      " [-0.014  0.63   1.71  -1.327]\n",
      " [-0.212 -0.285 -0.574 -0.44 ]]\n",
      "\n",
      "A_restored:\n",
      "[[ 0.118 -0.422 -0.451 -0.303]\n",
      " [-0.265  1.188  1.62   0.38 ]\n",
      " [ 0.083  0.528  1.784 -1.258]\n",
      " [ 0.305 -0.107  1.341 -2.03 ]]\n",
      "\n"
     ]
    }
   ],
   "source": [
    "print(f\"A:\\n{np.round(B, 3)}\\n\")\n",
    "print(f\"A_restored:\\n{np.round(A_restored, 3)}\\n\")"
   ]
  }
 ],
 "metadata": {
  "kernelspec": {
   "display_name": "Python 3 (ipykernel)",
   "language": "python",
   "name": "python3"
  },
  "language_info": {
   "codemirror_mode": {
    "name": "ipython",
    "version": 3
   },
   "file_extension": ".py",
   "mimetype": "text/x-python",
   "name": "python",
   "nbconvert_exporter": "python",
   "pygments_lexer": "ipython3",
   "version": "3.11.8"
  }
 },
 "nbformat": 4,
 "nbformat_minor": 5
}
