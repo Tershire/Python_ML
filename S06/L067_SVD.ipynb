{
 "cells": [
  {
   "cell_type": "markdown",
   "id": "2d2d050d-a3fd-40bb-8b6a-49aa620e38ae",
   "metadata": {},
   "source": [
    "**L067_SVD.ipynb**\n",
    "\n",
    "2024 JUN 06\n",
    "\n",
    "Tershire"
   ]
  },
  {
   "cell_type": "code",
   "execution_count": 1,
   "id": "1e7cd68d-7681-4452-8cfd-86d95244c6cd",
   "metadata": {},
   "outputs": [],
   "source": [
    "import numpy as np\n",
    "import pandas as pd\n",
    "import matplotlib.pyplot as plt\n",
    "%matplotlib inline"
   ]
  },
  {
   "cell_type": "markdown",
   "id": "a3b63b43-73c0-43e6-bd01-9fb81fabe300",
   "metadata": {},
   "source": [
    "# data"
   ]
  },
  {
   "cell_type": "code",
   "execution_count": 2,
   "id": "484b1b27-e2c3-4722-931a-0890ebea8e6a",
   "metadata": {},
   "outputs": [],
   "source": [
    "from sklearn.datasets import load_iris"
   ]
  },
  {
   "cell_type": "code",
   "execution_count": 3,
   "id": "68dfc972-5722-442b-8b82-151df626ff0b",
   "metadata": {},
   "outputs": [],
   "source": [
    "iris_dataset = load_iris()\n",
    "\n",
    "columns = [\"sepal_length\", \"sepal_width\", \"petal_length\", \"petal_width\"]\n",
    "iris_df = pd.DataFrame(iris_dataset.data, columns=columns)\n",
    "iris_df[\"target\"] = iris_dataset.target"
   ]
  },
  {
   "cell_type": "code",
   "execution_count": 4,
   "id": "cd918267-34bb-4efc-b9ad-931410b3726a",
   "metadata": {},
   "outputs": [
    {
     "data": {
      "text/html": [
       "<div>\n",
       "<style scoped>\n",
       "    .dataframe tbody tr th:only-of-type {\n",
       "        vertical-align: middle;\n",
       "    }\n",
       "\n",
       "    .dataframe tbody tr th {\n",
       "        vertical-align: top;\n",
       "    }\n",
       "\n",
       "    .dataframe thead th {\n",
       "        text-align: right;\n",
       "    }\n",
       "</style>\n",
       "<table border=\"1\" class=\"dataframe\">\n",
       "  <thead>\n",
       "    <tr style=\"text-align: right;\">\n",
       "      <th></th>\n",
       "      <th>sepal_length</th>\n",
       "      <th>sepal_width</th>\n",
       "      <th>petal_length</th>\n",
       "      <th>petal_width</th>\n",
       "      <th>target</th>\n",
       "    </tr>\n",
       "  </thead>\n",
       "  <tbody>\n",
       "    <tr>\n",
       "      <th>0</th>\n",
       "      <td>5.1</td>\n",
       "      <td>3.5</td>\n",
       "      <td>1.4</td>\n",
       "      <td>0.2</td>\n",
       "      <td>0</td>\n",
       "    </tr>\n",
       "    <tr>\n",
       "      <th>1</th>\n",
       "      <td>4.9</td>\n",
       "      <td>3.0</td>\n",
       "      <td>1.4</td>\n",
       "      <td>0.2</td>\n",
       "      <td>0</td>\n",
       "    </tr>\n",
       "    <tr>\n",
       "      <th>2</th>\n",
       "      <td>4.7</td>\n",
       "      <td>3.2</td>\n",
       "      <td>1.3</td>\n",
       "      <td>0.2</td>\n",
       "      <td>0</td>\n",
       "    </tr>\n",
       "  </tbody>\n",
       "</table>\n",
       "</div>"
      ],
      "text/plain": [
       "   sepal_length  sepal_width  petal_length  petal_width  target\n",
       "0           5.1          3.5           1.4          0.2       0\n",
       "1           4.9          3.0           1.4          0.2       0\n",
       "2           4.7          3.2           1.3          0.2       0"
      ]
     },
     "metadata": {},
     "output_type": "display_data"
    }
   ],
   "source": [
    "display(iris_df.head(3))"
   ]
  },
  {
   "cell_type": "code",
   "execution_count": 5,
   "id": "439660c1-7ef7-4a2f-a8f7-8286fc8e82bb",
   "metadata": {},
   "outputs": [],
   "source": [
    "X = iris_dataset.data\n",
    "Y = iris_dataset.target"
   ]
  },
  {
   "cell_type": "markdown",
   "id": "4d0b54e9-893a-4333-b18d-f7dd3c7282bc",
   "metadata": {},
   "source": [
    "## visualization"
   ]
  },
  {
   "cell_type": "code",
   "execution_count": 6,
   "id": "50388912-1d39-432b-914f-244609e6d5e4",
   "metadata": {},
   "outputs": [
    {
     "data": {
      "image/png": "[encoded data removed]",
      "text/plain": [
       "<Figure size 640x480 with 1 Axes>"
      ]
     },
     "metadata": {},
     "output_type": "display_data"
    }
   ],
   "source": [
    "markers = ['^', 's', 'o']\n",
    "\n",
    "for i, marker in enumerate(markers):\n",
    "    x = iris_df[iris_df[\"target\"] == i][\"sepal_length\"]\n",
    "    y = iris_df[iris_df[\"target\"] == i][\"sepal_width\"]\n",
    "    plt.scatter(x, y, marker=marker, label=iris_dataset.target_names[i])\n",
    "\n",
    "plt.legend()\n",
    "plt.xlabel(\"sepal length\")\n",
    "plt.ylabel(\"sepal width\")\n",
    "plt.show()"
   ]
  },
  {
   "cell_type": "markdown",
   "id": "e21f3329-9697-4390-9809-d4481366aa40",
   "metadata": {},
   "source": [
    "**without preprocessing**"
   ]
  },
  {
   "cell_type": "markdown",
   "id": "5e4f4eff-e014-4a53-a728-3610fd30b003",
   "metadata": {},
   "source": [
    "# Truncated SVD"
   ]
  },
  {
   "cell_type": "code",
   "execution_count": 7,
   "id": "250d4273-1aee-4e14-94a4-7149254bca71",
   "metadata": {},
   "outputs": [],
   "source": [
    "from sklearn.decomposition import TruncatedSVD, PCA"
   ]
  },
  {
   "cell_type": "code",
   "execution_count": 8,
   "id": "f24b2357-328f-4189-b05a-1918e60975e6",
   "metadata": {},
   "outputs": [],
   "source": [
    "svd = TruncatedSVD(n_components=2)\n",
    "\n",
    "X_svd = svd.fit_transform(X)"
   ]
  },
  {
   "cell_type": "code",
   "execution_count": 9,
   "id": "733609c2-db8f-46f1-ab32-66d76aa48ad0",
   "metadata": {},
   "outputs": [
    {
     "name": "stdout",
     "output_type": "stream",
     "text": [
      "(150, 2)\n"
     ]
    }
   ],
   "source": [
    "print(X_svd.shape)"
   ]
  },
  {
   "cell_type": "markdown",
   "id": "efb49aa0-76a5-4c9e-9bd5-ab552c13917c",
   "metadata": {},
   "source": [
    "## conversion to data frame"
   ]
  },
  {
   "cell_type": "code",
   "execution_count": 10,
   "id": "29fb41f6-d9b1-4528-9dbc-264821253e56",
   "metadata": {},
   "outputs": [],
   "source": [
    "svd_columns = [\"svd_feature_1\", \"svd_feature_2\"]\n",
    "iris_df_svd = pd.DataFrame(X_svd, columns=svd_columns)\n",
    "iris_df_svd[\"target\"] = iris_dataset.target"
   ]
  },
  {
   "cell_type": "code",
   "execution_count": 11,
   "id": "6485b70d-b50b-493e-ba31-1d67e23809c9",
   "metadata": {},
   "outputs": [
    {
     "data": {
      "text/html": [
       "<div>\n",
       "<style scoped>\n",
       "    .dataframe tbody tr th:only-of-type {\n",
       "        vertical-align: middle;\n",
       "    }\n",
       "\n",
       "    .dataframe tbody tr th {\n",
       "        vertical-align: top;\n",
       "    }\n",
       "\n",
       "    .dataframe thead th {\n",
       "        text-align: right;\n",
       "    }\n",
       "</style>\n",
       "<table border=\"1\" class=\"dataframe\">\n",
       "  <thead>\n",
       "    <tr style=\"text-align: right;\">\n",
       "      <th></th>\n",
       "      <th>svd_feature_1</th>\n",
       "      <th>svd_feature_2</th>\n",
       "      <th>target</th>\n",
       "    </tr>\n",
       "  </thead>\n",
       "  <tbody>\n",
       "    <tr>\n",
       "      <th>0</th>\n",
       "      <td>5.912747</td>\n",
       "      <td>-2.302033</td>\n",
       "      <td>0</td>\n",
       "    </tr>\n",
       "    <tr>\n",
       "      <th>1</th>\n",
       "      <td>5.572482</td>\n",
       "      <td>-1.971826</td>\n",
       "      <td>0</td>\n",
       "    </tr>\n",
       "    <tr>\n",
       "      <th>2</th>\n",
       "      <td>5.446977</td>\n",
       "      <td>-2.095206</td>\n",
       "      <td>0</td>\n",
       "    </tr>\n",
       "  </tbody>\n",
       "</table>\n",
       "</div>"
      ],
      "text/plain": [
       "   svd_feature_1  svd_feature_2  target\n",
       "0       5.912747      -2.302033       0\n",
       "1       5.572482      -1.971826       0\n",
       "2       5.446977      -2.095206       0"
      ]
     },
     "metadata": {},
     "output_type": "display_data"
    }
   ],
   "source": [
    "display(iris_df_svd.head(3))"
   ]
  },
  {
   "cell_type": "markdown",
   "id": "ace1d784-5c0d-4599-896e-3308077f1f8a",
   "metadata": {},
   "source": [
    "## visualization"
   ]
  },
  {
   "cell_type": "code",
   "execution_count": 12,
   "id": "f5072ee6-0734-43c4-ae9b-ad69c7ecc8d4",
   "metadata": {},
   "outputs": [
    {
     "data": {
      "image/png": "[encoded data removed]",
      "text/plain": [
       "<Figure size 640x480 with 1 Axes>"
      ]
     },
     "metadata": {},
     "output_type": "display_data"
    }
   ],
   "source": [
    "markers = ['^', 's', 'o']\n",
    "\n",
    "for i, marker in enumerate(markers):\n",
    "    x = iris_df_svd[iris_df_svd[\"target\"] == i][\"svd_feature_1\"]\n",
    "    y = iris_df_svd[iris_df_svd[\"target\"] == i][\"svd_feature_2\"]\n",
    "    plt.scatter(x, y, marker=marker, label=iris_dataset.target_names[i])\n",
    "\n",
    "plt.legend()\n",
    "plt.xlabel(\"svd_feature_1\")\n",
    "plt.ylabel(\"svd_feature_2\")\n",
    "plt.show()"
   ]
  },
  {
   "cell_type": "markdown",
   "id": "1eef631f-e853-4475-912c-dee2c0d710b2",
   "metadata": {},
   "source": [
    "**with preprocessing**"
   ]
  },
  {
   "cell_type": "markdown",
   "id": "8d8c4d8a-3ea8-4b89-8126-83ead2bb822a",
   "metadata": {},
   "source": [
    "# preprocessing"
   ]
  },
  {
   "cell_type": "code",
   "execution_count": 13,
   "id": "1505543d-9f2c-4c7b-ad6f-2f27e31a0ce2",
   "metadata": {},
   "outputs": [],
   "source": [
    "from sklearn.preprocessing import StandardScaler"
   ]
  },
  {
   "cell_type": "code",
   "execution_count": 14,
   "id": "2a84f005-155f-4a6b-94d3-3cd3b5558cc0",
   "metadata": {},
   "outputs": [],
   "source": [
    "X_scaled = StandardScaler().fit_transform(iris_df.iloc[:, :-1])"
   ]
  },
  {
   "cell_type": "code",
   "execution_count": 15,
   "id": "ebefcc15-6c2d-4908-81f1-06794bb8784a",
   "metadata": {},
   "outputs": [
    {
     "name": "stdout",
     "output_type": "stream",
     "text": [
      "<class 'numpy.ndarray'> (150, 4)\n",
      "[[-0.90068117  1.01900435 -1.34022653 -1.3154443 ]\n",
      " [-1.14301691 -0.13197948 -1.34022653 -1.3154443 ]\n",
      " [-1.38535265  0.32841405 -1.39706395 -1.3154443 ]]\n"
     ]
    }
   ],
   "source": [
    "print(type(X_scaled), X_scaled.shape)\n",
    "print(X_scaled[:3, :])"
   ]
  },
  {
   "cell_type": "markdown",
   "id": "2fd35602-4d73-4069-821a-419a184be8f3",
   "metadata": {},
   "source": [
    "# Truncated SVD & PCA"
   ]
  },
  {
   "cell_type": "code",
   "execution_count": 16,
   "id": "f73430f9-4037-47d5-9f46-9523fb9c209b",
   "metadata": {},
   "outputs": [],
   "source": [
    "from sklearn.decomposition import TruncatedSVD, PCA"
   ]
  },
  {
   "cell_type": "markdown",
   "id": "43451d9e-1c38-499f-b2ac-68536feec756",
   "metadata": {},
   "source": [
    "**SVD**"
   ]
  },
  {
   "cell_type": "code",
   "execution_count": 17,
   "id": "87593f06-bada-4c60-a36b-6b714228766d",
   "metadata": {},
   "outputs": [],
   "source": [
    "svd = TruncatedSVD(n_components=2)\n",
    "\n",
    "X_svd = svd.fit_transform(X_scaled)"
   ]
  },
  {
   "cell_type": "code",
   "execution_count": 18,
   "id": "2891866a-34b3-40d2-a7d8-ccb460337b2d",
   "metadata": {},
   "outputs": [
    {
     "name": "stdout",
     "output_type": "stream",
     "text": [
      "(150, 2)\n"
     ]
    }
   ],
   "source": [
    "print(X_svd.shape)"
   ]
  },
  {
   "cell_type": "markdown",
   "id": "bf730884-5064-499f-9522-c5d48000efbd",
   "metadata": {},
   "source": [
    "**PCA**"
   ]
  },
  {
   "cell_type": "code",
   "execution_count": 19,
   "id": "6bde6d4f-bf71-4091-a551-44e9a19d380f",
   "metadata": {},
   "outputs": [],
   "source": [
    "pca = PCA(n_components=2)\n",
    "\n",
    "X_pca = pca.fit_transform(X_scaled)"
   ]
  },
  {
   "cell_type": "code",
   "execution_count": 20,
   "id": "68b061bb-3f45-48dd-b588-2de22f5bb261",
   "metadata": {},
   "outputs": [
    {
     "name": "stdout",
     "output_type": "stream",
     "text": [
      "(150, 2)\n"
     ]
    }
   ],
   "source": [
    "print(X_pca.shape)"
   ]
  },
  {
   "cell_type": "markdown",
   "id": "66bc98ab-09c4-4b7d-a51f-fccd8dc079d0",
   "metadata": {},
   "source": [
    "## conversion to data frame"
   ]
  },
  {
   "cell_type": "markdown",
   "id": "910a1018-42e2-4723-bd21-62c080ed0dc8",
   "metadata": {},
   "source": [
    "**SVD**"
   ]
  },
  {
   "cell_type": "code",
   "execution_count": 21,
   "id": "45e09c17-4d76-4941-baee-9c4f8a09f168",
   "metadata": {},
   "outputs": [],
   "source": [
    "svd_columns = [\"svd_feature_1\", \"svd_feature_2\"]\n",
    "iris_df_svd = pd.DataFrame(X_svd, columns=svd_columns)\n",
    "iris_df_svd[\"target\"] = iris_dataset.target"
   ]
  },
  {
   "cell_type": "code",
   "execution_count": 22,
   "id": "fbda6ed4-e668-4dc4-ba67-b864ab0925e5",
   "metadata": {},
   "outputs": [
    {
     "data": {
      "text/html": [
       "<div>\n",
       "<style scoped>\n",
       "    .dataframe tbody tr th:only-of-type {\n",
       "        vertical-align: middle;\n",
       "    }\n",
       "\n",
       "    .dataframe tbody tr th {\n",
       "        vertical-align: top;\n",
       "    }\n",
       "\n",
       "    .dataframe thead th {\n",
       "        text-align: right;\n",
       "    }\n",
       "</style>\n",
       "<table border=\"1\" class=\"dataframe\">\n",
       "  <thead>\n",
       "    <tr style=\"text-align: right;\">\n",
       "      <th></th>\n",
       "      <th>svd_feature_1</th>\n",
       "      <th>svd_feature_2</th>\n",
       "      <th>target</th>\n",
       "    </tr>\n",
       "  </thead>\n",
       "  <tbody>\n",
       "    <tr>\n",
       "      <th>0</th>\n",
       "      <td>-2.264703</td>\n",
       "      <td>0.480027</td>\n",
       "      <td>0</td>\n",
       "    </tr>\n",
       "    <tr>\n",
       "      <th>1</th>\n",
       "      <td>-2.080961</td>\n",
       "      <td>-0.674134</td>\n",
       "      <td>0</td>\n",
       "    </tr>\n",
       "    <tr>\n",
       "      <th>2</th>\n",
       "      <td>-2.364229</td>\n",
       "      <td>-0.341908</td>\n",
       "      <td>0</td>\n",
       "    </tr>\n",
       "  </tbody>\n",
       "</table>\n",
       "</div>"
      ],
      "text/plain": [
       "   svd_feature_1  svd_feature_2  target\n",
       "0      -2.264703       0.480027       0\n",
       "1      -2.080961      -0.674134       0\n",
       "2      -2.364229      -0.341908       0"
      ]
     },
     "metadata": {},
     "output_type": "display_data"
    }
   ],
   "source": [
    "display(iris_df_svd.head(3))"
   ]
  },
  {
   "cell_type": "markdown",
   "id": "789fdd98-df32-414b-8a76-2b5f9dd170fb",
   "metadata": {},
   "source": [
    "**PCA**"
   ]
  },
  {
   "cell_type": "code",
   "execution_count": 23,
   "id": "fc95dec9-cebe-497c-8b93-f7091b9a24a8",
   "metadata": {},
   "outputs": [],
   "source": [
    "pca_columns = [\"pca_feature_1\", \"pca_feature_2\"]\n",
    "iris_df_pca = pd.DataFrame(X_pca, columns=pca_columns)\n",
    "iris_df_pca[\"target\"] = iris_dataset.target"
   ]
  },
  {
   "cell_type": "code",
   "execution_count": 24,
   "id": "2c0ae53d-33e5-4718-b9ed-f3404cbb65c4",
   "metadata": {},
   "outputs": [
    {
     "data": {
      "text/html": [
       "<div>\n",
       "<style scoped>\n",
       "    .dataframe tbody tr th:only-of-type {\n",
       "        vertical-align: middle;\n",
       "    }\n",
       "\n",
       "    .dataframe tbody tr th {\n",
       "        vertical-align: top;\n",
       "    }\n",
       "\n",
       "    .dataframe thead th {\n",
       "        text-align: right;\n",
       "    }\n",
       "</style>\n",
       "<table border=\"1\" class=\"dataframe\">\n",
       "  <thead>\n",
       "    <tr style=\"text-align: right;\">\n",
       "      <th></th>\n",
       "      <th>pca_feature_1</th>\n",
       "      <th>pca_feature_2</th>\n",
       "      <th>target</th>\n",
       "    </tr>\n",
       "  </thead>\n",
       "  <tbody>\n",
       "    <tr>\n",
       "      <th>0</th>\n",
       "      <td>-2.264703</td>\n",
       "      <td>0.480027</td>\n",
       "      <td>0</td>\n",
       "    </tr>\n",
       "    <tr>\n",
       "      <th>1</th>\n",
       "      <td>-2.080961</td>\n",
       "      <td>-0.674134</td>\n",
       "      <td>0</td>\n",
       "    </tr>\n",
       "    <tr>\n",
       "      <th>2</th>\n",
       "      <td>-2.364229</td>\n",
       "      <td>-0.341908</td>\n",
       "      <td>0</td>\n",
       "    </tr>\n",
       "  </tbody>\n",
       "</table>\n",
       "</div>"
      ],
      "text/plain": [
       "   pca_feature_1  pca_feature_2  target\n",
       "0      -2.264703       0.480027       0\n",
       "1      -2.080961      -0.674134       0\n",
       "2      -2.364229      -0.341908       0"
      ]
     },
     "metadata": {},
     "output_type": "display_data"
    }
   ],
   "source": [
    "display(iris_df_pca.head(3))"
   ]
  },
  {
   "cell_type": "markdown",
   "id": "bf804875-083e-47ad-a526-737866f72db2",
   "metadata": {},
   "source": [
    "## visualization"
   ]
  },
  {
   "cell_type": "code",
   "execution_count": 25,
   "id": "514663b0-1f6e-4cbd-aeea-f5d3ac5e5c5f",
   "metadata": {},
   "outputs": [
    {
     "data": {
      "image/png": "[encoded data removed]",
      "text/plain": [
       "<Figure size 900x400 with 2 Axes>"
      ]
     },
     "metadata": {},
     "output_type": "display_data"
    }
   ],
   "source": [
    "fig, (ax1, ax2) = plt.subplots(ncols=2, figsize=(9, 4))\n",
    "\n",
    "markers = ['^', 's', 'o']\n",
    "\n",
    "for i, marker in enumerate(markers):\n",
    "    # SVD\n",
    "    x = iris_df_svd[iris_df_svd[\"target\"] == i][\"svd_feature_1\"]\n",
    "    y = iris_df_svd[iris_df_svd[\"target\"] == i][\"svd_feature_2\"]\n",
    "    ax1.scatter(x, y, marker=marker, label=iris_dataset.target_names[i])\n",
    "    ax1.set_xlabel(\"svd_feature_1\")\n",
    "    ax1.set_ylabel(\"svd_feature_2\")\n",
    "    ax1.legend()\n",
    "    # PCA\n",
    "    x = iris_df_pca[iris_df_pca[\"target\"] == i][\"pca_feature_1\"]\n",
    "    y = iris_df_pca[iris_df_pca[\"target\"] == i][\"pca_feature_2\"]\n",
    "    ax2.scatter(x, y, marker=marker, label=iris_dataset.target_names[i])\n",
    "    ax2.set_xlabel(\"pca_feature_1\")\n",
    "    ax2.set_ylabel(\"pca_feature_2\")\n",
    "    ax2.legend()\n",
    "\n",
    "plt.show()"
   ]
  },
  {
   "cell_type": "markdown",
   "id": "bacaa1e0-3bce-49a9-9ee4-716a68769f4d",
   "metadata": {},
   "source": [
    "# original features vs SVD features\n",
    "\n",
    "**random forest**"
   ]
  },
  {
   "cell_type": "code",
   "execution_count": 26,
   "id": "5b8b75cf-c95e-4404-aa18-38783cddbf4c",
   "metadata": {},
   "outputs": [],
   "source": [
    "from sklearn.ensemble import RandomForestClassifier\n",
    "from sklearn.model_selection import cross_val_score"
   ]
  },
  {
   "cell_type": "code",
   "execution_count": 27,
   "id": "53c27193-28c1-4edc-b454-884a553aafba",
   "metadata": {},
   "outputs": [],
   "source": [
    "classifier = RandomForestClassifier(random_state=156)"
   ]
  },
  {
   "cell_type": "markdown",
   "id": "562cf014-2d46-46f0-b6ac-ad7da1c00e7a",
   "metadata": {},
   "source": [
    "## original features"
   ]
  },
  {
   "cell_type": "code",
   "execution_count": 28,
   "id": "77716bb9-e1d4-4eef-a411-e73174d975d1",
   "metadata": {},
   "outputs": [
    {
     "name": "stdout",
     "output_type": "stream",
     "text": [
      "cross validation accuracy scores: [0.98 0.94 0.96]\n",
      "mean cross valication accuracy score: 0.96\n"
     ]
    }
   ],
   "source": [
    "X, Y = iris_dataset.data, iris_dataset.target\n",
    "\n",
    "scores = cross_val_score(classifier, X, Y, scoring=\"accuracy\", cv=3)\n",
    "\n",
    "print(f\"cross validation accuracy scores: {scores}\")\n",
    "print(f\"mean cross valication accuracy score: {np.mean(scores)}\")"
   ]
  },
  {
   "cell_type": "markdown",
   "id": "b542c655-a960-4e9a-9995-fd574e0f838a",
   "metadata": {},
   "source": [
    "## SVD features"
   ]
  },
  {
   "cell_type": "code",
   "execution_count": 29,
   "id": "081d4ddc-d633-4b9c-bcb8-6d39f57d685c",
   "metadata": {},
   "outputs": [
    {
     "name": "stdout",
     "output_type": "stream",
     "text": [
      "cross validation accuracy scores: [0.88 0.88 0.88]\n",
      "mean cross valication accuracy score: 0.88\n"
     ]
    }
   ],
   "source": [
    "X_svd = iris_df_svd[[\"svd_feature_1\", \"svd_feature_2\"]]\n",
    "\n",
    "scores = cross_val_score(classifier, X_svd, Y, scoring=\"accuracy\", cv=3)\n",
    "\n",
    "print(f\"cross validation accuracy scores: {scores}\")\n",
    "print(f\"mean cross valication accuracy score: {np.mean(scores)}\")"
   ]
  }
 ],
 "metadata": {
  "kernelspec": {
   "display_name": "Python 3 (ipykernel)",
   "language": "python",
   "name": "python3"
  },
  "language_info": {
   "codemirror_mode": {
    "name": "ipython",
    "version": 3
   },
   "file_extension": ".py",
   "mimetype": "text/x-python",
   "name": "python",
   "nbconvert_exporter": "python",
   "pygments_lexer": "ipython3",
   "version": "3.11.8"
  }
 },
 "nbformat": 4,
 "nbformat_minor": 5
}
