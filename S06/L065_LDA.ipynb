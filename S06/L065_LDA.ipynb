{
 "cells": [
  {
   "cell_type": "markdown",
   "id": "2d2d050d-a3fd-40bb-8b6a-49aa620e38ae",
   "metadata": {},
   "source": [
    "**L065_LDA.ipynb**\n",
    "\n",
    "2024 JUN 05\n",
    "\n",
    "Tershire"
   ]
  },
  {
   "cell_type": "code",
   "execution_count": 3,
   "id": "1e7cd68d-7681-4452-8cfd-86d95244c6cd",
   "metadata": {},
   "outputs": [],
   "source": [
    "import numpy as np\n",
    "import pandas as pd\n",
    "import matplotlib.pyplot as plt\n",
    "%matplotlib inline"
   ]
  },
  {
   "cell_type": "markdown",
   "id": "a3b63b43-73c0-43e6-bd01-9fb81fabe300",
   "metadata": {},
   "source": [
    "# data"
   ]
  },
  {
   "cell_type": "code",
   "execution_count": 4,
   "id": "484b1b27-e2c3-4722-931a-0890ebea8e6a",
   "metadata": {},
   "outputs": [],
   "source": [
    "from sklearn.datasets import load_iris"
   ]
  },
  {
   "cell_type": "code",
   "execution_count": 5,
   "id": "68dfc972-5722-442b-8b82-151df626ff0b",
   "metadata": {},
   "outputs": [],
   "source": [
    "iris_dataset = load_iris()\n",
    "\n",
    "columns = [\"sepal_length\", \"sepal_width\", \"petal_length\", \"petal_width\"]\n",
    "iris_df = pd.DataFrame(iris_dataset.data, columns=columns)\n",
    "iris_df[\"target\"] = iris_dataset.target"
   ]
  },
  {
   "cell_type": "code",
   "execution_count": 6,
   "id": "cd918267-34bb-4efc-b9ad-931410b3726a",
   "metadata": {},
   "outputs": [
    {
     "data": {
      "text/html": [
       "<div>\n",
       "<style scoped>\n",
       "    .dataframe tbody tr th:only-of-type {\n",
       "        vertical-align: middle;\n",
       "    }\n",
       "\n",
       "    .dataframe tbody tr th {\n",
       "        vertical-align: top;\n",
       "    }\n",
       "\n",
       "    .dataframe thead th {\n",
       "        text-align: right;\n",
       "    }\n",
       "</style>\n",
       "<table border=\"1\" class=\"dataframe\">\n",
       "  <thead>\n",
       "    <tr style=\"text-align: right;\">\n",
       "      <th></th>\n",
       "      <th>sepal_length</th>\n",
       "      <th>sepal_width</th>\n",
       "      <th>petal_length</th>\n",
       "      <th>petal_width</th>\n",
       "      <th>target</th>\n",
       "    </tr>\n",
       "  </thead>\n",
       "  <tbody>\n",
       "    <tr>\n",
       "      <th>0</th>\n",
       "      <td>5.1</td>\n",
       "      <td>3.5</td>\n",
       "      <td>1.4</td>\n",
       "      <td>0.2</td>\n",
       "      <td>0</td>\n",
       "    </tr>\n",
       "    <tr>\n",
       "      <th>1</th>\n",
       "      <td>4.9</td>\n",
       "      <td>3.0</td>\n",
       "      <td>1.4</td>\n",
       "      <td>0.2</td>\n",
       "      <td>0</td>\n",
       "    </tr>\n",
       "    <tr>\n",
       "      <th>2</th>\n",
       "      <td>4.7</td>\n",
       "      <td>3.2</td>\n",
       "      <td>1.3</td>\n",
       "      <td>0.2</td>\n",
       "      <td>0</td>\n",
       "    </tr>\n",
       "  </tbody>\n",
       "</table>\n",
       "</div>"
      ],
      "text/plain": [
       "   sepal_length  sepal_width  petal_length  petal_width  target\n",
       "0           5.1          3.5           1.4          0.2       0\n",
       "1           4.9          3.0           1.4          0.2       0\n",
       "2           4.7          3.2           1.3          0.2       0"
      ]
     },
     "metadata": {},
     "output_type": "display_data"
    }
   ],
   "source": [
    "display(iris_df.head(3))"
   ]
  },
  {
   "cell_type": "markdown",
   "id": "4d0b54e9-893a-4333-b18d-f7dd3c7282bc",
   "metadata": {},
   "source": [
    "## visualization"
   ]
  },
  {
   "cell_type": "code",
   "execution_count": 7,
   "id": "50388912-1d39-432b-914f-244609e6d5e4",
   "metadata": {},
   "outputs": [
    {
     "data": {
      "image/png": "[encoded data removed]",
      "text/plain": [
       "<Figure size 640x480 with 1 Axes>"
      ]
     },
     "metadata": {},
     "output_type": "display_data"
    }
   ],
   "source": [
    "markers = ['^', 's', 'o']\n",
    "\n",
    "for i, marker in enumerate(markers):\n",
    "    x = iris_df[iris_df[\"target\"] == i][\"sepal_length\"]\n",
    "    y = iris_df[iris_df[\"target\"] == i][\"sepal_width\"]\n",
    "    plt.scatter(x, y, marker=marker, label=iris_dataset.target_names[i])\n",
    "\n",
    "plt.legend()\n",
    "plt.xlabel(\"sepal length\")\n",
    "plt.ylabel(\"sepal width\")\n",
    "plt.show()"
   ]
  },
  {
   "cell_type": "markdown",
   "id": "8d8c4d8a-3ea8-4b89-8126-83ead2bb822a",
   "metadata": {},
   "source": [
    "# preprocessing"
   ]
  },
  {
   "cell_type": "code",
   "execution_count": 8,
   "id": "1505543d-9f2c-4c7b-ad6f-2f27e31a0ce2",
   "metadata": {},
   "outputs": [],
   "source": [
    "from sklearn.preprocessing import StandardScaler"
   ]
  },
  {
   "cell_type": "code",
   "execution_count": 9,
   "id": "2a84f005-155f-4a6b-94d3-3cd3b5558cc0",
   "metadata": {},
   "outputs": [],
   "source": [
    "X_scaled = StandardScaler().fit_transform(iris_df.iloc[:, :-1])"
   ]
  },
  {
   "cell_type": "code",
   "execution_count": 10,
   "id": "ebefcc15-6c2d-4908-81f1-06794bb8784a",
   "metadata": {},
   "outputs": [
    {
     "name": "stdout",
     "output_type": "stream",
     "text": [
      "<class 'numpy.ndarray'> (150, 4)\n",
      "[[-0.90068117  1.01900435 -1.34022653 -1.3154443 ]\n",
      " [-1.14301691 -0.13197948 -1.34022653 -1.3154443 ]\n",
      " [-1.38535265  0.32841405 -1.39706395 -1.3154443 ]]\n"
     ]
    }
   ],
   "source": [
    "print(type(X_scaled), X_scaled.shape)\n",
    "print(X_scaled[:3, :])"
   ]
  },
  {
   "cell_type": "markdown",
   "id": "2fd35602-4d73-4069-821a-419a184be8f3",
   "metadata": {},
   "source": [
    "# LDA"
   ]
  },
  {
   "cell_type": "code",
   "execution_count": 11,
   "id": "20a027d2-4bf0-4e0c-a3d5-7ffdf601733e",
   "metadata": {},
   "outputs": [],
   "source": [
    "from sklearn.discriminant_analysis import LinearDiscriminantAnalysis"
   ]
  },
  {
   "cell_type": "code",
   "execution_count": 13,
   "id": "08ccb517-5757-44a3-ba8a-d161a75237ad",
   "metadata": {},
   "outputs": [],
   "source": [
    "lda = LinearDiscriminantAnalysis(n_components=2)\n",
    "\n",
    "lda.fit(X_scaled, iris_dataset.target)\n",
    "X_lda = lda.transform(X_scaled)"
   ]
  },
  {
   "cell_type": "code",
   "execution_count": 19,
   "id": "2cf9f78d-965f-48a4-b3ca-521d38e56435",
   "metadata": {},
   "outputs": [
    {
     "name": "stdout",
     "output_type": "stream",
     "text": [
      "(150, 2)\n"
     ]
    }
   ],
   "source": [
    "print(X_pca.shape)"
   ]
  },
  {
   "cell_type": "markdown",
   "id": "66bc98ab-09c4-4b7d-a51f-fccd8dc079d0",
   "metadata": {},
   "source": [
    "## conversion to data frame"
   ]
  },
  {
   "cell_type": "code",
   "execution_count": 23,
   "id": "e3450b1c-7805-49f2-bf26-7b4022367f7d",
   "metadata": {},
   "outputs": [],
   "source": [
    "lda_columns = [\"lda_feature_1\", \"lda_feature_2\"]\n",
    "iris_df_lda = pd.DataFrame(X_lda, columns=lda_columns)\n",
    "iris_df_lda[\"target\"] = iris_dataset.target"
   ]
  },
  {
   "cell_type": "code",
   "execution_count": 24,
   "id": "817e2f8d-fa0b-4fd7-9be8-439e53e5914c",
   "metadata": {},
   "outputs": [
    {
     "data": {
      "text/html": [
       "<div>\n",
       "<style scoped>\n",
       "    .dataframe tbody tr th:only-of-type {\n",
       "        vertical-align: middle;\n",
       "    }\n",
       "\n",
       "    .dataframe tbody tr th {\n",
       "        vertical-align: top;\n",
       "    }\n",
       "\n",
       "    .dataframe thead th {\n",
       "        text-align: right;\n",
       "    }\n",
       "</style>\n",
       "<table border=\"1\" class=\"dataframe\">\n",
       "  <thead>\n",
       "    <tr style=\"text-align: right;\">\n",
       "      <th></th>\n",
       "      <th>lda_feature_1</th>\n",
       "      <th>lda_feature_2</th>\n",
       "      <th>target</th>\n",
       "    </tr>\n",
       "  </thead>\n",
       "  <tbody>\n",
       "    <tr>\n",
       "      <th>0</th>\n",
       "      <td>8.061800</td>\n",
       "      <td>-0.300421</td>\n",
       "      <td>0</td>\n",
       "    </tr>\n",
       "    <tr>\n",
       "      <th>1</th>\n",
       "      <td>7.128688</td>\n",
       "      <td>0.786660</td>\n",
       "      <td>0</td>\n",
       "    </tr>\n",
       "    <tr>\n",
       "      <th>2</th>\n",
       "      <td>7.489828</td>\n",
       "      <td>0.265384</td>\n",
       "      <td>0</td>\n",
       "    </tr>\n",
       "  </tbody>\n",
       "</table>\n",
       "</div>"
      ],
      "text/plain": [
       "   lda_feature_1  lda_feature_2  target\n",
       "0       8.061800      -0.300421       0\n",
       "1       7.128688       0.786660       0\n",
       "2       7.489828       0.265384       0"
      ]
     },
     "metadata": {},
     "output_type": "display_data"
    }
   ],
   "source": [
    "display(iris_df_lda.head(3))"
   ]
  },
  {
   "cell_type": "markdown",
   "id": "bf804875-083e-47ad-a526-737866f72db2",
   "metadata": {},
   "source": [
    "## visualization"
   ]
  },
  {
   "cell_type": "code",
   "execution_count": 26,
   "id": "514663b0-1f6e-4cbd-aeea-f5d3ac5e5c5f",
   "metadata": {},
   "outputs": [
    {
     "data": {
      "image/png": "[encoded data removed]",
      "text/plain": [
       "<Figure size 640x480 with 1 Axes>"
      ]
     },
     "metadata": {},
     "output_type": "display_data"
    }
   ],
   "source": [
    "markers = ['^', 's', 'o']\n",
    "\n",
    "for i, marker in enumerate(markers):\n",
    "    x = iris_df_lda[iris_df_lda[\"target\"] == i][\"lda_feature_1\"]\n",
    "    y = iris_df_lda[iris_df_lda[\"target\"] == i][\"lda_feature_2\"]\n",
    "    plt.scatter(x, y, marker=marker, label=iris_dataset.target_names[i])\n",
    "\n",
    "plt.legend()\n",
    "plt.xlabel(\"lda_feature_1\")\n",
    "plt.ylabel(\"lda_feature_2\")\n",
    "plt.show()"
   ]
  },
  {
   "cell_type": "markdown",
   "id": "4a153c93-9517-436d-a1eb-ef194ec81b68",
   "metadata": {},
   "source": [
    "# original features vs LDA features\n",
    "\n",
    "**random forest**"
   ]
  },
  {
   "cell_type": "code",
   "execution_count": 27,
   "id": "4edabc94-3ef6-4dc6-b168-3c360db92cac",
   "metadata": {},
   "outputs": [],
   "source": [
    "from sklearn.ensemble import RandomForestClassifier\n",
    "from sklearn.model_selection import cross_val_score"
   ]
  },
  {
   "cell_type": "code",
   "execution_count": 28,
   "id": "c64e9965-5beb-4eb3-a53f-e57aa9de75c2",
   "metadata": {},
   "outputs": [],
   "source": [
    "classifier = RandomForestClassifier(random_state=156)"
   ]
  },
  {
   "cell_type": "markdown",
   "id": "487bdd1a-f4fe-46ec-bc6d-ee985031b573",
   "metadata": {},
   "source": [
    "## original features"
   ]
  },
  {
   "cell_type": "code",
   "execution_count": 29,
   "id": "91b04832-323b-4268-b793-425ac46dc2cd",
   "metadata": {},
   "outputs": [
    {
     "name": "stdout",
     "output_type": "stream",
     "text": [
      "cross validation accuracy scores: [0.98 0.94 0.96]\n",
      "mean cross valication accuracy score: 0.96\n"
     ]
    }
   ],
   "source": [
    "X, Y = iris_dataset.data, iris_dataset.target\n",
    "\n",
    "scores = cross_val_score(classifier, X, Y, scoring=\"accuracy\", cv=3)\n",
    "\n",
    "print(f\"cross validation accuracy scores: {scores}\")\n",
    "print(f\"mean cross valication accuracy score: {np.mean(scores)}\")"
   ]
  },
  {
   "cell_type": "markdown",
   "id": "12ea4e1c-cca3-4fd8-814f-86d3133133b7",
   "metadata": {},
   "source": [
    "## LDA features"
   ]
  },
  {
   "cell_type": "code",
   "execution_count": 31,
   "id": "14f11e79-d0f7-40aa-9b3b-28b36917a284",
   "metadata": {},
   "outputs": [
    {
     "name": "stdout",
     "output_type": "stream",
     "text": [
      "cross validation accuracy scores: [1.   0.9  0.94]\n",
      "mean cross valication accuracy score: 0.9466666666666667\n"
     ]
    }
   ],
   "source": [
    "X_lca = iris_df_lda[[\"lda_feature_1\", \"lda_feature_2\"]]\n",
    "\n",
    "scores = cross_val_score(classifier, X_lda, Y, scoring=\"accuracy\", cv=3)\n",
    "\n",
    "print(f\"cross validation accuracy scores: {scores}\")\n",
    "print(f\"mean cross valication accuracy score: {np.mean(scores)}\")"
   ]
  }
 ],
 "metadata": {
  "kernelspec": {
   "display_name": "Python 3 (ipykernel)",
   "language": "python",
   "name": "python3"
  },
  "language_info": {
   "codemirror_mode": {
    "name": "ipython",
    "version": 3
   },
   "file_extension": ".py",
   "mimetype": "text/x-python",
   "name": "python",
   "nbconvert_exporter": "python",
   "pygments_lexer": "ipython3",
   "version": "3.11.8"
  }
 },
 "nbformat": 4,
 "nbformat_minor": 5
}
