{
 "cells": [
  {
   "cell_type": "markdown",
   "id": "2d2d050d-a3fd-40bb-8b6a-49aa620e38ae",
   "metadata": {},
   "source": [
    "**L067_NMF.ipynb**\n",
    "\n",
    "2024 JUN 06\n",
    "\n",
    "Tershire"
   ]
  },
  {
   "cell_type": "code",
   "execution_count": 1,
   "id": "1e7cd68d-7681-4452-8cfd-86d95244c6cd",
   "metadata": {},
   "outputs": [],
   "source": [
    "import numpy as np\n",
    "import pandas as pd\n",
    "import matplotlib.pyplot as plt\n",
    "%matplotlib inline"
   ]
  },
  {
   "cell_type": "markdown",
   "id": "a3b63b43-73c0-43e6-bd01-9fb81fabe300",
   "metadata": {},
   "source": [
    "# data"
   ]
  },
  {
   "cell_type": "code",
   "execution_count": 2,
   "id": "484b1b27-e2c3-4722-931a-0890ebea8e6a",
   "metadata": {},
   "outputs": [],
   "source": [
    "from sklearn.datasets import load_iris"
   ]
  },
  {
   "cell_type": "code",
   "execution_count": 3,
   "id": "68dfc972-5722-442b-8b82-151df626ff0b",
   "metadata": {},
   "outputs": [],
   "source": [
    "iris_dataset = load_iris()\n",
    "\n",
    "columns = [\"sepal_length\", \"sepal_width\", \"petal_length\", \"petal_width\"]\n",
    "iris_df = pd.DataFrame(iris_dataset.data, columns=columns)\n",
    "iris_df[\"target\"] = iris_dataset.target"
   ]
  },
  {
   "cell_type": "code",
   "execution_count": 4,
   "id": "cd918267-34bb-4efc-b9ad-931410b3726a",
   "metadata": {},
   "outputs": [
    {
     "data": {
      "text/html": [
       "<div>\n",
       "<style scoped>\n",
       "    .dataframe tbody tr th:only-of-type {\n",
       "        vertical-align: middle;\n",
       "    }\n",
       "\n",
       "    .dataframe tbody tr th {\n",
       "        vertical-align: top;\n",
       "    }\n",
       "\n",
       "    .dataframe thead th {\n",
       "        text-align: right;\n",
       "    }\n",
       "</style>\n",
       "<table border=\"1\" class=\"dataframe\">\n",
       "  <thead>\n",
       "    <tr style=\"text-align: right;\">\n",
       "      <th></th>\n",
       "      <th>sepal_length</th>\n",
       "      <th>sepal_width</th>\n",
       "      <th>petal_length</th>\n",
       "      <th>petal_width</th>\n",
       "      <th>target</th>\n",
       "    </tr>\n",
       "  </thead>\n",
       "  <tbody>\n",
       "    <tr>\n",
       "      <th>0</th>\n",
       "      <td>5.1</td>\n",
       "      <td>3.5</td>\n",
       "      <td>1.4</td>\n",
       "      <td>0.2</td>\n",
       "      <td>0</td>\n",
       "    </tr>\n",
       "    <tr>\n",
       "      <th>1</th>\n",
       "      <td>4.9</td>\n",
       "      <td>3.0</td>\n",
       "      <td>1.4</td>\n",
       "      <td>0.2</td>\n",
       "      <td>0</td>\n",
       "    </tr>\n",
       "    <tr>\n",
       "      <th>2</th>\n",
       "      <td>4.7</td>\n",
       "      <td>3.2</td>\n",
       "      <td>1.3</td>\n",
       "      <td>0.2</td>\n",
       "      <td>0</td>\n",
       "    </tr>\n",
       "  </tbody>\n",
       "</table>\n",
       "</div>"
      ],
      "text/plain": [
       "   sepal_length  sepal_width  petal_length  petal_width  target\n",
       "0           5.1          3.5           1.4          0.2       0\n",
       "1           4.9          3.0           1.4          0.2       0\n",
       "2           4.7          3.2           1.3          0.2       0"
      ]
     },
     "metadata": {},
     "output_type": "display_data"
    }
   ],
   "source": [
    "display(iris_df.head(3))"
   ]
  },
  {
   "cell_type": "markdown",
   "id": "4d0b54e9-893a-4333-b18d-f7dd3c7282bc",
   "metadata": {},
   "source": [
    "## visualization"
   ]
  },
  {
   "cell_type": "code",
   "execution_count": 5,
   "id": "50388912-1d39-432b-914f-244609e6d5e4",
   "metadata": {},
   "outputs": [
    {
     "data": {
      "image/png": "[encoded data removed]",
      "text/plain": [
       "<Figure size 640x480 with 1 Axes>"
      ]
     },
     "metadata": {},
     "output_type": "display_data"
    }
   ],
   "source": [
    "markers = ['^', 's', 'o']\n",
    "\n",
    "for i, marker in enumerate(markers):\n",
    "    x = iris_df[iris_df[\"target\"] == i][\"sepal_length\"]\n",
    "    y = iris_df[iris_df[\"target\"] == i][\"sepal_width\"]\n",
    "    plt.scatter(x, y, marker=marker, label=iris_dataset.target_names[i])\n",
    "\n",
    "plt.legend()\n",
    "plt.xlabel(\"sepal length\")\n",
    "plt.ylabel(\"sepal width\")\n",
    "plt.show()"
   ]
  },
  {
   "cell_type": "markdown",
   "id": "5e4f4eff-e014-4a53-a728-3610fd30b003",
   "metadata": {},
   "source": [
    "# NMF"
   ]
  },
  {
   "cell_type": "code",
   "execution_count": 6,
   "id": "250d4273-1aee-4e14-94a4-7149254bca71",
   "metadata": {},
   "outputs": [],
   "source": [
    "from sklearn.decomposition import NMF"
   ]
  },
  {
   "cell_type": "code",
   "execution_count": 7,
   "id": "f24b2357-328f-4189-b05a-1918e60975e6",
   "metadata": {},
   "outputs": [
    {
     "name": "stderr",
     "output_type": "stream",
     "text": [
      "/home/tershire/anaconda3/envs/mllab/lib/python3.11/site-packages/sklearn/decomposition/_nmf.py:1759: ConvergenceWarning: Maximum number of iterations 200 reached. Increase it to improve convergence.\n",
      "  warnings.warn(\n"
     ]
    }
   ],
   "source": [
    "nmf = NMF(n_components=2)\n",
    "\n",
    "X_nmf = nmf.fit_transform(iris_dataset.data)"
   ]
  },
  {
   "cell_type": "code",
   "execution_count": 8,
   "id": "733609c2-db8f-46f1-ab32-66d76aa48ad0",
   "metadata": {},
   "outputs": [
    {
     "name": "stdout",
     "output_type": "stream",
     "text": [
      "(150, 2)\n"
     ]
    }
   ],
   "source": [
    "print(X_nmf.shape)"
   ]
  },
  {
   "cell_type": "markdown",
   "id": "efb49aa0-76a5-4c9e-9bd5-ab552c13917c",
   "metadata": {},
   "source": [
    "## conversion to data frame"
   ]
  },
  {
   "cell_type": "code",
   "execution_count": 9,
   "id": "29fb41f6-d9b1-4528-9dbc-264821253e56",
   "metadata": {},
   "outputs": [],
   "source": [
    "nmf_columns = [\"nmf_feature_1\", \"nmf_feature_2\"]\n",
    "iris_df_nmf = pd.DataFrame(X_nmf, columns=nmf_columns)\n",
    "iris_df_nmf[\"target\"] = iris_dataset.target"
   ]
  },
  {
   "cell_type": "code",
   "execution_count": 10,
   "id": "6485b70d-b50b-493e-ba31-1d67e23809c9",
   "metadata": {},
   "outputs": [
    {
     "data": {
      "text/html": [
       "<div>\n",
       "<style scoped>\n",
       "    .dataframe tbody tr th:only-of-type {\n",
       "        vertical-align: middle;\n",
       "    }\n",
       "\n",
       "    .dataframe tbody tr th {\n",
       "        vertical-align: top;\n",
       "    }\n",
       "\n",
       "    .dataframe thead th {\n",
       "        text-align: right;\n",
       "    }\n",
       "</style>\n",
       "<table border=\"1\" class=\"dataframe\">\n",
       "  <thead>\n",
       "    <tr style=\"text-align: right;\">\n",
       "      <th></th>\n",
       "      <th>nmf_feature_1</th>\n",
       "      <th>nmf_feature_2</th>\n",
       "      <th>target</th>\n",
       "    </tr>\n",
       "  </thead>\n",
       "  <tbody>\n",
       "    <tr>\n",
       "      <th>0</th>\n",
       "      <td>0.413562</td>\n",
       "      <td>0.104576</td>\n",
       "      <td>0</td>\n",
       "    </tr>\n",
       "    <tr>\n",
       "      <th>1</th>\n",
       "      <td>0.365488</td>\n",
       "      <td>0.140918</td>\n",
       "      <td>0</td>\n",
       "    </tr>\n",
       "    <tr>\n",
       "      <th>2</th>\n",
       "      <td>0.377855</td>\n",
       "      <td>0.101799</td>\n",
       "      <td>0</td>\n",
       "    </tr>\n",
       "  </tbody>\n",
       "</table>\n",
       "</div>"
      ],
      "text/plain": [
       "   nmf_feature_1  nmf_feature_2  target\n",
       "0       0.413562       0.104576       0\n",
       "1       0.365488       0.140918       0\n",
       "2       0.377855       0.101799       0"
      ]
     },
     "metadata": {},
     "output_type": "display_data"
    }
   ],
   "source": [
    "display(iris_df_nmf.head(3))"
   ]
  },
  {
   "cell_type": "markdown",
   "id": "ace1d784-5c0d-4599-896e-3308077f1f8a",
   "metadata": {},
   "source": [
    "## visualization"
   ]
  },
  {
   "cell_type": "code",
   "execution_count": 11,
   "id": "f5072ee6-0734-43c4-ae9b-ad69c7ecc8d4",
   "metadata": {},
   "outputs": [
    {
     "data": {
      "image/png": "[encoded data removed]",
      "text/plain": [
       "<Figure size 640x480 with 1 Axes>"
      ]
     },
     "metadata": {},
     "output_type": "display_data"
    }
   ],
   "source": [
    "markers = ['^', 's', 'o']\n",
    "\n",
    "for i, marker in enumerate(markers):\n",
    "    x = iris_df_nmf[iris_df_nmf[\"target\"] == i][\"nmf_feature_1\"]\n",
    "    y = iris_df_nmf[iris_df_nmf[\"target\"] == i][\"nmf_feature_2\"]\n",
    "    plt.scatter(x, y, marker=marker, label=iris_dataset.target_names[i])\n",
    "\n",
    "plt.legend()\n",
    "plt.xlabel(\"nmf_feature_1\")\n",
    "plt.ylabel(\"nmf_feature_2\")\n",
    "plt.show()"
   ]
  },
  {
   "attachments": {},
   "cell_type": "markdown",
   "id": "b5198cc4-dcdb-4d54-ad85-e23917671a26",
   "metadata": {},
   "source": [
    "# original features vs NMF features\n",
    "\n",
    "**random forest**"
   ]
  },
  {
   "cell_type": "code",
   "execution_count": 12,
   "id": "b21b7061-dbaf-4a56-9196-dc9182e09b36",
   "metadata": {},
   "outputs": [],
   "source": [
    "from sklearn.ensemble import RandomForestClassifier\n",
    "from sklearn.model_selection import cross_val_score"
   ]
  },
  {
   "cell_type": "code",
   "execution_count": 13,
   "id": "53c27193-28c1-4edc-b454-884a553aafba",
   "metadata": {},
   "outputs": [],
   "source": [
    "classifier = RandomForestClassifier(random_state=156)"
   ]
  },
  {
   "cell_type": "markdown",
   "id": "562cf014-2d46-46f0-b6ac-ad7da1c00e7a",
   "metadata": {},
   "source": [
    "## original features"
   ]
  },
  {
   "cell_type": "code",
   "execution_count": 14,
   "id": "77716bb9-e1d4-4eef-a411-e73174d975d1",
   "metadata": {},
   "outputs": [
    {
     "name": "stdout",
     "output_type": "stream",
     "text": [
      "cross validation accuracy scores: [0.98 0.94 0.96]\n",
      "mean cross valication accuracy score: 0.96\n"
     ]
    }
   ],
   "source": [
    "X, Y = iris_dataset.data, iris_dataset.target\n",
    "\n",
    "scores = cross_val_score(classifier, X, Y, scoring=\"accuracy\", cv=3)\n",
    "\n",
    "print(f\"cross validation accuracy scores: {scores}\")\n",
    "print(f\"mean cross valication accuracy score: {np.mean(scores)}\")"
   ]
  },
  {
   "cell_type": "markdown",
   "id": "b542c655-a960-4e9a-9995-fd574e0f838a",
   "metadata": {},
   "source": [
    "## NMF features"
   ]
  },
  {
   "cell_type": "code",
   "execution_count": 15,
   "id": "081d4ddc-d633-4b9c-bcb8-6d39f57d685c",
   "metadata": {},
   "outputs": [
    {
     "name": "stdout",
     "output_type": "stream",
     "text": [
      "cross validation accuracy scores: [0.98 0.94 0.96]\n",
      "mean cross valication accuracy score: 0.96\n"
     ]
    }
   ],
   "source": [
    "X_nmf = iris_df_nmf[[\"nmf_feature_1\", \"nmf_feature_2\"]]\n",
    "\n",
    "scores = cross_val_score(classifier, X_nmf, Y, scoring=\"accuracy\", cv=3)\n",
    "\n",
    "print(f\"cross validation accuracy scores: {scores}\")\n",
    "print(f\"mean cross valication accuracy score: {np.mean(scores)}\")"
   ]
  }
 ],
 "metadata": {
  "kernelspec": {
   "display_name": "Python 3 (ipykernel)",
   "language": "python",
   "name": "python3"
  },
  "language_info": {
   "codemirror_mode": {
    "name": "ipython",
    "version": 3
   },
   "file_extension": ".py",
   "mimetype": "text/x-python",
   "name": "python",
   "nbconvert_exporter": "python",
   "pygments_lexer": "ipython3",
   "version": "3.11.8"
  }
 },
 "nbformat": 4,
 "nbformat_minor": 5
}
