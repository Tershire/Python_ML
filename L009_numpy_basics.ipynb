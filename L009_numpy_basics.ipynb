{
 "cells": [
  {
   "cell_type": "code",
   "execution_count": 1,
   "id": "98b5fdcb",
   "metadata": {},
   "outputs": [],
   "source": [
    "import numpy as np"
   ]
  },
  {
   "cell_type": "markdown",
   "id": "de73678e",
   "metadata": {},
   "source": [
    "**ndarray**"
   ]
  },
  {
   "cell_type": "code",
   "execution_count": 2,
   "id": "d133a614",
   "metadata": {},
   "outputs": [],
   "source": [
    "array_1D = np.array([1, 2, 3])"
   ]
  },
  {
   "cell_type": "code",
   "execution_count": 3,
   "id": "d3af7f04",
   "metadata": {},
   "outputs": [],
   "source": [
    "array_2D = np.array([[1, 2, 3],\n",
    "                     [2, 3, 4]])"
   ]
  },
  {
   "cell_type": "code",
   "execution_count": 5,
   "id": "fecc8137",
   "metadata": {},
   "outputs": [
    {
     "name": "stdout",
     "output_type": "stream",
     "text": [
      "[1 2 3]\n",
      "[[1 2 3]\n",
      " [2 3 4]]\n"
     ]
    }
   ],
   "source": [
    "print(array_1D)\n",
    "print(array_2D)"
   ]
  },
  {
   "cell_type": "markdown",
   "id": "54ce3460",
   "metadata": {},
   "source": [
    "**shape & dimension**"
   ]
  },
  {
   "cell_type": "code",
   "execution_count": 8,
   "id": "aa292230",
   "metadata": {},
   "outputs": [
    {
     "name": "stdout",
     "output_type": "stream",
     "text": [
      "(3,)\n",
      "(2, 3)\n"
     ]
    }
   ],
   "source": [
    "print(array_1D.shape)\n",
    "print(array_2D.shape)"
   ]
  },
  {
   "cell_type": "code",
   "execution_count": 10,
   "id": "fb33a2c2",
   "metadata": {},
   "outputs": [
    {
     "name": "stdout",
     "output_type": "stream",
     "text": [
      "1\n",
      "2\n",
      "1\n",
      "2\n"
     ]
    }
   ],
   "source": [
    "print(array_1D.ndim)\n",
    "print(array_2D.ndim)\n",
    "\n",
    "print(len(array_1D.shape))\n",
    "print(len(array_2D.shape))"
   ]
  },
  {
   "cell_type": "markdown",
   "id": "49c5c148",
   "metadata": {},
   "source": [
    "*<!> care*"
   ]
  },
  {
   "cell_type": "code",
   "execution_count": 31,
   "id": "f3cf3fee",
   "metadata": {},
   "outputs": [
    {
     "name": "stdout",
     "output_type": "stream",
     "text": [
      "(1, 3)\n",
      "2\n"
     ]
    }
   ],
   "source": [
    "array = np.array([[1, 2, 3]])\n",
    "\n",
    "print(array.shape)\n",
    "print(array.ndim)"
   ]
  },
  {
   "cell_type": "markdown",
   "id": "0601a800",
   "metadata": {},
   "source": [
    "**type conversion**"
   ]
  },
  {
   "cell_type": "code",
   "execution_count": 21,
   "id": "c6b2ccdd",
   "metadata": {},
   "outputs": [
    {
     "name": "stdout",
     "output_type": "stream",
     "text": [
      "float64\n"
     ]
    }
   ],
   "source": [
    "array_float = np.array([1.0, 2.0, 3.0])\n",
    "\n",
    "print(array_float.dtype)"
   ]
  },
  {
   "cell_type": "code",
   "execution_count": 24,
   "id": "27213387",
   "metadata": {},
   "outputs": [
    {
     "name": "stdout",
     "output_type": "stream",
     "text": [
      "float32\n"
     ]
    }
   ],
   "source": [
    "array_float = np.array(array_float, dtype=np.float32)\n",
    "\n",
    "print(array_float.dtype)"
   ]
  },
  {
   "cell_type": "code",
   "execution_count": 27,
   "id": "4168c9ec",
   "metadata": {},
   "outputs": [
    {
     "name": "stdout",
     "output_type": "stream",
     "text": [
      "int32\n"
     ]
    }
   ],
   "source": [
    "array_int = array_float.astype(np.int32)\n",
    "\n",
    "print(array_int.dtype)"
   ]
  },
  {
   "cell_type": "code",
   "execution_count": 28,
   "id": "95b41705",
   "metadata": {},
   "outputs": [
    {
     "name": "stdout",
     "output_type": "stream",
     "text": [
      "int16\n",
      "[1 2 3]\n"
     ]
    }
   ],
   "source": [
    "array_int = array_int.astype(np.int16)\n",
    "\n",
    "print(array_int.dtype)\n",
    "print(array_int)"
   ]
  },
  {
   "cell_type": "code",
   "execution_count": null,
   "id": "48026554",
   "metadata": {},
   "outputs": [],
   "source": []
  }
 ],
 "metadata": {
  "kernelspec": {
   "display_name": "Python 3 (ipykernel)",
   "language": "python",
   "name": "python3"
  },
  "language_info": {
   "codemirror_mode": {
    "name": "ipython",
    "version": 3
   },
   "file_extension": ".py",
   "mimetype": "text/x-python",
   "name": "python",
   "nbconvert_exporter": "python",
   "pygments_lexer": "ipython3",
   "version": "3.11.4"
  }
 },
 "nbformat": 4,
 "nbformat_minor": 5
}
