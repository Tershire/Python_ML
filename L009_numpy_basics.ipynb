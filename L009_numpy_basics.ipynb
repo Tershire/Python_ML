{
 "cells": [
  {
   "cell_type": "code",
   "execution_count": 1,
   "id": "98b5fdcb",
   "metadata": {},
   "outputs": [],
   "source": [
    "import numpy as np"
   ]
  },
  {
   "cell_type": "markdown",
   "id": "de73678e",
   "metadata": {},
   "source": [
    "**ndarray**"
   ]
  },
  {
   "cell_type": "code",
   "execution_count": 2,
   "id": "d133a614",
   "metadata": {},
   "outputs": [],
   "source": [
    "array_1D = np.array([1, 2, 3])"
   ]
  },
  {
   "cell_type": "code",
   "execution_count": 3,
   "id": "d3af7f04",
   "metadata": {},
   "outputs": [],
   "source": [
    "array_2D = np.array([[1, 2, 3],\n",
    "                     [2, 3, 4]])"
   ]
  },
  {
   "cell_type": "code",
   "execution_count": 4,
   "id": "fecc8137",
   "metadata": {},
   "outputs": [
    {
     "name": "stdout",
     "output_type": "stream",
     "text": [
      "[1 2 3]\n",
      "[[1 2 3]\n",
      " [2 3 4]]\n"
     ]
    }
   ],
   "source": [
    "print(array_1D)\n",
    "print(array_2D)"
   ]
  },
  {
   "cell_type": "markdown",
   "id": "54ce3460",
   "metadata": {},
   "source": [
    "**shape & dimension**"
   ]
  },
  {
   "cell_type": "code",
   "execution_count": 5,
   "id": "aa292230",
   "metadata": {},
   "outputs": [
    {
     "name": "stdout",
     "output_type": "stream",
     "text": [
      "(3,)\n",
      "(2, 3)\n"
     ]
    }
   ],
   "source": [
    "print(array_1D.shape)\n",
    "print(array_2D.shape)"
   ]
  },
  {
   "cell_type": "code",
   "execution_count": 6,
   "id": "fb33a2c2",
   "metadata": {},
   "outputs": [
    {
     "name": "stdout",
     "output_type": "stream",
     "text": [
      "1\n",
      "2\n",
      "1\n",
      "2\n"
     ]
    }
   ],
   "source": [
    "print(array_1D.ndim)\n",
    "print(array_2D.ndim)\n",
    "\n",
    "print(len(array_1D.shape))\n",
    "print(len(array_2D.shape))"
   ]
  },
  {
   "cell_type": "markdown",
   "id": "49c5c148",
   "metadata": {},
   "source": [
    "*<!> care*"
   ]
  },
  {
   "cell_type": "code",
   "execution_count": 7,
   "id": "f3cf3fee",
   "metadata": {},
   "outputs": [
    {
     "name": "stdout",
     "output_type": "stream",
     "text": [
      "(1, 3)\n",
      "2\n"
     ]
    }
   ],
   "source": [
    "array = np.array([[1, 2, 3]])\n",
    "\n",
    "print(array.shape)\n",
    "print(array.ndim)"
   ]
  },
  {
   "cell_type": "markdown",
   "id": "0601a800",
   "metadata": {},
   "source": [
    "**type conversion**"
   ]
  },
  {
   "cell_type": "code",
   "execution_count": 8,
   "id": "c6b2ccdd",
   "metadata": {},
   "outputs": [
    {
     "name": "stdout",
     "output_type": "stream",
     "text": [
      "float64\n"
     ]
    }
   ],
   "source": [
    "array_float = np.array([1.0, 2.0, 3.0])\n",
    "\n",
    "print(array_float.dtype)"
   ]
  },
  {
   "cell_type": "code",
   "execution_count": 9,
   "id": "27213387",
   "metadata": {},
   "outputs": [
    {
     "name": "stdout",
     "output_type": "stream",
     "text": [
      "float32\n"
     ]
    }
   ],
   "source": [
    "array_float = np.array(array_float, dtype=np.float32)\n",
    "\n",
    "print(array_float.dtype)"
   ]
  },
  {
   "cell_type": "code",
   "execution_count": 10,
   "id": "4168c9ec",
   "metadata": {},
   "outputs": [
    {
     "name": "stdout",
     "output_type": "stream",
     "text": [
      "int32\n"
     ]
    }
   ],
   "source": [
    "array_int = array_float.astype(np.int32)\n",
    "\n",
    "print(array_int.dtype)"
   ]
  },
  {
   "cell_type": "code",
   "execution_count": 11,
   "id": "95b41705",
   "metadata": {},
   "outputs": [
    {
     "name": "stdout",
     "output_type": "stream",
     "text": [
      "int16\n",
      "[1 2 3]\n"
     ]
    }
   ],
   "source": [
    "array_int = array_int.astype(np.int16)\n",
    "\n",
    "print(array_int.dtype)\n",
    "print(array_int)"
   ]
  },
  {
   "cell_type": "markdown",
   "id": "cac4128b",
   "metadata": {},
   "source": [
    "**frequently used initialization methods**"
   ]
  },
  {
   "cell_type": "markdown",
   "id": "4c6b2e20",
   "metadata": {},
   "source": [
    "*arange*"
   ]
  },
  {
   "cell_type": "code",
   "execution_count": 12,
   "id": "a9eff3c3",
   "metadata": {},
   "outputs": [
    {
     "name": "stdout",
     "output_type": "stream",
     "text": [
      "[3 5 7 9] int32\n",
      "[0 1 2 3 4 5 6 7 8 9]\n"
     ]
    }
   ],
   "source": [
    "array = np.arange(3, 10, 2)\n",
    "print(array, array.dtype)\n",
    "\n",
    "print(np.arange(10))"
   ]
  },
  {
   "cell_type": "markdown",
   "id": "ad50ca64",
   "metadata": {},
   "source": [
    "*zeros & ones*"
   ]
  },
  {
   "cell_type": "code",
   "execution_count": 13,
   "id": "424d88f1",
   "metadata": {},
   "outputs": [
    {
     "name": "stdout",
     "output_type": "stream",
     "text": [
      "[[0. 0. 0.]\n",
      " [0. 0. 0.]] float64\n",
      "[[1. 1. 1.]\n",
      " [1. 1. 1.]] float64\n"
     ]
    }
   ],
   "source": [
    "array0 = np.zeros((2, 3))\n",
    "array1 = np.ones((2, 3))\n",
    "\n",
    "print(array0, array0.dtype)\n",
    "print(array1, array1.dtype)"
   ]
  },
  {
   "cell_type": "code",
   "execution_count": 14,
   "id": "dab29207",
   "metadata": {},
   "outputs": [
    {
     "name": "stdout",
     "output_type": "stream",
     "text": [
      "[[0 0 0]\n",
      " [0 0 0]] int32\n",
      "[[1 1 1]\n",
      " [1 1 1]] int32\n"
     ]
    }
   ],
   "source": [
    "array0 = np.zeros((2, 3), dtype=np.int32)\n",
    "array1 = np.ones((2, 3), dtype=np.int32)\n",
    "\n",
    "print(array0, array0.dtype)\n",
    "print(array1, array1.dtype)"
   ]
  },
  {
   "cell_type": "markdown",
   "id": "ad5dfb76",
   "metadata": {},
   "source": [
    "**reshape**"
   ]
  },
  {
   "cell_type": "code",
   "execution_count": 15,
   "id": "441b4411",
   "metadata": {},
   "outputs": [
    {
     "name": "stdout",
     "output_type": "stream",
     "text": [
      "[[0 1 2]\n",
      " [3 4 5]]\n",
      "[[0 1]\n",
      " [2 3]\n",
      " [4 5]]\n"
     ]
    }
   ],
   "source": [
    "array = np.arange(6)\n",
    "\n",
    "array = array.reshape(-1, 3)\n",
    "print(array)\n",
    "\n",
    "array = array.reshape(3, -1)\n",
    "print(array)"
   ]
  },
  {
   "cell_type": "code",
   "execution_count": 16,
   "id": "cbdc341f",
   "metadata": {},
   "outputs": [
    {
     "name": "stdout",
     "output_type": "stream",
     "text": [
      "[[[ 0  1  2]\n",
      "  [ 3  4  5]]\n",
      "\n",
      " [[ 6  7  8]\n",
      "  [ 9 10 11]]]\n"
     ]
    }
   ],
   "source": [
    "array = np.arange(12)\n",
    "\n",
    "array = array.reshape(2, 2, 3)\n",
    "print(array)"
   ]
  },
  {
   "cell_type": "code",
   "execution_count": 17,
   "id": "c7c163ec",
   "metadata": {},
   "outputs": [
    {
     "name": "stdout",
     "output_type": "stream",
     "text": [
      "[[0], [1], [2], [3], [4], [5], [6], [7], [8], [9], [10], [11]]\n"
     ]
    }
   ],
   "source": [
    "array = array.reshape(-1, 1)\n",
    "print(array.tolist())\n"
   ]
  },
  {
   "cell_type": "code",
   "execution_count": 18,
   "id": "8d2e0c7a",
   "metadata": {},
   "outputs": [
    {
     "name": "stdout",
     "output_type": "stream",
     "text": [
      "[[0]\n",
      " [1]\n",
      " [2]]\n",
      "[0 1 2]\n"
     ]
    }
   ],
   "source": [
    "array = np.arange(3)\n",
    "array_V = array.reshape(-1, 1)\n",
    "print(array_V)\n",
    "\n",
    "array_H = array.reshape(-1,)\n",
    "print(array_H)"
   ]
  },
  {
   "cell_type": "markdown",
   "id": "a65a7dc2",
   "metadata": {},
   "source": [
    "**Indexing**"
   ]
  },
  {
   "cell_type": "markdown",
   "id": "ededdcef",
   "metadata": {},
   "source": [
    "*<M1> Single Indexing*"
   ]
  },
  {
   "cell_type": "code",
   "execution_count": 19,
   "id": "37378f82",
   "metadata": {},
   "outputs": [
    {
     "name": "stdout",
     "output_type": "stream",
     "text": [
      "4\n"
     ]
    }
   ],
   "source": [
    "array = np.arange(1, 10)\n",
    "print(array[3])"
   ]
  },
  {
   "cell_type": "markdown",
   "id": "0ebb30ab",
   "metadata": {},
   "source": [
    "    *for 2D array*"
   ]
  },
  {
   "cell_type": "code",
   "execution_count": 20,
   "id": "f8e9b814",
   "metadata": {},
   "outputs": [
    {
     "name": "stdout",
     "output_type": "stream",
     "text": [
      "[[1 2 3]\n",
      " [4 5 6]\n",
      " [7 8 9]]\n",
      "4\n"
     ]
    }
   ],
   "source": [
    "array = array.reshape(-1, 3)\n",
    "print(array)\n",
    "\n",
    "print(array[1, 0])"
   ]
  },
  {
   "cell_type": "markdown",
   "id": "57bdf564",
   "metadata": {},
   "source": [
    "*Slicing*"
   ]
  },
  {
   "cell_type": "code",
   "execution_count": 21,
   "id": "e41235c4",
   "metadata": {},
   "outputs": [
    {
     "name": "stdout",
     "output_type": "stream",
     "text": [
      "[[1 2 3]\n",
      " [4 5 6]]\n",
      "[5 6]\n",
      "[5 8]\n",
      "(2,)\n"
     ]
    }
   ],
   "source": [
    "print(array[0:-1, :])\n",
    "\n",
    "print(array[1, 1:])\n",
    "\n",
    "print(array[1:, 1]) # <!> becomes a 1D array\n",
    "print(array[1:, 1].shape)"
   ]
  },
  {
   "cell_type": "markdown",
   "id": "3f506862",
   "metadata": {},
   "source": [
    "    *Omit*"
   ]
  },
  {
   "cell_type": "code",
   "execution_count": 22,
   "id": "048afc01",
   "metadata": {},
   "outputs": [
    {
     "name": "stdout",
     "output_type": "stream",
     "text": [
      "[7 8 9]\n",
      "[[1 2 3]\n",
      " [4 5 6]]\n"
     ]
    }
   ],
   "source": [
    "print(array[2]) # get the row\n",
    "\n",
    "print(array[:2])"
   ]
  },
  {
   "cell_type": "markdown",
   "id": "d816682f",
   "metadata": {},
   "source": [
    "*Fancy Indexing*"
   ]
  },
  {
   "cell_type": "code",
   "execution_count": 23,
   "id": "60fae2f6",
   "metadata": {},
   "outputs": [
    {
     "name": "stdout",
     "output_type": "stream",
     "text": [
      "[[ 0  1  2  3]\n",
      " [ 4  5  6  7]\n",
      " [ 8  9 10 11]\n",
      " [12 13 14 15]]\n"
     ]
    }
   ],
   "source": [
    "array = np.arange(16)\n",
    "array = array.reshape(-1, 4)\n",
    "print(array)"
   ]
  },
  {
   "cell_type": "code",
   "execution_count": 29,
   "id": "e77181da",
   "metadata": {},
   "outputs": [
    {
     "name": "stdout",
     "output_type": "stream",
     "text": [
      "[[ 1  2  3]\n",
      " [ 9 10 11]]\n",
      "[ 0 11]\n"
     ]
    }
   ],
   "source": [
    "print(array[list(range(0, 3, 2)), 1:])\n",
    "\n",
    "print(array[list(range(0, 3, 2)), [0, 3]])"
   ]
  },
  {
   "cell_type": "markdown",
   "id": "81c2a158",
   "metadata": {},
   "source": [
    "*Boolean Indexing*"
   ]
  },
  {
   "cell_type": "code",
   "execution_count": 35,
   "id": "732d2f0e",
   "metadata": {},
   "outputs": [
    {
     "name": "stdout",
     "output_type": "stream",
     "text": [
      "[[ 4  5  6  7]\n",
      " [12 13 14 15]]\n"
     ]
    }
   ],
   "source": [
    "array = np.arange(16)\n",
    "array = array.reshape(-1, 4)\n",
    "array = array[[1, 3], :]\n",
    "print(array)"
   ]
  },
  {
   "cell_type": "code",
   "execution_count": 37,
   "id": "d39ec55e",
   "metadata": {},
   "outputs": [
    {
     "name": "stdout",
     "output_type": "stream",
     "text": [
      "[[False False False  True]\n",
      " [ True  True  True  True]]\n",
      "[ 7 12 13 14 15]\n"
     ]
    }
   ],
   "source": [
    "print(array > 6)\n",
    "print(array[array > 6])"
   ]
  },
  {
   "cell_type": "code",
   "execution_count": null,
   "id": "b95adf9f",
   "metadata": {},
   "outputs": [],
   "source": []
  }
 ],
 "metadata": {
  "kernelspec": {
   "display_name": "Python 3 (ipykernel)",
   "language": "python",
   "name": "python3"
  },
  "language_info": {
   "codemirror_mode": {
    "name": "ipython",
    "version": 3
   },
   "file_extension": ".py",
   "mimetype": "text/x-python",
   "name": "python",
   "nbconvert_exporter": "python",
   "pygments_lexer": "ipython3",
   "version": "3.11.4"
  }
 },
 "nbformat": 4,
 "nbformat_minor": 5
}
